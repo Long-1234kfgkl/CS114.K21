{
  "nbformat": 4,
  "nbformat_minor": 0,
  "metadata": {
    "colab": {
      "name": "doanTTNT.ipynb",
      "provenance": [],
      "authorship_tag": "ABX9TyOK/we+4FBN9LvqG7IdSiH0",
      "include_colab_link": true
    },
    "kernelspec": {
      "name": "python3",
      "display_name": "Python 3"
    }
  },
  "cells": [
    {
      "cell_type": "markdown",
      "metadata": {
        "id": "view-in-github",
        "colab_type": "text"
      },
      "source": [
        "<a href=\"https://colab.research.google.com/github/Long-1234kfgkl/CS114.K21/blob/master/doanTTNT.ipynb\" target=\"_parent\"><img src=\"https://colab.research.google.com/assets/colab-badge.svg\" alt=\"Open In Colab\"/></a>"
      ]
    },
    {
      "cell_type": "code",
      "metadata": {
        "id": "yVnBMJAKd509",
        "colab_type": "code",
        "colab": {
          "resources": {
            "http://localhost:8080/nbextensions/google.colab/files.js": {
              "data": "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",
              "ok": true,
              "headers": [
                [
                  "content-type",
                  "application/javascript"
                ]
              ],
              "status": 200,
              "status_text": ""
            }
          },
          "base_uri": "https://localhost:8080/",
          "height": 73
        },
        "outputId": "be2ac87a-0698-469d-e567-e326d4d28af4"
      },
      "source": [
        "from google.colab import files\n",
        "uploaded = files.upload()"
      ],
      "execution_count": null,
      "outputs": [
        {
          "output_type": "display_data",
          "data": {
            "text/html": [
              "\n",
              "     <input type=\"file\" id=\"files-02abdc11-6f73-4caf-bac7-f45b87034e3d\" name=\"files[]\" multiple disabled\n",
              "        style=\"border:none\" />\n",
              "     <output id=\"result-02abdc11-6f73-4caf-bac7-f45b87034e3d\">\n",
              "      Upload widget is only available when the cell has been executed in the\n",
              "      current browser session. Please rerun this cell to enable.\n",
              "      </output>\n",
              "      <script src=\"/nbextensions/google.colab/files.js\"></script> "
            ],
            "text/plain": [
              "<IPython.core.display.HTML object>"
            ]
          },
          "metadata": {
            "tags": []
          }
        },
        {
          "output_type": "stream",
          "text": [
            "Saving Crawl.csv to Crawl.csv\n"
          ],
          "name": "stdout"
        }
      ]
    },
    {
      "cell_type": "code",
      "metadata": {
        "id": "J_aZqkRUeK_r",
        "colab_type": "code",
        "colab": {}
      },
      "source": [
        "import numpy as np \n",
        "import pandas as pd \n",
        "from nltk.corpus import stopwords\n",
        "from nltk.tokenize import regexp_tokenize\n",
        "from nltk.tokenize import word_tokenize\n",
        "import gensim\n",
        "from tqdm import tqdm\n",
        "import json"
      ],
      "execution_count": null,
      "outputs": []
    },
    {
      "cell_type": "code",
      "metadata": {
        "id": "2moUXFhVeVRP",
        "colab_type": "code",
        "colab": {
          "base_uri": "https://localhost:8080/",
          "height": 615
        },
        "outputId": "5abd1aca-d209-4a03-e2e8-7121056f7b8d"
      },
      "source": [
        "dataset=pd.read_csv(\"Crawl.csv\",encoding='ISO 8859-1')\n",
        "dataset.head()\n"
      ],
      "execution_count": null,
      "outputs": [
        {
          "output_type": "execute_result",
          "data": {
            "text/html": [
              "<div>\n",
              "<style scoped>\n",
              "    .dataframe tbody tr th:only-of-type {\n",
              "        vertical-align: middle;\n",
              "    }\n",
              "\n",
              "    .dataframe tbody tr th {\n",
              "        vertical-align: top;\n",
              "    }\n",
              "\n",
              "    .dataframe thead th {\n",
              "        text-align: right;\n",
              "    }\n",
              "</style>\n",
              "<table border=\"1\" class=\"dataframe\">\n",
              "  <thead>\n",
              "    <tr style=\"text-align: right;\">\n",
              "      <th></th>\n",
              "      <th>REAL Housewives of Orange County star Braunwyn Windham-Burke blasted her show's network, Bravo, for not speaking more about Black Lives Matter.The 42-year-old reality star reposted a message written and co-signed by 13 different Bravo fan accounts that demanded the television giant use their platform for change.7 The RHOC star urged her show's network to speak out more about the BLM movement Credit: Getty Images - Getty7 Braunwyn reposted the message that was written by Bravo fan accounts Credit: Instagram7 The statement called out a livestream that will not air on the TV network Credit: Bravo/InstagramThe statement read: 'We represent the many thousands of fans who are demanding that Bravo use their television platform to strongly stand with the Black Lives Matter movement.'Since George Floyd's murder, and in the days that followed, we have been disheartened to see nothing more than lip service paid to the Black Lives Matter movement on Bravo social media.'The network recently announced an Amplify Our Voices Instagram livestream that will feature Kandi Buruss and Porsha Williams of The Real Housewives of Atlanta and Gizelle Bryant from The Real Housewives of Potomac.'Bravo is a television network, with the power to air this conversation on the widest available platform,' the letter continued.7 The reality star attended a BLM protest in Orange County this week Credit: Instagram'This panel must air on the network itself. Why rely on social media alone at such a pivotal time?'Black Lives Matter. Including Bravo talent and viewership. Bravo has a platform and a voice. Own it,' the fans urged.Braunwyn shared the message in a since-deleted Instagram Story and noted that 'they have a point' before the RHOC star tagged Bravo's account handle.The network announced on Friday that it will stream the special to 'amplify activism' on their social media page, but has not yet made a change to air it on TV.Porsha, 38, has attended multiple BLM protests in her hometown of Atlanta, Georgia and posted powerful images last week.7 Porsha attended multiple protests in Atlanta this week Credit: InstagramShe wore a face mask while speaking to news reporters Credit: CBS467 RHOP star Gizelle proudly showed off her homemade sign during a protest Credit: Instagram'I saw people who were my age who felt the energy of it. I suggest that you go within your lifetime - this is what we're dealing with.'This is how you be a part of it. I suggest that you do be a part of a peaceful march in your community.'When I went out, what I witnessed was young people who were very intelligent. They had a message. They were articulate,' she said of the next generation.Gizelle, 49, attended a protest last week and proudly showed off a homemade sign that read: 'No justice, no peace.'7 Kandi will join her cast mates for Mondays livestream Credit: Getty Images - GettyMost Read in Entertainment 'BOSS BABE' Mackenzie McKee buys new car with cash after reuniting with 'cheating' husband 'I STARTED CRYING' Teen Mom's Jo Rivera rushes daughter to ER with pom pom up her nose BIG PROBLEM Audrey Roloff says she's 'weathered a shame storm' after in-law Jacob's attack LEGEND LOST Grammy-winning Motown singer Bonnie Pointer of the Pointer Sisters dead at 69 STAYING STRONG Glee star Becca Tobin 'not ashamed' her 'vagina was all over internet' AL FRESCO Alessandra Ambrosio flaunts her amazing figure while relaxing in a swimming pool'My girls made our signs and wanted to be the 1st ones there. You have to talk to your children so that they understand because they too want their voices heard,' the RHOP star added.Kandi, 44, said last week that the 'unnecessary killings of African Americans has become all to common.'She urged that 'it has got to stop,' alongside a picture of George Floyd.Bravo has not yet returned The Sun's request for comment.The Amplify Our Voices event on the 'open dialogue on being black in America' will be live streamed on Monday, Jun 8 at 7pm EST on Bravo's Instagram.</th>\n",
              "      <th>entertainment</th>\n",
              "    </tr>\n",
              "  </thead>\n",
              "  <tbody>\n",
              "    <tr>\n",
              "      <th>0</th>\n",
              "      <td>VANDERPUMP Rules star Stassi Schroeder has iss...</td>\n",
              "      <td>entertainment</td>\n",
              "    </tr>\n",
              "    <tr>\n",
              "      <th>1</th>\n",
              "      <td>KATY Perry revealed her baby bump has grown la...</td>\n",
              "      <td>entertainment</td>\n",
              "    </tr>\n",
              "    <tr>\n",
              "      <th>2</th>\n",
              "      <td>HELEN Flanagan has posed in her underwear and ...</td>\n",
              "      <td>entertainment</td>\n",
              "    </tr>\n",
              "    <tr>\n",
              "      <th>3</th>\n",
              "      <td>KILLING Eve fans have been left in tears over ...</td>\n",
              "      <td>entertainment</td>\n",
              "    </tr>\n",
              "    <tr>\n",
              "      <th>4</th>\n",
              "      <td>WENDY Williams said she has 'moves to make' a...</td>\n",
              "      <td>entertainment</td>\n",
              "    </tr>\n",
              "  </tbody>\n",
              "</table>\n",
              "</div>"
            ],
            "text/plain": [
              "  REAL Housewives of Orange County star Braunwyn Windham-Burke blasted her show's network, Bravo, for not speaking more about Black Lives Matter.The 42-year-old reality star reposted a message written and co-signed by 13 different Bravo fan accounts that demanded the television giant use their platform for change.7 The RHOC star urged her show's network to speak out more about the BLM movement Credit: Getty Images - Getty7 Braunwyn reposted the message that was written by Bravo fan accounts Credit: Instagram7 The statement called out a livestream that will not air on the TV network Credit: Bravo/InstagramThe statement read: 'We represent the many thousands of fans who are demanding that Bravo use their television platform to strongly stand with the Black Lives Matter movement.'Since George Floyd's murder, and in the days that followed, we have been disheartened to see nothing more than lip service paid to the Black Lives Matter movement on Bravo social media.'The network recently announced an Amplify Our Voices Instagram livestream that will feature Kandi Buruss and Porsha Williams of The Real Housewives of Atlanta and Gizelle Bryant from The Real Housewives of Potomac.'Bravo is a television network, with the power to air this conversation on the widest available platform,' the letter continued.7 The reality star attended a BLM protest in Orange County this week Credit: Instagram'This panel must air on the network itself. Why rely on social media alone at such a pivotal time?'Black Lives Matter. Including Bravo talent and viewership. Bravo has a platform and a voice. Own it,' the fans urged.Braunwyn shared the message in a since-deleted Instagram Story and noted that 'they have a point' before the RHOC star tagged Bravo's account handle.The network announced on Friday that it will stream the special to 'amplify activism' on their social media page, but has not yet made a change to air it on TV.Porsha, 38, has attended multiple BLM protests in her hometown of Atlanta, Georgia and posted powerful images last week.7 Porsha attended multiple protests in Atlanta this week Credit: InstagramShe wore a face mask while speaking to news reporters Credit: CBS467 RHOP star Gizelle proudly showed off her homemade sign during a protest Credit: Instagram'I saw people who were my age who felt the energy of it. I suggest that you go within your lifetime - this is what we're dealing with.'This is how you be a part of it. I suggest that you do be a part of a peaceful march in your community.'When I went out, what I witnessed was young people who were very intelligent. They had a message. They were articulate,' she said of the next generation.Gizelle, 49, attended a protest last week and proudly showed off a homemade sign that read: 'No justice, no peace.'7 Kandi will join her cast mates for Mondays livestream Credit: Getty Images - GettyMost Read in Entertainment 'BOSS BABE' Mackenzie McKee buys new car with cash after reuniting with 'cheating' husband 'I STARTED CRYING' Teen Mom's Jo Rivera rushes daughter to ER with pom pom up her nose BIG PROBLEM Audrey Roloff says she's 'weathered a shame storm' after in-law Jacob's attack LEGEND LOST Grammy-winning Motown singer Bonnie Pointer of the Pointer Sisters dead at 69 STAYING STRONG Glee star Becca Tobin 'not ashamed' her 'vagina was all over internet' AL FRESCO Alessandra Ambrosio flaunts her amazing figure while relaxing in a swimming pool'My girls made our signs and wanted to be the 1st ones there. You have to talk to your children so that they understand because they too want their voices heard,' the RHOP star added.Kandi, 44, said last week that the 'unnecessary killings of African Americans has become all to common.'She urged that 'it has got to stop,' alongside a picture of George Floyd.Bravo has not yet returned The Sun's request for comment.The Amplify Our Voices event on the 'open dialogue on being black in America' will be live streamed on Monday, Jun 8 at 7pm EST on Bravo's Instagram.  entertainment\n",
              "0  VANDERPUMP Rules star Stassi Schroeder has iss...                                                                                                                                                                                                                                                                                                                                                                                                                                                                                                                                                                                                                                                                                                                                                                                                                                                                                                                                                                                                                                                                                                                                                                                                                                                                                                                                                                                                                                                                                                                                                                                                                                                                                                                                                                                                                                                                                                                                                                                                                                                                                                                                                                                                                                                                                                                                                                                                                                                                                                                                                                                                                                                                                                                                                                                                                                                                                                                                                                                                                                                                                                                                                                                                                                                                                                                                                                                                                                                                                                                                                                                                                                                                                                                                                                                                                                                                                                                                                                                                                                                                                                                       entertainment\n",
              "1  KATY Perry revealed her baby bump has grown la...                                                                                                                                                                                                                                                                                                                                                                                                                                                                                                                                                                                                                                                                                                                                                                                                                                                                                                                                                                                                                                                                                                                                                                                                                                                                                                                                                                                                                                                                                                                                                                                                                                                                                                                                                                                                                                                                                                                                                                                                                                                                                                                                                                                                                                                                                                                                                                                                                                                                                                                                                                                                                                                                                                                                                                                                                                                                                                                                                                                                                                                                                                                                                                                                                                                                                                                                                                                                                                                                                                                                                                                                                                                                                                                                                                                                                                                                                                                                                                                                                                                                                                                       entertainment\n",
              "2  HELEN Flanagan has posed in her underwear and ...                                                                                                                                                                                                                                                                                                                                                                                                                                                                                                                                                                                                                                                                                                                                                                                                                                                                                                                                                                                                                                                                                                                                                                                                                                                                                                                                                                                                                                                                                                                                                                                                                                                                                                                                                                                                                                                                                                                                                                                                                                                                                                                                                                                                                                                                                                                                                                                                                                                                                                                                                                                                                                                                                                                                                                                                                                                                                                                                                                                                                                                                                                                                                                                                                                                                                                                                                                                                                                                                                                                                                                                                                                                                                                                                                                                                                                                                                                                                                                                                                                                                                                                       entertainment\n",
              "3  KILLING Eve fans have been left in tears over ...                                                                                                                                                                                                                                                                                                                                                                                                                                                                                                                                                                                                                                                                                                                                                                                                                                                                                                                                                                                                                                                                                                                                                                                                                                                                                                                                                                                                                                                                                                                                                                                                                                                                                                                                                                                                                                                                                                                                                                                                                                                                                                                                                                                                                                                                                                                                                                                                                                                                                                                                                                                                                                                                                                                                                                                                                                                                                                                                                                                                                                                                                                                                                                                                                                                                                                                                                                                                                                                                                                                                                                                                                                                                                                                                                                                                                                                                                                                                                                                                                                                                                                                       entertainment\n",
              "4  WENDY Williams said she has 'moves to make' a...                                                                                                                                                                                                                                                                                                                                                                                                                                                                                                                                                                                                                                                                                                                                                                                                                                                                                                                                                                                                                                                                                                                                                                                                                                                                                                                                                                                                                                                                                                                                                                                                                                                                                                                                                                                                                                                                                                                                                                                                                                                                                                                                                                                                                                                                                                                                                                                                                                                                                                                                                                                                                                                                                                                                                                                                                                                                                                                                                                                                                                                                                                                                                                                                                                                                                                                                                                                                                                                                                                                                                                                                                                                                                                                                                                                                                                                                                                                                                                                                                                                                                                                       entertainment"
            ]
          },
          "metadata": {
            "tags": []
          },
          "execution_count": 2
        }
      ]
    },
    {
      "cell_type": "code",
      "metadata": {
        "id": "JsMMnr4mfpie",
        "colab_type": "code",
        "colab": {
          "base_uri": "https://localhost:8080/",
          "height": 195
        },
        "outputId": "0df6854c-e520-49b3-cf96-1e13eadb8f06"
      },
      "source": [
        "dataset.columns=[\"article\",\"category\"]\n",
        "dataset.head()"
      ],
      "execution_count": null,
      "outputs": [
        {
          "output_type": "execute_result",
          "data": {
            "text/html": [
              "<div>\n",
              "<style scoped>\n",
              "    .dataframe tbody tr th:only-of-type {\n",
              "        vertical-align: middle;\n",
              "    }\n",
              "\n",
              "    .dataframe tbody tr th {\n",
              "        vertical-align: top;\n",
              "    }\n",
              "\n",
              "    .dataframe thead th {\n",
              "        text-align: right;\n",
              "    }\n",
              "</style>\n",
              "<table border=\"1\" class=\"dataframe\">\n",
              "  <thead>\n",
              "    <tr style=\"text-align: right;\">\n",
              "      <th></th>\n",
              "      <th>article</th>\n",
              "      <th>category</th>\n",
              "    </tr>\n",
              "  </thead>\n",
              "  <tbody>\n",
              "    <tr>\n",
              "      <th>0</th>\n",
              "      <td>VANDERPUMP Rules star Stassi Schroeder has iss...</td>\n",
              "      <td>entertainment</td>\n",
              "    </tr>\n",
              "    <tr>\n",
              "      <th>1</th>\n",
              "      <td>KATY Perry revealed her baby bump has grown la...</td>\n",
              "      <td>entertainment</td>\n",
              "    </tr>\n",
              "    <tr>\n",
              "      <th>2</th>\n",
              "      <td>HELEN Flanagan has posed in her underwear and ...</td>\n",
              "      <td>entertainment</td>\n",
              "    </tr>\n",
              "    <tr>\n",
              "      <th>3</th>\n",
              "      <td>KILLING Eve fans have been left in tears over ...</td>\n",
              "      <td>entertainment</td>\n",
              "    </tr>\n",
              "    <tr>\n",
              "      <th>4</th>\n",
              "      <td>WENDY Williams said she has 'moves to make' a...</td>\n",
              "      <td>entertainment</td>\n",
              "    </tr>\n",
              "  </tbody>\n",
              "</table>\n",
              "</div>"
            ],
            "text/plain": [
              "                                             article       category\n",
              "0  VANDERPUMP Rules star Stassi Schroeder has iss...  entertainment\n",
              "1  KATY Perry revealed her baby bump has grown la...  entertainment\n",
              "2  HELEN Flanagan has posed in her underwear and ...  entertainment\n",
              "3  KILLING Eve fans have been left in tears over ...  entertainment\n",
              "4  WENDY Williams said she has 'moves to make' a...  entertainment"
            ]
          },
          "metadata": {
            "tags": []
          },
          "execution_count": 3
        }
      ]
    },
    {
      "cell_type": "code",
      "metadata": {
        "id": "bqsUiwwjepqM",
        "colab_type": "code",
        "colab": {
          "base_uri": "https://localhost:8080/",
          "height": 302
        },
        "outputId": "76d3cce3-6638-43fc-96c9-e0c5f582c55a"
      },
      "source": [
        "! pip install gensim"
      ],
      "execution_count": null,
      "outputs": [
        {
          "output_type": "stream",
          "text": [
            "Requirement already satisfied: gensim in /usr/local/lib/python3.6/dist-packages (3.6.0)\n",
            "Requirement already satisfied: scipy>=0.18.1 in /usr/local/lib/python3.6/dist-packages (from gensim) (1.4.1)\n",
            "Requirement already satisfied: six>=1.5.0 in /usr/local/lib/python3.6/dist-packages (from gensim) (1.12.0)\n",
            "Requirement already satisfied: numpy>=1.11.3 in /usr/local/lib/python3.6/dist-packages (from gensim) (1.18.5)\n",
            "Requirement already satisfied: smart-open>=1.2.1 in /usr/local/lib/python3.6/dist-packages (from gensim) (2.0.0)\n",
            "Requirement already satisfied: boto in /usr/local/lib/python3.6/dist-packages (from smart-open>=1.2.1->gensim) (2.49.0)\n",
            "Requirement already satisfied: boto3 in /usr/local/lib/python3.6/dist-packages (from smart-open>=1.2.1->gensim) (1.14.2)\n",
            "Requirement already satisfied: requests in /usr/local/lib/python3.6/dist-packages (from smart-open>=1.2.1->gensim) (2.23.0)\n",
            "Requirement already satisfied: jmespath<1.0.0,>=0.7.1 in /usr/local/lib/python3.6/dist-packages (from boto3->smart-open>=1.2.1->gensim) (0.10.0)\n",
            "Requirement already satisfied: s3transfer<0.4.0,>=0.3.0 in /usr/local/lib/python3.6/dist-packages (from boto3->smart-open>=1.2.1->gensim) (0.3.3)\n",
            "Requirement already satisfied: botocore<1.18.0,>=1.17.2 in /usr/local/lib/python3.6/dist-packages (from boto3->smart-open>=1.2.1->gensim) (1.17.2)\n",
            "Requirement already satisfied: idna<3,>=2.5 in /usr/local/lib/python3.6/dist-packages (from requests->smart-open>=1.2.1->gensim) (2.9)\n",
            "Requirement already satisfied: certifi>=2017.4.17 in /usr/local/lib/python3.6/dist-packages (from requests->smart-open>=1.2.1->gensim) (2020.4.5.2)\n",
            "Requirement already satisfied: urllib3!=1.25.0,!=1.25.1,<1.26,>=1.21.1 in /usr/local/lib/python3.6/dist-packages (from requests->smart-open>=1.2.1->gensim) (1.24.3)\n",
            "Requirement already satisfied: chardet<4,>=3.0.2 in /usr/local/lib/python3.6/dist-packages (from requests->smart-open>=1.2.1->gensim) (3.0.4)\n",
            "Requirement already satisfied: docutils<0.16,>=0.10 in /usr/local/lib/python3.6/dist-packages (from botocore<1.18.0,>=1.17.2->boto3->smart-open>=1.2.1->gensim) (0.15.2)\n",
            "Requirement already satisfied: python-dateutil<3.0.0,>=2.1 in /usr/local/lib/python3.6/dist-packages (from botocore<1.18.0,>=1.17.2->boto3->smart-open>=1.2.1->gensim) (2.8.1)\n"
          ],
          "name": "stdout"
        }
      ]
    },
    {
      "cell_type": "code",
      "metadata": {
        "id": "xl57WjMye1XH",
        "colab_type": "code",
        "colab": {
          "base_uri": "https://localhost:8080/",
          "height": 138
        },
        "outputId": "51051860-c45d-4b16-d3eb-7246676fc229"
      },
      "source": [
        "import gensim\n",
        "import nltk\n",
        "nltk.download('stopwords')\n",
        "nltk.download('punkt')\n",
        "X = []\n",
        "y = []\n",
        "\n",
        "for index, rows in dataset.iterrows():\n",
        "    line = rows.article\n",
        "    line = gensim.utils.simple_preprocess(line)\n",
        "    line = ' '.join(line)\n",
        "    stop_words = set(stopwords.words('english')) \n",
        "  \n",
        "    word_tokens = word_tokenize(line) \n",
        "  \n",
        "    filtered_sentence = [w for w in word_tokens if not w in stop_words] \n",
        "  \n",
        "    filtered_sentence = [] \n",
        "  \n",
        "    for w in word_tokens: \n",
        "        if w not in stop_words: \n",
        "            filtered_sentence.append(w) \n",
        "    line = filtered_sentence\n",
        "    line = ' '.join(line)\n",
        "    \n",
        "    X.append(line)\n",
        "    line1 = rows.category\n",
        "    y.append(line1)\n",
        "print (X[0])\n",
        "print (y[0])"
      ],
      "execution_count": null,
      "outputs": [
        {
          "output_type": "stream",
          "text": [
            "[nltk_data] Downloading package stopwords to /root/nltk_data...\n",
            "[nltk_data]   Package stopwords is already up-to-date!\n",
            "[nltk_data] Downloading package punkt to /root/nltk_data...\n",
            "[nltk_data]   Package punkt is already up-to-date!\n",
            "vanderpump rules star stassi schroeder issued apology racially insensitive comments towards ex costar faith stowers bravo star got dropped multiple sponsors week came fire allegations previously called cops black cast mate stassi apologized racially insensitive comments credit getty images getty bravo star confessed excuse past behavior credit instagram former vpr star faith said stassi tried call cops credit getty images gettystassi posted lengthy note remorse million instagram followers sunday racially insensitive comments past resurfaced important continue take accountability said done pushing better grown significantly person still filled remorse regret hurt caused grateful people life continue check push evolve educated person reality star wrote vanderpump rules star dropped several sponsors racism claims credit bravo glamour magazine longer wants report upcoming wedding beau credit getty images gettyshe continued emotions something happened friends outweighed logic excuse recognize serious ramifications could transpired actions stassi addressed ex vpr cast mate specifically faith wrong apologize expect forgiveness also sorry anyone else feels disappointed going continue look closer actions take time listen learn take accountability privilege concluded faith recalled stassi called cops credit instagram vpr alum said stassi kristen called cops reading article african american lady credit getty images gettylast week former sur employee faith called stassi costar kristen doute instagram live telling floribama shore star candace rice attacked faith explained stassi kristen called authorities seeing report african american woman allegedly drugging robbing men la bravo star said article african american lady weird photo looked light skinned different weird tattoos guess woman robbing people called cops said like true story heard actually stassi interview soon friend apology shared kristen posted note instagram page faith said stassi kristen called authorities claiming drugged robbed men la credit getty contributor kristen also posted apology faith instagram credit instagrammost read entertainment boss babe mackenzie mckee buys new car cash reuniting cheating husband started crying teen mom jo rivera rushes daughter er pom pom nose big problem audrey roloff says weathered shame storm law jacob attack legend lost grammy winning motown singer bonnie pointer pointer sisters dead staying strong glee star becca tobin ashamed vagina internet al fresco alessandra ambrosio flaunts amazing figure relaxing swimming pool taking time really process seeing feeling learning need address something specifically happened years ago former castmate faith stowers wrote although actions racially driven completely aware privilege blinded reality law enforcement treatment black community dangerous actions would never intention add injustice imbalance ashamed embarrassed incredibly sorry better better reality star claimed since faith recalled costar actions stassi dropped shaving brand billie vitamin startup ritual influencer page six also reported glamour magazine also plans continue planned partnership focusing stassi upcoming wedding beau clark\n",
            "entertainment\n"
          ],
          "name": "stdout"
        }
      ]
    },
    {
      "cell_type": "code",
      "metadata": {
        "id": "sFxpIl5qgZLJ",
        "colab_type": "code",
        "colab": {}
      },
      "source": [
        "from sklearn.feature_extraction.text import TfidfVectorizer\n",
        "\n",
        "tfidf_vect = TfidfVectorizer(analyzer='word', max_features=30000)\n",
        "tfidf_vect.fit(X) \n",
        "X_data_tfidf =  tfidf_vect.transform(X).toarray()\n"
      ],
      "execution_count": null,
      "outputs": []
    },
    {
      "cell_type": "code",
      "metadata": {
        "id": "ymk04x_Ogb1J",
        "colab_type": "code",
        "colab": {
          "base_uri": "https://localhost:8080/",
          "height": 50
        },
        "outputId": "4f2a4458-c872-440e-a258-7d52236acbe0"
      },
      "source": [
        "from sklearn import ensemble\n",
        "from sklearn.model_selection import train_test_split\n",
        "import sklearn.metrics as metrics\n",
        "\n",
        "X_train, X_test, y_train, y_test = train_test_split(X_data_tfidf, y, test_size=0.2, random_state=42)\n",
        "classifier = ensemble.RandomForestClassifier()\n",
        "classifier.fit(X_train, y_train)\n",
        "\n",
        "train_predictions = classifier.predict(X_train)\n",
        "test_predictions = classifier.predict(X_test)\n",
        "\n",
        "print(\"Train accuracy: \", metrics.accuracy_score(train_predictions, y_train))\n",
        "print(\"Test accuracy: \", metrics.accuracy_score(test_predictions, y_test))"
      ],
      "execution_count": null,
      "outputs": [
        {
          "output_type": "stream",
          "text": [
            "Train accuracy:  0.9987562189054726\n",
            "Test accuracy:  0.8109452736318408\n"
          ],
          "name": "stdout"
        }
      ]
    }
  ]
}