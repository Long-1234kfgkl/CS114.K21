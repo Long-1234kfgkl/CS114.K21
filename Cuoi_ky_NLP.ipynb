{
  "nbformat": 4,
  "nbformat_minor": 0,
  "metadata": {
    "colab": {
      "name": "Cuoi_ky_NLP.ipynb",
      "provenance": [],
      "include_colab_link": true
    },
    "kernelspec": {
      "name": "python3",
      "display_name": "Python 3"
    }
  },
  "cells": [
    {
      "cell_type": "markdown",
      "metadata": {
        "id": "view-in-github",
        "colab_type": "text"
      },
      "source": [
        "<a href=\"https://colab.research.google.com/github/Long-1234kfgkl/CS114.K21/blob/master/Cuoi_ky_NLP.ipynb\" target=\"_parent\"><img src=\"https://colab.research.google.com/assets/colab-badge.svg\" alt=\"Open In Colab\"/></a>"
      ]
    },
    {
      "cell_type": "markdown",
      "metadata": {
        "id": "hLQ_XIay4W-l",
        "colab_type": "text"
      },
      "source": [
        "**Upload files dataset đã được crawl từ Drive**"
      ]
    },
    {
      "cell_type": "code",
      "metadata": {
        "id": "1nejC3L-D5wc",
        "colab_type": "code",
        "colab": {
          "base_uri": "https://localhost:8080/",
          "height": 252
        },
        "outputId": "5fef720d-2901-4f96-868a-53bda3ea1663"
      },
      "source": [
        "!pip install PyDrive"
      ],
      "execution_count": 3,
      "outputs": [
        {
          "output_type": "stream",
          "text": [
            "Requirement already satisfied: PyDrive in /usr/local/lib/python3.6/dist-packages (1.3.1)\n",
            "Requirement already satisfied: oauth2client>=4.0.0 in /usr/local/lib/python3.6/dist-packages (from PyDrive) (4.1.3)\n",
            "Requirement already satisfied: PyYAML>=3.0 in /usr/local/lib/python3.6/dist-packages (from PyDrive) (3.13)\n",
            "Requirement already satisfied: google-api-python-client>=1.2 in /usr/local/lib/python3.6/dist-packages (from PyDrive) (1.7.12)\n",
            "Requirement already satisfied: pyasn1>=0.1.7 in /usr/local/lib/python3.6/dist-packages (from oauth2client>=4.0.0->PyDrive) (0.4.8)\n",
            "Requirement already satisfied: httplib2>=0.9.1 in /usr/local/lib/python3.6/dist-packages (from oauth2client>=4.0.0->PyDrive) (0.17.4)\n",
            "Requirement already satisfied: rsa>=3.1.4 in /usr/local/lib/python3.6/dist-packages (from oauth2client>=4.0.0->PyDrive) (4.6)\n",
            "Requirement already satisfied: six>=1.6.1 in /usr/local/lib/python3.6/dist-packages (from oauth2client>=4.0.0->PyDrive) (1.15.0)\n",
            "Requirement already satisfied: pyasn1-modules>=0.0.5 in /usr/local/lib/python3.6/dist-packages (from oauth2client>=4.0.0->PyDrive) (0.2.8)\n",
            "Requirement already satisfied: google-auth>=1.4.1 in /usr/local/lib/python3.6/dist-packages (from google-api-python-client>=1.2->PyDrive) (1.17.2)\n",
            "Requirement already satisfied: google-auth-httplib2>=0.0.3 in /usr/local/lib/python3.6/dist-packages (from google-api-python-client>=1.2->PyDrive) (0.0.4)\n",
            "Requirement already satisfied: uritemplate<4dev,>=3.0.0 in /usr/local/lib/python3.6/dist-packages (from google-api-python-client>=1.2->PyDrive) (3.0.1)\n",
            "Requirement already satisfied: setuptools>=40.3.0 in /usr/local/lib/python3.6/dist-packages (from google-auth>=1.4.1->google-api-python-client>=1.2->PyDrive) (49.2.0)\n",
            "Requirement already satisfied: cachetools<5.0,>=2.0.0 in /usr/local/lib/python3.6/dist-packages (from google-auth>=1.4.1->google-api-python-client>=1.2->PyDrive) (4.1.1)\n"
          ],
          "name": "stdout"
        }
      ]
    },
    {
      "cell_type": "code",
      "metadata": {
        "id": "n1eQDBNqEDwL",
        "colab_type": "code",
        "colab": {}
      },
      "source": [
        "from pydrive.auth import GoogleAuth\n",
        "from pydrive.drive import GoogleDrive\n",
        "from google.colab import auth\n",
        "from oauth2client.client import GoogleCredentials"
      ],
      "execution_count": 4,
      "outputs": []
    },
    {
      "cell_type": "code",
      "metadata": {
        "id": "7yZDUgh_ELzE",
        "colab_type": "code",
        "colab": {}
      },
      "source": [
        "auth.authenticate_user()\n",
        "gauth = GoogleAuth()\n",
        "gauth.credentials = GoogleCredentials.get_application_default()\n",
        "drive = GoogleDrive(gauth)"
      ],
      "execution_count": 5,
      "outputs": []
    },
    {
      "cell_type": "code",
      "metadata": {
        "id": "jCY4XIPaEUMA",
        "colab_type": "code",
        "colab": {}
      },
      "source": [
        "downloaded = drive.CreateFile({'id':\"1OsVIpwbiJl5vf6OtUWBBoot1Ddaa6sR-\"})\n",
        "downloaded.GetContentFile('new_data-1-1000 (1).json')"
      ],
      "execution_count": 6,
      "outputs": []
    },
    {
      "cell_type": "markdown",
      "metadata": {
        "id": "9vKlwqcC4cKx",
        "colab_type": "text"
      },
      "source": [
        "**Đưa vào các thư viện cần thiết**"
      ]
    },
    {
      "cell_type": "code",
      "metadata": {
        "id": "aUXm3xNZ44Zk",
        "colab_type": "code",
        "colab": {
          "base_uri": "https://localhost:8080/",
          "height": 961
        },
        "outputId": "98d0d187-2d9e-4fcb-e3d0-81464ff02509"
      },
      "source": [
        "!pip install underthesea"
      ],
      "execution_count": 7,
      "outputs": [
        {
          "output_type": "stream",
          "text": [
            "Collecting underthesea\n",
            "\u001b[?25l  Downloading https://files.pythonhosted.org/packages/da/e8/832becde9ee2b14f81620e11e6417a882184756bdadc4399f096a9b6c94c/underthesea-1.1.17-py3-none-any.whl (7.1MB)\n",
            "\u001b[K     |████████████████████████████████| 7.1MB 3.9MB/s \n",
            "\u001b[?25hRequirement already satisfied: Click>=6.0 in /usr/local/lib/python3.6/dist-packages (from underthesea) (7.1.2)\n",
            "Collecting languageflow==1.1.13a1\n",
            "\u001b[?25l  Downloading https://files.pythonhosted.org/packages/0c/be/62db3c61f872bbdd7d18671442601e6f59c4fb8004d73a03162f5b2bcc02/languageflow-1.1.13a1-py2.py3-none-any.whl (457kB)\n",
            "\u001b[K     |████████████████████████████████| 460kB 48.1MB/s \n",
            "\u001b[?25hCollecting python-crfsuite==0.9.6\n",
            "\u001b[?25l  Downloading https://files.pythonhosted.org/packages/2f/86/cfcd71edca9d25d3d331209a20f6314b6f3f134c29478f90559cee9ce091/python_crfsuite-0.9.6-cp36-cp36m-manylinux1_x86_64.whl (754kB)\n",
            "\u001b[K     |████████████████████████████████| 757kB 46.1MB/s \n",
            "\u001b[?25hCollecting nltk<3.5,>=3.4\n",
            "\u001b[?25l  Downloading https://files.pythonhosted.org/packages/f6/1d/d925cfb4f324ede997f6d47bea4d9babba51b49e87a767c170b77005889d/nltk-3.4.5.zip (1.5MB)\n",
            "\u001b[K     |████████████████████████████████| 1.5MB 46.0MB/s \n",
            "\u001b[?25hCollecting scikit-learn==0.20.3\n",
            "\u001b[?25l  Downloading https://files.pythonhosted.org/packages/5e/82/c0de5839d613b82bddd088599ac0bbfbbbcbd8ca470680658352d2c435bd/scikit_learn-0.20.3-cp36-cp36m-manylinux1_x86_64.whl (5.4MB)\n",
            "\u001b[K     |████████████████████████████████| 5.4MB 43.6MB/s \n",
            "\u001b[?25hCollecting joblib==0.13.2\n",
            "\u001b[?25l  Downloading https://files.pythonhosted.org/packages/cd/c1/50a758e8247561e58cb87305b1e90b171b8c767b15b12a1734001f41d356/joblib-0.13.2-py2.py3-none-any.whl (278kB)\n",
            "\u001b[K     |████████████████████████████████| 286kB 47.6MB/s \n",
            "\u001b[?25hRequirement already satisfied: requests in /usr/local/lib/python3.6/dist-packages (from languageflow==1.1.13a1->underthesea) (2.23.0)\n",
            "Collecting clint\n",
            "  Downloading https://files.pythonhosted.org/packages/3d/b4/41ecb1516f1ba728f39ee7062b9dac1352d39823f513bb6f9e8aeb86e26d/clint-0.5.1.tar.gz\n",
            "Requirement already satisfied: tabulate in /usr/local/lib/python3.6/dist-packages (from languageflow==1.1.13a1->underthesea) (0.8.7)\n",
            "Requirement already satisfied: tqdm in /usr/local/lib/python3.6/dist-packages (from languageflow==1.1.13a1->underthesea) (4.41.1)\n",
            "Requirement already satisfied: six in /usr/local/lib/python3.6/dist-packages (from nltk<3.5,>=3.4->underthesea) (1.15.0)\n",
            "Requirement already satisfied: scipy>=0.13.3 in /usr/local/lib/python3.6/dist-packages (from scikit-learn==0.20.3->languageflow==1.1.13a1->underthesea) (1.4.1)\n",
            "Requirement already satisfied: numpy>=1.8.2 in /usr/local/lib/python3.6/dist-packages (from scikit-learn==0.20.3->languageflow==1.1.13a1->underthesea) (1.18.5)\n",
            "Requirement already satisfied: urllib3!=1.25.0,!=1.25.1,<1.26,>=1.21.1 in /usr/local/lib/python3.6/dist-packages (from requests->languageflow==1.1.13a1->underthesea) (1.24.3)\n",
            "Requirement already satisfied: certifi>=2017.4.17 in /usr/local/lib/python3.6/dist-packages (from requests->languageflow==1.1.13a1->underthesea) (2020.6.20)\n",
            "Requirement already satisfied: idna<3,>=2.5 in /usr/local/lib/python3.6/dist-packages (from requests->languageflow==1.1.13a1->underthesea) (2.10)\n",
            "Requirement already satisfied: chardet<4,>=3.0.2 in /usr/local/lib/python3.6/dist-packages (from requests->languageflow==1.1.13a1->underthesea) (3.0.4)\n",
            "Collecting args\n",
            "  Downloading https://files.pythonhosted.org/packages/e5/1c/b701b3f4bd8d3667df8342f311b3efaeab86078a840fb826bd204118cc6b/args-0.1.0.tar.gz\n",
            "Building wheels for collected packages: nltk, clint, args\n",
            "  Building wheel for nltk (setup.py) ... \u001b[?25l\u001b[?25hdone\n",
            "  Created wheel for nltk: filename=nltk-3.4.5-cp36-none-any.whl size=1449904 sha256=01898f06df6e7e8d1345808b7b0c8cc0740c6f212c4f158eefa00dc67313791c\n",
            "  Stored in directory: /root/.cache/pip/wheels/96/86/f6/68ab24c23f207c0077381a5e3904b2815136b879538a24b483\n",
            "  Building wheel for clint (setup.py) ... \u001b[?25l\u001b[?25hdone\n",
            "  Created wheel for clint: filename=clint-0.5.1-cp36-none-any.whl size=34449 sha256=f6c0890453054d63639630fa2e9b7ea2a8a590b2f7428270886f21cb97a3ecd5\n",
            "  Stored in directory: /root/.cache/pip/wheels/4f/e9/45/223565e5b1a4b09e12c6de6f8ba7c2c0e9127dec17cf830f83\n",
            "  Building wheel for args (setup.py) ... \u001b[?25l\u001b[?25hdone\n",
            "  Created wheel for args: filename=args-0.1.0-cp36-none-any.whl size=3320 sha256=4bfefc4e1ddf86fd56eb7fc3f3ab8f5776870c790508bb75d82d70ba995974fb\n",
            "  Stored in directory: /root/.cache/pip/wheels/58/54/ea/d995d18af68c057eb76b87b02c92bc66ac34d360ef141780f4\n",
            "Successfully built nltk clint args\n",
            "Installing collected packages: scikit-learn, joblib, args, clint, languageflow, python-crfsuite, nltk, underthesea\n",
            "  Found existing installation: scikit-learn 0.22.2.post1\n",
            "    Uninstalling scikit-learn-0.22.2.post1:\n",
            "      Successfully uninstalled scikit-learn-0.22.2.post1\n",
            "  Found existing installation: joblib 0.16.0\n",
            "    Uninstalling joblib-0.16.0:\n",
            "      Successfully uninstalled joblib-0.16.0\n",
            "  Found existing installation: nltk 3.2.5\n",
            "    Uninstalling nltk-3.2.5:\n",
            "      Successfully uninstalled nltk-3.2.5\n",
            "Successfully installed args-0.1.0 clint-0.5.1 joblib-0.13.2 languageflow-1.1.13a1 nltk-3.4.5 python-crfsuite-0.9.6 scikit-learn-0.20.3 underthesea-1.1.17\n"
          ],
          "name": "stdout"
        }
      ]
    },
    {
      "cell_type": "code",
      "metadata": {
        "id": "rDr31oSH4U0Q",
        "colab_type": "code",
        "colab": {}
      },
      "source": [
        "import pandas as pd\n",
        "import numpy as np\n",
        "import re\n",
        "import underthesea\n",
        "from sklearn.model_selection import train_test_split\n",
        "from sklearn.metrics import accuracy_score\n",
        "from sklearn.metrics import f1_score\n",
        "from sklearn.svm import SVC\n",
        "from sklearn.pipeline import Pipeline\n",
        "from sklearn.feature_extraction.text import TfidfVectorizer"
      ],
      "execution_count": 9,
      "outputs": []
    },
    {
      "cell_type": "markdown",
      "metadata": {
        "id": "Sekd3TyS5BNO",
        "colab_type": "text"
      },
      "source": [
        "Tiến hành đọc dữ liệu từ file sử dụng thư viện pandas"
      ]
    },
    {
      "cell_type": "code",
      "metadata": {
        "id": "t8_tV1_D4_sC",
        "colab_type": "code",
        "colab": {
          "base_uri": "https://localhost:8080/",
          "height": 195
        },
        "outputId": "c2dd15ee-2eea-49ec-89ce-3b1782c9797b"
      },
      "source": [
        "dataset = pd.read_json(\"new_data-1-1000 (1).json\", lines = True, encoding = \"UTF-8\")\n",
        "dataset.head()"
      ],
      "execution_count": 10,
      "outputs": [
        {
          "output_type": "execute_result",
          "data": {
            "text/html": [
              "<div>\n",
              "<style scoped>\n",
              "    .dataframe tbody tr th:only-of-type {\n",
              "        vertical-align: middle;\n",
              "    }\n",
              "\n",
              "    .dataframe tbody tr th {\n",
              "        vertical-align: top;\n",
              "    }\n",
              "\n",
              "    .dataframe thead th {\n",
              "        text-align: right;\n",
              "    }\n",
              "</style>\n",
              "<table border=\"1\" class=\"dataframe\">\n",
              "  <thead>\n",
              "    <tr style=\"text-align: right;\">\n",
              "      <th></th>\n",
              "      <th>TYPE</th>\n",
              "      <th>NAME</th>\n",
              "      <th>COMMENT</th>\n",
              "      <th>RATING COMMENT</th>\n",
              "    </tr>\n",
              "  </thead>\n",
              "  <tbody>\n",
              "    <tr>\n",
              "      <th>0</th>\n",
              "      <td>0</td>\n",
              "      <td>iPhone 11 128GB</td>\n",
              "      <td>Sac pin ip11 phần viền kim loại khi đụng vào c...</td>\n",
              "      <td>5</td>\n",
              "    </tr>\n",
              "    <tr>\n",
              "      <th>1</th>\n",
              "      <td>-1</td>\n",
              "      <td>iPhone 11 128GB</td>\n",
              "      <td>Mình mua đc 1 tuần mà sao thấy cảm ứng mình lư...</td>\n",
              "      <td>2</td>\n",
              "    </tr>\n",
              "    <tr>\n",
              "      <th>2</th>\n",
              "      <td>0</td>\n",
              "      <td>iPhone 11 128GB</td>\n",
              "      <td>Mình mua hôm 20/12 Chụp ngược sáng bị phản chi...</td>\n",
              "      <td>3</td>\n",
              "    </tr>\n",
              "    <tr>\n",
              "      <th>3</th>\n",
              "      <td>0</td>\n",
              "      <td>iPhone 11 128GB</td>\n",
              "      <td>Dùng được 3 ngày, mọi trải nghiệm tuyệt vời, p...</td>\n",
              "      <td>4</td>\n",
              "    </tr>\n",
              "    <tr>\n",
              "      <th>4</th>\n",
              "      <td>0</td>\n",
              "      <td>iPhone 11 128GB</td>\n",
              "      <td>Chưa xài lần não hãng này... Nhưng cái 11 này ...</td>\n",
              "      <td>4</td>\n",
              "    </tr>\n",
              "  </tbody>\n",
              "</table>\n",
              "</div>"
            ],
            "text/plain": [
              "   TYPE  ... RATING COMMENT\n",
              "0     0  ...              5\n",
              "1    -1  ...              2\n",
              "2     0  ...              3\n",
              "3     0  ...              4\n",
              "4     0  ...              4\n",
              "\n",
              "[5 rows x 4 columns]"
            ]
          },
          "metadata": {
            "tags": []
          },
          "execution_count": 10
        }
      ]
    },
    {
      "cell_type": "code",
      "metadata": {
        "id": "IE7lyvfD6Udk",
        "colab_type": "code",
        "colab": {
          "base_uri": "https://localhost:8080/",
          "height": 34
        },
        "outputId": "6cca4348-32f6-4d72-bcd0-1d3d05322c15"
      },
      "source": [
        "dataset.shape"
      ],
      "execution_count": 13,
      "outputs": [
        {
          "output_type": "execute_result",
          "data": {
            "text/plain": [
              "(3000, 4)"
            ]
          },
          "metadata": {
            "tags": []
          },
          "execution_count": 13
        }
      ]
    },
    {
      "cell_type": "code",
      "metadata": {
        "id": "uldx5Kae6WXP",
        "colab_type": "code",
        "colab": {
          "base_uri": "https://localhost:8080/",
          "height": 296
        },
        "outputId": "caecfaf3-ffc5-4f0b-be1e-c81e8b94eb1c"
      },
      "source": [
        "import seaborn as sns\n",
        "sns.set_style(\"dark\")\n",
        "sns.countplot(dataset.TYPE)"
      ],
      "execution_count": 14,
      "outputs": [
        {
          "output_type": "execute_result",
          "data": {
            "text/plain": [
              "<matplotlib.axes._subplots.AxesSubplot at 0x7f11cb8315f8>"
            ]
          },
          "metadata": {
            "tags": []
          },
          "execution_count": 14
        },
        {
          "output_type": "display_data",
          "data": {
            "image/png": "[encoded data removed]",
            "text/plain": [
              "<Figure size 432x288 with 1 Axes>"
            ]
          },
          "metadata": {
            "tags": []
          }
        }
      ]
    },
    {
      "cell_type": "code",
      "metadata": {
        "id": "otvKLrDy5Rgb",
        "colab_type": "code",
        "colab": {}
      },
      "source": [
        "X_data = dataset['COMMENT']\n",
        "Y_data = dataset['TYPE']"
      ],
      "execution_count": 15,
      "outputs": []
    },
    {
      "cell_type": "code",
      "metadata": {
        "id": "OTxvD1gl9wGP",
        "colab_type": "code",
        "colab": {
          "base_uri": "https://localhost:8080/",
          "height": 218
        },
        "outputId": "507c1d32-2ed5-4d8f-934d-60a7fa7ba006"
      },
      "source": [
        "print(X_data)"
      ],
      "execution_count": 16,
      "outputs": [
        {
          "output_type": "stream",
          "text": [
            "0       Sac pin ip11 phần viền kim loại khi đụng vào c...\n",
            "1       Mình mua đc 1 tuần mà sao thấy cảm ứng mình lư...\n",
            "2       Mình mua hôm 20/12 Chụp ngược sáng bị phản chi...\n",
            "3       Dùng được 3 ngày, mọi trải nghiệm tuyệt vời, p...\n",
            "4       Chưa xài lần não hãng này... Nhưng cái 11 này ...\n",
            "                              ...                        \n",
            "2995    mọi thứ đều ổn trừ bạn nhân viên tên Đạt bên T...\n",
            "2996    mua lại hàng xài rồi nhìn chung cũng tạm được,...\n",
            "2997    thích hợp để sưu tầm thôi, hoài cỗ nữa nhưng c...\n",
            "2998    Shop có hỗ trợ đổi trả không admin, mong admin...\n",
            "2999    Sản phẩm ổn trong tầm giá, không quá cầu kì có...\n",
            "Name: COMMENT, Length: 3000, dtype: object\n"
          ],
          "name": "stdout"
        }
      ]
    },
    {
      "cell_type": "markdown",
      "metadata": {
        "id": "vytqYtpW5daV",
        "colab_type": "text"
      },
      "source": [
        "**Tiền xử lý dữ liệu, ở đây chúng ta tiến hành các bước như:**\n",
        "\n",
        "\n",
        "*   Đưa các ký tự về chữ thường\n",
        "*   Loại bỏ các số\n",
        "*   Loại bỏ các dấu câu\n",
        "*   Loại bỏ khoảng trắng thừa\n",
        "*   Bỏ bớt các chữ cái giống nhau liên tiếp( Vd: quaaa -> qua)\n",
        "*   Tách từ tiếng Việt sử dụng thư viện underthesea có sẵn\n",
        "*   Loại bỏ các stopwords tiếng Việt sử dụng bộ stopwords có sẵn lấy từ\n",
        "*   Chuẩn hóa dữ liệu"
      ]
    },
    {
      "cell_type": "code",
      "metadata": {
        "id": "8d7LF0TU5cJw",
        "colab_type": "code",
        "colab": {}
      },
      "source": [
        "#Đưa về kiểu chữ thường\n",
        "def text_lowercase(text):\n",
        "    return text.lower()"
      ],
      "execution_count": 17,
      "outputs": []
    },
    {
      "cell_type": "code",
      "metadata": {
        "id": "AvqtmJx26kNk",
        "colab_type": "code",
        "colab": {}
      },
      "source": [
        "#Loại bỏ các con số\n",
        "def remove_number(text):\n",
        "    result = re.sub(r'\\d+', '', text) \n",
        "    return result"
      ],
      "execution_count": 18,
      "outputs": []
    },
    {
      "cell_type": "code",
      "metadata": {
        "id": "-NFYridrSkH1",
        "colab_type": "code",
        "colab": {}
      },
      "source": [
        "#Loại bỏ các dấu câu\n",
        "def remove_punctuation(text):\n",
        "    text = text.replace(\",\", \" \").replace(\".\", \" \") \\\n",
        "    .replace(\";\", \" \").replace(\"“\", \" \") \\\n",
        "    .replace(\":\", \" \").replace(\"”\", \" \") \\\n",
        "    .replace('\"', \" \").replace(\"'\", \" \") \\\n",
        "    .replace(\"!\", \" \").replace(\"?\", \" \") \\\n",
        "    .replace(\"-\", \" \").replace(\"?\", \" \")  \n",
        "    return text"
      ],
      "execution_count": 19,
      "outputs": []
    },
    {
      "cell_type": "code",
      "metadata": {
        "id": "SAi_9Ec96uI0",
        "colab_type": "code",
        "colab": {}
      },
      "source": [
        "#Loại bỏ khoảng trắng thừa\n",
        "def remove_whitespace(text): \n",
        "    return  \" \".join(text.split())"
      ],
      "execution_count": 20,
      "outputs": []
    },
    {
      "cell_type": "code",
      "metadata": {
        "id": "5nl-uc17623p",
        "colab_type": "code",
        "colab": {}
      },
      "source": [
        "# Bỏ bớt các chữ cái giống nhau liên tiếp( Vd: quaaa -> qua)\n",
        "def remove_similarletter(text):\n",
        "    text = re.sub(r'([A-Z])\\1+', lambda m: m.group(1).upper(), text, flags=re.IGNORECASE)\n",
        "    return text"
      ],
      "execution_count": 21,
      "outputs": []
    },
    {
      "cell_type": "code",
      "metadata": {
        "id": "42kPFl-k63ln",
        "colab_type": "code",
        "colab": {}
      },
      "source": [
        "#Tách từ tiếng Việt sử dụng thư viện underthesea có sẵn\n",
        "def VN_Tokenize(text,format='text'):\n",
        "  return underthesea.word_tokenize(text)"
      ],
      "execution_count": 22,
      "outputs": []
    },
    {
      "cell_type": "code",
      "metadata": {
        "id": "D05_EXKMOhL1",
        "colab_type": "code",
        "colab": {
          "base_uri": "https://localhost:8080/",
          "height": 34
        },
        "outputId": "4ae4a126-a8ae-482d-b5a1-a03007f7e209"
      },
      "source": [
        "print(VN_Tokenize(\"a lô có ai ở đó không?\"))"
      ],
      "execution_count": 23,
      "outputs": [
        {
          "output_type": "stream",
          "text": [
            "['a', 'lô', 'có', 'ai', 'ở', 'đó', 'không', '?']\n"
          ],
          "name": "stdout"
        }
      ]
    },
    {
      "cell_type": "code",
      "metadata": {
        "id": "kBSSYz6c7BE9",
        "colab_type": "code",
        "colab": {}
      },
      "source": [
        "downloaded1 = drive.CreateFile({'id':\"1buHsfg9uC70tuUNe852UBCZxcqFg4re5\"})\n",
        "downloaded1.GetContentFile('vietnamese-stopwords-dash (1).txt')"
      ],
      "execution_count": 24,
      "outputs": []
    },
    {
      "cell_type": "code",
      "metadata": {
        "id": "A_Vv3jR868Ww",
        "colab_type": "code",
        "colab": {}
      },
      "source": [
        "#Loại bỏ các stopwords tiếng Việt sử dụng bộ stopwords có sẵn lấy từ\n",
        "def remove_VN_stopwords(text):\n",
        "    file_stopwords = pd.read_csv(\"vietnamese-stopwords-dash (1).txt\", encoding = 'UTF-8')\n",
        "    file_stopwords.columns = [\"Stop_words\"]\n",
        "\n",
        "    VN_stopword = []\n",
        "    for i in file_stopwords[\"Stop_words\"]:\n",
        "        VN_stopword.append(i)\n",
        "        \n",
        "    text_token = VN_Tokenize(text)\n",
        "    result = [word for word in text_token if word not in VN_stopword]\n",
        "    return \" \".join(result)"
      ],
      "execution_count": 25,
      "outputs": []
    },
    {
      "cell_type": "markdown",
      "metadata": {
        "id": "E2FZ-G3C7zzR",
        "colab_type": "text"
      },
      "source": [
        "Chuẩn hóa dữ liệu là bước chuẩn hóa các từ tuy cách viết khác nhau nhưng cùng mang một nghĩa, người dùng có thể đã sử dụng các từ viết tắt, teencode, tiếng Anh,..., việc chuẩn hóa giúp cho bộ dữ liệu trở nên tốt hơn"
      ]
    },
    {
      "cell_type": "code",
      "metadata": {
        "id": "blCJzS0Y7fkS",
        "colab_type": "code",
        "colab": {}
      },
      "source": [
        "#Chuẩn hóa dữ liệu\n",
        "def Util(text):\n",
        "    replace_list = {\n",
        "        'ship': 'vận chuyển', 'shop': 'cửa hàng', 'sho': 'cửa hàng', 'm': 'mình','mk':'mình','mjk':'mình', 'mik': 'mình', 'ko': 'không' , 'k': 'không', 'kh': 'không', 'khong': 'không', 'kg': 'không', 'khg': 'không','hok':'không','hong':'không', 'tl': 'trả lời',\n",
        "        'rep': 'trả lời', 'r': 'rồi', 'fb': 'facebook', 'face': 'faceook', 'thanks': 'cảm ơn', 'thank': 'cảm ơn', 'tks': 'cảm ơn', 'tk': 'cảm ơn', 'ok': 'tốt', 'oki': 'tốt', 'okie': 'tốt', 'sp': 'sản phẩm',\n",
        "        'dc': 'được','đc':'được','dk':'được', 'vs': 'với', 'đt': 'điện thoại', 'thjk': 'thích', 'thik': 'thích', 'qá': 'quá', 'trể': 'trễ', 'bgjo': 'bao giờ', 'h': 'giờ', 'qa': 'quá', 'dep': 'đẹp', 'xau': 'xấu', 'ib': 'nhắn tin',\n",
        "        'cute': 'dễ thương', 'sz': 'size', 'good': 'tốt', 'god': 'tốt', 'bt': 'bình thường','tr':'triệu','dag':'đang','nhiu':'nhiêu','mn':'mọi người','m.n':'mọi người','ac':'anh chị','sag':'sang','s':'sao',\n",
        "        'sz': 'cỡ', 'size': 'cỡ', 'đx': 'được', 'dk': 'được', 'dc': 'được', 'đk': 'được','ae':'anh em','j':'gì','hnay':'hôm nay','lm':'làm','ktra':'kiểm tra','sp':'sản phẩm','zô':'vào',\n",
        "        'đc': 'được', 'authentic': 'chuẩn chính hãng', 'aut': 'chuẩn chính hãng', 'auth ': 'chuẩn chính hãng', 'thick': 'thích','v':'vậy','cng':'cũng','cg':'cũng','ns':'nói','nv':'nhân viên',\n",
        "        'gud': 'tốt', 'god': 'tốt', 'wel done': 'tốt', 'good': 'tốt', 'gút': 'tốt','ng':'người','chs':'chơi','mng':'mọi người','wa':'quá',\n",
        "        'sấu': 'xấu', 'gut': 'tốt', 'tot': 'tốt', 'nice': 'tốt', 'perfect': 'rất tốt','trc':'trước',\n",
        "        'time': 'thời gian', 'qá': 'quá','nc':'nói chung','ace':'anh chị em',\n",
        "        'product': 'sản phẩm', 'quality': 'chất lượng', 'chat': 'chất' , 'excelent': 'hoàn hảo', 'bad': 'tệ', 'sad': 'tệ',\n",
        "        'beautiful': 'đẹp', 'tl': 'trả lời', 'r': 'rồi', 'order': 'đặt hàng',\n",
        "        'chất lg': 'chất lượng', 'sd': 'sử dụng', 'dt': 'điện thoại', 'nt': 'nhắn tin', 'tl': 'trả lời', 'sài': 'xài', 'bjo': 'bao giờ',\n",
        "        'thik': 'thích', 'sop': 'cửa hàng', 'fb': 'facebook', 'face': 'facebook', 'very': 'rất',\n",
        "        'dep': 'đẹp', 'xau': 'xấu','tgdđ':'thế giới di động','tgdd':'thế giới di động','đmx':'điện máy xanh',\n",
        "        'iu': 'yêu', 'fake': 'giả mạo', 'trl': 'trả lời', '><': 'tiêu cực',\n",
        "        'por': 'tệ', 'poor': 'tệ', 'ib': 'nhắn tin', 'rep': 'trả lời', 'fback': 'feedback', 'fedback': 'feedback',\n",
        "        'bin': 'pin', 'cx': 'cũng', 'nch': 'nói chuyện', 'ntn': 'như thế nào', 'vde': 'vấn đề'\n",
        "    }\n",
        "    text = text.split()\n",
        "    len_ = len(text)\n",
        "    for i in range(0, len_):    \n",
        "      for k, v in replace_list.items():\n",
        "        if (text[i]==k):\n",
        "          text[i] = v\n",
        "    return \" \".join(text)"
      ],
      "execution_count": 26,
      "outputs": []
    },
    {
      "cell_type": "code",
      "metadata": {
        "id": "BSYwNhiXCp8n",
        "colab_type": "code",
        "colab": {
          "base_uri": "https://localhost:8080/",
          "height": 34
        },
        "outputId": "c53f350a-1770-49f1-8fb1-855af6b36715"
      },
      "source": [
        "print(Util(\"ship hàng tới đây đê\"))"
      ],
      "execution_count": 27,
      "outputs": [
        {
          "output_type": "stream",
          "text": [
            "vận chuyển hàng tới đây đê\n"
          ],
          "name": "stdout"
        }
      ]
    },
    {
      "cell_type": "markdown",
      "metadata": {
        "id": "QaiDBetn8THa",
        "colab_type": "text"
      },
      "source": [
        "**I. Train data không sử dụng việc chuẩn hóa dữ liệu**"
      ]
    },
    {
      "cell_type": "code",
      "metadata": {
        "id": "3mI07d_u7ukQ",
        "colab_type": "code",
        "colab": {}
      },
      "source": [
        "def Text_PreProcessing_noutil(data):\n",
        "  result_1 = []\n",
        "  for i in data:\n",
        "    i = str(i)\n",
        "    text = text_lowercase(i)\n",
        "    text = remove_similarletter(text)\n",
        "    text = remove_number(text)\n",
        "    text = remove_punctuation(text)\n",
        "    text = remove_whitespace(text)\n",
        "    text = remove_VN_stopwords(text)\n",
        "    result_1.append(text)\n",
        "  return result_1"
      ],
      "execution_count": 28,
      "outputs": []
    },
    {
      "cell_type": "code",
      "metadata": {
        "id": "XbbfGmJ-9MsP",
        "colab_type": "code",
        "colab": {}
      },
      "source": [
        "X_data_1 = X_data\n",
        "Y_data_1 = Y_data"
      ],
      "execution_count": 29,
      "outputs": []
    },
    {
      "cell_type": "code",
      "metadata": {
        "id": "9S2LKKaS9Sf6",
        "colab_type": "code",
        "colab": {}
      },
      "source": [
        "X_data_1 = Text_PreProcessing_noutil(X_data_1)"
      ],
      "execution_count": 30,
      "outputs": []
    },
    {
      "cell_type": "code",
      "metadata": {
        "id": "h8Ia4uAj9kUu",
        "colab_type": "code",
        "colab": {
          "base_uri": "https://localhost:8080/",
          "height": 34
        },
        "outputId": "07a235b1-6175-41c1-cb6d-652ef15588e2"
      },
      "source": [
        "print(X_data_1[0])"
      ],
      "execution_count": 31,
      "outputs": [
        {
          "output_type": "stream",
          "text": [
            "sac pin ip viền kim loại đụng cảm giác tê như điện máy lỗi k làm sao khắc phục\n"
          ],
          "name": "stdout"
        }
      ]
    },
    {
      "cell_type": "markdown",
      "metadata": {
        "id": "AwLmE7QM-Ebx",
        "colab_type": "text"
      },
      "source": [
        "TF-IDF (Term Frequency - Inverse Document Frequency):\n",
        "\n",
        "TF: tần số xuất hiện của 1 từ trong 1 văn bản\n",
        "IDF: tần số nghịch của 1 từ trong một tập các văn bản\n",
        "Kỹ thuật TF-IDF dùng để tính toán tần suất xuất hiện của một từ trong văn bản, dựa trên đó để đánh giá mức độ quan trọng của từng từ trong văn bản\n",
        "\n",
        "Tham khảo: https://codetudau.com/bag-of-words-tf-idf-xu-ly-ngon-ngu-tu-nhien/index.html\n",
        "\n",
        "TfidfVectorizer dùng để chuyển đổi dữ liệu văn bản sang ma trận các features TF-IDF\n",
        "\n",
        "Tham khảo: https://scikit-learn.org/stable/modules/generated/sklearn.feature_extraction.text.TfidfVectorizer.html"
      ]
    },
    {
      "cell_type": "code",
      "metadata": {
        "id": "tvypDhSv-Csh",
        "colab_type": "code",
        "colab": {}
      },
      "source": [
        "vectorizer_1 = TfidfVectorizer()\n",
        "vectorizer_1.fit(X_data_1)\n",
        "X_data_tfidf_1 = vectorizer_1.transform(X_data_1).toarray()"
      ],
      "execution_count": 32,
      "outputs": []
    },
    {
      "cell_type": "code",
      "metadata": {
        "id": "r6K2bcXZ-d9b",
        "colab_type": "code",
        "colab": {
          "base_uri": "https://localhost:8080/",
          "height": 54
        },
        "outputId": "5c6923da-7835-47c5-b887-591326d4d8b2"
      },
      "source": [
        "print(vectorizer_1.get_feature_names())"
      ],
      "execution_count": 33,
      "outputs": [
        {
          "output_type": "stream",
          "text": [
            "['_i_', '_pin', '_sạc', '_và', 'abonic', 'ac', 'ace', 'active', 'ad', 'adapter', 'admin', 'adorable', 'adr', 'adreno', 'adroi', 'adroid', 'ae', 'ag', 'ah', 'ahehehe', 'ahihi', 'ai', 'airpod', 'ak', 'akg', 'al', 'album', 'always', 'am', 'amin', 'amoled', 'amp', 'an', 'and', 'andoi', 'andoid', 'androi', 'android', 'anfai', 'angten', 'anh', 'anker', 'anlpha', 'antutu', 'ao', 'ap', 'apel', 'apk', 'aple', 'ar', 'as', 'atcol', 'athì', 'audio', 'auto', 'avatar', 'avt', 'ba', 'bai', 'bala', 'balo', 'ban', 'bang', 'bao', 'batery', 'bay', 'bc', 'be', 'beat', 'best', 'bgqafy', 'bh', 'bi', 'biet', 'bik', 'bil', 'bin', 'binh', 'binhg', 'bionic', 'bit', 'bixby', 'biên', 'biêt', 'biêtd', 'biêts', 'biến', 'biết', 'biếu', 'biền', 'biển', 'biểu', 'biện', 'biệt', 'bjk', 'bjo', 'bl', 'bla', 'blosom', 'bloutoth', 'bluatoth', 'bluetoth', 'blut', 'blutod', 'blutoth', 'blutut', 'bn', 'bo', 'boi', 'bong', 'bouns', 'box', 'brand', 'bronze', 'bt', 'bth', 'bthan', 'bthuong', 'bua', 'bubg', 'buds', 'buonc', 'burn', 'buôn', 'buồn', 'buồnmàn', 'buổi', 'buộc', 'bx', 'by', 'bà', 'bài', 'bàn', 'bày', 'bá', 'bách', 'bám', 'bán', 'bánh', 'báo', 'bát', 'bâm', 'bât', 'bâth', 'bây', 'bãy', 'bè', 'bé', 'bén', 'bét', 'béthứ', 'bê', 'bình', 'bí', 'bít', 'bò', 'bó', 'bóc', 'bóng', 'bóp', 'bù', 'bùi', 'bùn', 'bút', 'băn', 'bước', 'bạ', 'bạc', 'bại', 'bạn', 'bả', 'bải', 'bản', 'bảng', 'bảo', 'bảy', 'bấm', 'bấn', 'bất', 'bẩn', 'bẩy', 'bẫy', 'bậc', 'bận', 'bật', 'bậy', 'bắc', 'bắn', 'bắp', 'bắt', 'bằg', 'bằng', 'bằq', 'bằt', 'bẻ', 'bến', 'bếp', 'bề', 'bền', 'bể', 'bễ', 'bệnh', 'bỉ', 'bị', 'bịp', 'bịtk', 'bọc', 'bọn', 'bỏ', 'bỏng', 'bố', 'bối', 'bốn', 'bổ', 'bổng', 'bộ', 'bội', 'bớt', 'bờ', 'bởi', 'bỡ', 'bụi', 'bụng', 'bụp', 'bửa', 'bữa', 'bực', 'bựcnói', 'ca', 'cac', 'cacbonat', 'cad', 'cai', 'cal', 'cam', 'camara', 'camare', 'came', 'camera', 'cameramimui', 'camra', 'camặc', 'camẻa', 'can', 'candy', 'canh', 'cao', 'caowifi', 'cap', 'caps', 'carame', 'cat', 'cay', 'celphone', 'cg', 'cgung', 'ch', 'cha', 'chai', 'chak', 'cham', 'chan', 'chang', 'chat', 'chau', 'chay', 'che', 'check', 'chi', 'chia', 'chim', 'china', 'chinasam', 'ching', 'chinh', 'chip', 'chipset', 'chit', 'chiêu', 'chiếm', 'chiến', 'chiết', 'chiếu', 'chiều', 'chiển', 'chiểu', 'chiễ', 'chiệu', 'cho', 'choi', 'chong', 'choảnh', 'choẹt', 'chplay', 'chq', 'chrome', 'chromethứ', 'chs', 'chu', 'chua', 'chug', 'chung', 'chungt', 'chungtheo', 'chup', 'chuq', 'chuyên', 'chuyển', 'chuyện', 'chuôi', 'chuông', 'chuẩn', 'chuối', 'chuốt', 'chuột', 'chà', 'chào', 'chày', 'chán', 'chánmới', 'cháo', 'chát', 'cháu', 'cháy', 'châm', 'chân', 'châu', 'chèn', 'chê', 'chênh', 'chí', 'chín', 'chính', 'chíp', 'chói', 'chóng', 'chót', 'chùa', 'chùi', 'chùm', 'chú', 'chúa', 'chúc', 'chúng', 'chút', 'chútcam', 'chútvẫn', 'chăc', 'chăm', 'chăn', 'chăng', 'chơi', 'chưa', 'chương', 'chưởng', 'chưởnghiệu', 'chạm', 'chạnh', 'chạnm', 'chạp', 'chạy', 'chả', 'chải', 'chảnh', 'chảo', 'chấm', 'chấp', 'chất', 'chấu', 'chậm', 'chậmđang', 'chận', 'chập', 'chật', 'chắc', 'chắn', 'chẳn', 'chẳng', 'chặn', 'chế', 'chết', 'chề', 'chỉ', 'chỉnh', 'chị', 'chịu', 'chịuquét', 'chọc', 'chọi', 'chọn', 'chọnbản', 'chối', 'chống', 'chốt', 'chồng', 'chổi', 'chỗ', 'chớp', 'chờ', 'chờn', 'chờncamera', 'chợ', 'chợt', 'chục', 'chụp', 'chụpax', 'chủ', 'chứ', 'chứa', 'chức', 'chứng', 'chừ', 'chừng', 'chử', 'chửa', 'chữ', 'chữa', 'chữnhược', 'ck', 'clan', 'clans', 'clas', 'clash', 'clip', 'clips', 'cm', 'cmt', 'cn', 'cng', 'cnh', 'co', 'coc', 'cod', 'coi', 'color', 'colpad', 'combat', 'coment', 'compat', 'con', 'cong', 'congmn', 'corona', 'cost', 'cpu', 'cq', 'credit', 'crush', 'cs', 'cscript', 'cse', 'ct', 'cthasng', 'cty', 'cu', 'cua', 'cuc', 'cug', 'cung', 'cuoc', 'cute', 'cuốc', 'cuối', 'cuộc', 'cuộn', 'cx', 'cyty', 'cà', 'cài', 'càn', 'càng', 'cành', 'cày', 'cá', 'cách', 'cái', 'cám', 'cán', 'cánh', 'cáo', 'cáp', 'cát', 'câc', 'câm', 'câmra', 'cân', 'câp', 'câu', 'cây', 'cã', 'cãi', 'cãichỉ', 'cãituy', 'cò', 'còm', 'còn', 'có', 'cóc', 'cô', 'công', 'cùi', 'cùng', 'cú', 'cúng', 'cúp', 'căng', 'cđ', 'cũ', 'cũg', 'cũng', 'cơ', 'cơm', 'cư', 'cưa', 'cưc', 'cưd', 'cưng', 'cưả', 'cướp', 'cường', 'cạch', 'cạn', 'cạnh', 'cả', 'cảchơi', 'cải', 'cảm', 'cản', 'cảnh', 'cảo', 'cấm', 'cấn', 'cấp', 'cất', 'cấu', 'cầm', 'cần', 'cầu', 'cẩm', 'cẩn', 'cẫn', 'cận', 'cập', 'cắm', 'cắn', 'cắp', 'cắt', 'cằm', 'cằn', 'cằng', 'cặp', 'cọc', 'cọm', 'cố', 'cốc', 'cống', 'cốt', 'cổ', 'cổng', 'cỗ', 'cộc', 'cộng', 'cột', 'cờ', 'cở', 'cỡ', 'cụ', 'cụbộ', 'cục', 'cụm', 'củ', 'củg', 'củng', 'cứ', 'cứng', 'cứu', 'cử', 'cửa', 'cữ', 'cững', 'cự', 'cực', 'da', 'dac', 'dag', 'dah', 'dai', 'daklak', 'dan', 'dang', 'danh', 'dao', 'dark', 'day', 'db', 'dc', 'de', 'delay', 'demo', 'den', 'dep', 'deplay', 'designed', 'det', 'deu', 'dg', 'di', 'diem', 'dien', 'dienmayxanh', 'dis', 'display', 'diễn', 'diện', 'diệt', 'diệu', 'dk', 'dmx', 'do', 'doanh', 'dock', 'doi', 'dok', 'dong', 'dow', 'down', 'download', 'doạn', 'dp', 'dpi', 'dream', 'drive', 'driver', 'drop', 'ds', 'dsc', 'dt', 'dth', 'dthoai', 'du', 'dung', 'duoc', 'duog', 'duty', 'duy', 'duyên', 'duyệt', 'dx', 'dài', 'dàng', 'dành', 'dày', 'dám', 'dán', 'dáng', 'dân', 'dâu', 'dây', 'dã', 'dãi', 'dè', 'dép', 'dêm', 'dìm', 'dìn', 'dính', 'dò', 'dòng', 'dóng', 'dô', 'dông', 'dõi', 'dù', 'dùg', 'dùhàng', 'dùm', 'dùng', 'dùngnói', 'dăt', 'dĩ', 'dơ', 'dư', 'dưng', 'dương', 'dạ', 'dại', 'dạng', 'dạo', 'dải', 'dấp', 'dất', 'dấu', 'dầm', 'dần', 'dầu', 'dẫn', 'dật', 'dậy', 'dắc', 'dắt', 'dẹp', 'dẽ', 'dể', 'dễ', 'dị', 'dịch', 'dịp', 'dịu', 'dọc', 'dọng', 'dỏm', 'dố', 'dốc', 'dộ', 'dộng', 'dở', 'dởm', 'dỡ', 'dụ', 'dụg', 'dụm', 'dụng', 'dụngnào', 'dụngthiết', 'dừng', 'dử', 'dữ', 'dự', 'dực', 'dựt', 'ecofre', 'edit', 'em', 'email', 'emeoj', 'emui', 'esim', 'esynote', 'exclusive', 'excrl', 'extrem', 'exynos', 'fabok', 'face', 'facebok', 'faceid', 'fack', 'fai', 'fake', 'fami', 'fan', 'fb', 'fbs', 'fcae', 'fcai', 'fe', 'feature', 'fhd', 'fi', 'fifa', 'file', 'film', 'fim', 'find', 'fine', 'finx', 'fire', 'first', 'fiwi', 'fix', 'flagship', 'flash', 'flaship', 'flashsale', 'flc', 'flip', 'flower', 'fm', 'font', 'fps', 'fpt', 'fre', 'frefire', 'from', 'ful', 'fulhd', 'fun', 'fải', 'gach', 'galaxy', 'gam', 'game', 'game_về', 'games', 'gaming', 'gb', 'gbgb', 'gem', 'ggb', 'gh', 'ghi', 'ghim', 'ghz', 'ghé', 'ghét', 'ghê', 'ghì', 'ghõ', 'ghế', 'gi', 'gia', 'giad', 'giagiá', 'gian', 'giang', 'giao', 'gim', 'gio', 'gioi', 'già', 'giành', 'giày', 'giá', 'giác', 'giáchip', 'giáchiến', 'giámới', 'gián', 'giánhược', 'giáthiết', 'giáthứ', 'giây', 'giãm', 'giãn', 'giòn', 'gió', 'gióng', 'giôg', 'giông', 'giùm', 'giúp', 'giúptks', 'giăt', 'giơ', 'giường', 'giả', 'giải', 'giảm', 'giản', 'giấc', 'giật', 'giặc', 'giếc', 'giọng', 'giọt', 'giỏi', 'giống', 'giới', 'giờ', 'giời', 'giở', 'giữ', 'giữa', 'giựt', 'gja', 'glas', 'globat', 'gmail', 'god', 'gogle', 'goi', 'gold', 'gop', 'gorila', 'gout', 'goviet', 'gox', 'gp', 'gprs', 'gps', 'gpu', 'gr', 'grab', 'grad', 'gras', 'gt', 'gu', 'gàng', 'gái', 'gét', 'gì', 'gìmáy', 'gía', 'gò', 'góc', 'gói', 'góp', 'gõ', 'gũi', 'gương', 'gưởi', 'gạch', 'gạo', 'gạp', 'gạt', 'gảme', 'gấp', 'gần', 'gậm', 'gập', 'gậy', 'gắn', 'gắng', 'gắt', 'gọ', 'gọi', 'gọn', 'gốc', 'gộ', 'gớm', 'gởi', 'gỡ', 'gợi', 'gủi', 'gủng', 'gửi', 'ha', 'hack', 'hag', 'hago', 'haha', 'hai', 'haiz', 'haizsản', 'hajz', 'ham', 'hang', 'hanh', 'hao', 'haowcj', 'hary', 'hau', 'hauwai', 'hay', 'haz', 'hd', 'hdr', 'health', 'hehe', 'helio', 'hero', 'het', 'hi', 'hic', 'hickhông', 'hien', 'hih', 'hihi', 'hinh', 'hinhf', 'hinhg', 'hiuhiu', 'hiếm', 'hiều', 'hiểm', 'hiểmkhông', 'hiển', 'hiểu', 'hiện', 'hiệu', 'hj', 'hjh', 'hjhj', 'hk', 'hm', 'hnay', 'ho', 'hoa', 'hoang', 'hoat', 'hoi', 'hok', 'hom', 'home', 'homecredit', 'hon', 'hong', 'honkai', 'hop', 'hot', 'hoà', 'hoài', 'hoàn', 'hoàng', 'hoá', 'hoăc', 'hoạ', 'hoạc', 'hoạrõ', 'hoạt', 'hoả', 'hp', 'hp_', 'hq', 'hqua', 'hs', 'huawei', 'huaweu', 'huhu', 'hui', 'hum', 'huwei', 'huyết', 'huyền', 'huyện', 'huống', 'huỳnh', 'hy', 'hz', 'hà', 'hài', 'hàm', 'hàng', 'hành', 'háo', 'hát', 'hân', 'hãmpin', 'hãng', 'hè', 'héo', 'hên', 'hêt', 'hêta', 'hêts', 'hì', 'hình', 'hìnhphân', 'hìnhra', 'hìnhthứ', 'híc', 'hít', 'hòa', 'hòm', 'hóa', 'hóc', 'hô', 'hôi', 'hôm', 'hông', 'hù', 'hùi', 'hùng', 'húp', 'hút', 'hđ', 'hơb', 'hơi', 'hơn', 'hư', 'hưng', 'hương', 'hướng', 'hưởng', 'hưởngmáy', 'hạ', 'hạc', 'hại', 'hạn', 'hạng', 'hạnh', 'hạt', 'hả', 'hải', 'hảng', 'hảo', 'hầu', 'hận', 'hậu', 'hằng', 'hẳn', 'hẵn', 'hẹ', 'hẹn', 'hẻm', 'hẻo', 'hết', 'hề', 'hể', 'hễ', 'hệ', 'hệt', 'hỉu', 'hịn', 'họ', 'họa', 'học', 'hỏi', 'hỏng', 'hối', 'hốt', 'hồ', 'hồi', 'hồn', 'hồng', 'hồngsau', 'hổ', 'hỗ', 'hỗi', 'hỗn', 'hộ', 'hội', 'hộp', 'hột', 'hớ', 'hới', 'hớn', 'hớt', 'hờ', 'hời', 'hở', 'hởi', 'hợp', 'hụt', 'hứa', 'hứng', 'hữu', 'ib', 'icon', 'id', 'ihi', 'im', 'imei', 'impact', 'in', 'inl', 'intagram', 'intel', 'internet', 'ios', 'ip', 'ipad', 'iphone', 'iphonex', 'ipplus', 'ips', 'iron', 'is', 'it', 'itel', 'iu', 'jack', 'ji', 'jk', 'jnhân', 'jo', 'joi', 'joy', 'jprim', 'jpro', 'ju', 'karaoke', 'kb', 'kc', 'kcó', 'kem', 'keo', 'key', 'kg', 'kh', 'kha', 'khac', 'khai', 'khang', 'khay', 'khe', 'khen', 'khg', 'khi', 'khinh', 'khiêng', 'khiến', 'khiếp', 'khiển', 'khj', 'kho', 'khoang', 'khoe', 'khoi', 'khong', 'khoá', 'khoác', 'khoái', 'khoáng', 'khoét', 'khoăn', 'khoăng', 'khoản', 'khoảng', 'khoẻ', 'khoẻmiui', 'khu', 'khui', 'khung', 'khuyên', 'khuyến', 'khuyết', 'khuyện', 'khuân', 'khuôn', 'khuông', 'khá', 'khác', 'khách', 'kháng', 'khánh', 'khát', 'khâu', 'khích', 'khó', 'khóa', 'khóc', 'khói', 'khô', 'khôg', 'khôi', 'khôn', 'không', 'khôngmình', 'khôngtai', 'khôngvẫn', 'khõi', 'khù', 'khúc', 'khúcon', 'khăn', 'khăng', 'khơi', 'khả', 'khảo', 'khấu', 'khẩn', 'khẩu', 'khắc', 'khắt', 'khỏang', 'khỏe', 'khỏecơ', 'khỏi', 'khối', 'khổ', 'khổi', 'khổng', 'khờ', 'khởi', 'khủng', 'khử', 'khựa', 'khựng', 'ki', 'kia', 'kiatoi', 'kich', 'kim', 'kinh', 'kiên', 'kiếm', 'kiến', 'kiềm', 'kiều', 'kiểm', 'kiển', 'kiểng', 'kiểu', 'kiệm', 'kiện', 'kiệt', 'kj', 'kl', 'km', 'kn', 'ko', 'kog', 'kon', 'kqua', 'kt', 'kung', 'kvậy', 'kà', 'kè', 'kèm', 'ké', 'kém', 'kémbắt', 'kémcảm', 'kémvào', 'kén', 'kéo', 'kép', 'két', 'kê', 'kênh', 'kêu', 'kì', 'kìa', 'kìgiờ', 'kình', 'kìđổi', 'kí', 'kích', 'kím', 'kín', 'kính', 'kô', 'ký', 'kĩ', 'kảnh', 'kẹo', 'kẹt', 'kẻ', 'kế', 'kết', 'kể', 'kệ', 'kỉ', 'kịp', 'kỳ', 'kỷ', 'kỹ', 'la', 'lac', 'lag', 'lai', 'lak', 'lalt', 'lam', 'lan', 'lang', 'lao', 'lap', 'laptop', 'laq', 'las', 'last', 'lat', 'lau', 'lazada', 'lcd', 'le', 'led', 'legends', 'lem', 'len', 'lengend', 'leo', 'lg', 'li', 'lien', 'lightning', 'like', 'limit', 'linh', 'lipo', 'lite', 'litequa', 'live', 'livestream', 'liên', 'liêu', 'liết', 'liền', 'liệt', 'liệu', 'lm', 'lnq', 'lo', 'loa', 'load', 'loang', 'loao', 'lock', 'logeng', 'logo', 'loi', 'long', 'lordmobi', 'love', 'lozmàng', 'loáng', 'loát', 'loại', 'loạn', 'lq', 'lqmb', 'lquan', 'lte', 'lu', 'lua', 'luan', 'luc', 'lui', 'lum', 'lun', 'lung', 'lunk', 'luon', 'luong', 'luot', 'lus', 'luân', 'luôn', 'luônlúc', 'luônđây', 'luận', 'lvs', 'lw', 'lx', 'ly', 'là', 'làm', 'làmvà', 'làn', 'làng', 'lành', 'lá', 'lác', 'láchay', 'lái', 'lám', 'lát', 'lâm', 'lân', 'lâu', 'lãi', 'lãng', 'lè', 'léo', 'lét', 'lê', 'lên', 'lêncòn', 'lìm', 'lình', 'lí', 'lòi', 'lòng', 'lòq', 'lóa', 'lô', 'lôi', 'lông', 'lõi', 'lùi', 'lùn', 'lú', 'lúa', 'lúc', 'lút', 'lý', 'lăm', 'lăn', 'lĩnh', 'lũng', 'lưa', 'lưng', 'lưngthê', 'lưu', 'lưuý', 'lương', 'lươt', 'lước', 'lưới', 'lướt', 'lưỡng', 'lược', 'lượg', 'lượng', 'lượt', 'lạ', 'lạc', 'lại', 'lạimic', 'lạisau', 'lạithứ', 'lạng', 'lạnh', 'lạy', 'lảng', 'lấm', 'lấp', 'lầm', 'lẫn', 'lận', 'lập', 'lật', 'lắc', 'lắm', 'lắmnói', 'lắmàn', 'lắng', 'lắp', 'lằm', 'lặng', 'lặp', 'lặt', 'lẹ', 'lẻ', 'lẻo', 'lẻo_', 'lẽ', 'lếch', 'lề', 'lễ', 'lệ', 'lệch', 'lịch', 'lọc', 'lọt', 'lỏng', 'lố', 'lối', 'lồi', 'lồng', 'lổ', 'lổi', 'lỗ', 'lỗi', 'lỗicho', 'lộ', 'lộc', 'lộn', 'lột', 'lớn', 'lớp', 'lờ', 'lời', 'lởm', 'lỡ', 'lợi', 'lợtdùng', 'lục', 'lứa', 'lứớt', 'lừa', 'lựa', 'lực', 'ma', 'macro', 'mafn', 'mag', 'mah', 'mahlần', 'mai', 'mail', 'main', 'mak', 'maketing', 'man', 'mang', 'manh', 'map', 'maps', 'marco', 'markerplace', 'master', 'mau', 'max', 'maxmàn', 'maxseting', 'may', 'maysamsung', 'maý', 'mb', 'mba', 'mbps', 'mcs', 'media', 'mediamart', 'mensenge', 'menu', 'mes', 'mesage', 'mesager', 'meseger', 'mesenge', 'mesenger', 'mesges', 'mg', 'mghe', 'mh', 'mha', 'mi', 'mia', 'mic', 'micro', 'midiatek', 'mieng', 'mih', 'mik', 'mil', 'mine', 'minh', 'minhg', 'mini', 'miro', 'mistore', 'miui', 'miul', 'miên', 'miếng', 'miết', 'miềm', 'miền', 'miễn', 'miệt', 'mjh', 'mjk', 'mk', 'ml', 'mn', 'mng', 'mo', 'mobi', 'mobie', 'mobifone', 'mobile', 'mobistar', 'mod', 'mode', 'model', 'modem', 'modun', 'mog', 'moi', 'momg', 'mong', 'monh', 'mot', 'motion', 'mp', 'mpx', 'mqys', 'ms', 'msg', 'mu', 'mua', 'muamáy', 'muanhân', 'muarất', 'muathif', 'much', 'muoc', 'muon', 'muot', 'musik', 'musốc', 'muôn', 'muốn', 'muống', 'muộn', 'muột', 'muợt', 'mvp', 'mxh', 'my', 'myas', 'mà', 'mài', 'màk', 'màm', 'màn', 'màng', 'màu', 'màukg', 'mày', 'má', 'mác', 'mái', 'mát', 'máu', 'máy', 'máyngoài', 'máynhân', 'máyram', 'máyđiểm', 'mât', 'mâu', 'mây', 'mã', 'mãi', 'mép', 'mét', 'mê', 'mên', 'mêt', 'mêthụi', 'mìh', 'mìk', 'mìn', 'mình', 'mí', 'míc', 'mò', 'mòi', 'móc', 'mói', 'móng', 'mô', 'môi', 'môn', 'mõi', 'mù', 'mùa', 'mùn', 'mùng', 'múc', 'mún', 'măy', 'mơi', 'mưa', 'mươi', 'mươt', 'mướt', 'mười', 'mườn', 'mược', 'mượn', 'mượt', 'mượtcamera', 'mượtcho', 'mượtf', 'mượtkhông', 'mượtnhân', 'mượtnhưng', 'mạ', 'mạc', 'mạch', 'mại', 'mạng', 'mạngưu', 'mạnh', 'mạt', 'mảng', 'mất', 'mấy', 'mấycòn', 'mầu', 'mẫu', 'mật', 'mắc', 'mắn', 'mắt', 'mắtmàn', 'mằt', 'mặc', 'mặt', 'mẹ', 'mẹo', 'mẹt', 'mẻ', 'mẽ', 'mến', 'mề', 'mềm', 'mềnh', 'mệt', 'mịn', 'mọi', 'mọingnoi', 'mỏi', 'mỏng', 'mốc', 'mốt', 'mồ', 'mổi', 'mỗi', 'một', 'mớ', 'mới', 'mờ', 'mời', 'mở', 'mục', 'mụcmong', 'mức', 'mừng', 'mực', 'mựợt', 'mỹ', 'na', 'nady', 'nai', 'nak', 'nam', 'namcam', 'nan', 'nano', 'nay', 'nayd', 'nc', 'nch', 'nchung', 'nd', 'nen', 'neo', 'net', 'neutot', 'new', 'next', 'nfc', 'ng', 'nga', 'ngang', 'ngay', 'ngayđoi', 'nge', 'nghe', 'nghea', 'nghi', 'nghiem', 'nghiêm', 'nghiên', 'nghiêng', 'nghiến', 'nghiệm', 'nghiệp', 'nghèo', 'nghìn', 'nghĩ', 'nghĩa', 'nghĩnhmàn', 'nghưng', 'nghẻ', 'nghề', 'nghệ', 'nghỉ', 'nghị', 'nghịch', 'ngoai', 'ngoan', 'ngoc', 'ngon', 'ngonmột', 'ngoài', 'ngoàithứ', 'ngoãn', 'ngoại', 'ngta', 'ngu', 'nguy', 'nguyen', 'nguyên', 'nguyễn', 'nguôn', 'nguồn', 'nguội', 'ngàn', 'ngày', 'ngàycứ', 'ngàymáy', 'ngán', 'ngáp', 'ngân', 'ngã', 'ngòai', 'ngó', 'ngóm', 'ngón', 'ngôn', 'ngĩ', 'ngũ', 'ngư', 'ngưng', 'người', 'ngưỡng', 'ngược', 'ngại', 'ngạn', 'ngả', 'ngất', 'ngầm', 'ngầu', 'ngẫm', 'ngậm', 'ngắc', 'ngắm', 'ngắn', 'ngắt', 'ngọc', 'ngốn', 'ngộ', 'ngờ', 'ngỡ', 'ngợi', 'ngợp', 'ngủ', 'ngủm', 'ngứa', 'ngừng', 'ngừoi', 'ngửa', 'ngữ', 'nha', 'nhac', 'nhacuatui', 'nhah', 'nhan', 'nhanh', 'nhanhcamera', 'nhanhcác', 'nhanhcái', 'nhanhcó', 'nhanhkhuyết', 'nhanhmàn', 'nhanhthứ', 'nhat', 'nhay', 'nhayr', 'nhe', 'nhem', 'nhg', 'nhiet', 'nhieu', 'nhiu', 'nhiuef', 'nhièu', 'nhiêm', 'nhiên', 'nhiêt', 'nhiêtu', 'nhiêu', 'nhiều', 'nhiểu', 'nhiễu', 'nhiệm', 'nhiệt', 'nhom', 'nhoè', 'nhu', 'nhug', 'nhung', 'nhuoc', 'nhuận', 'nhwung', 'nhà', 'nhàm', 'nhàng', 'nhá', 'nhái', 'nhám', 'nháng', 'nhánh', 'nháy', 'nhâ', 'nhân', 'nhât', 'nhây', 'nhã', 'nhãn', 'nhãng', 'nhè', 'nhèo', 'nhé', 'nhì', 'nhìe', 'nhìn', 'nhình', 'nhìu', 'nhí', 'nhích', 'nhòa', 'nhòe', 'nhôm', 'nhúc', 'nhăn', 'nhĩ', 'nhơn', 'như', 'nhưg', 'nhưng', 'nhưq', 'nhường', 'nhược', 'nhạc', 'nhại', 'nhạn', 'nhạt', 'nhạy', 'nhạycảm', 'nhạynói', 'nhảm', 'nhảy', 'nhấc', 'nhấn', 'nhấp', 'nhất', 'nhầm', 'nhẫn', 'nhận', 'nhậnthứ', 'nhập', 'nhật', 'nhậy', 'nhắc', 'nhắm', 'nhắn', 'nhằm', 'nhằng', 'nhẵc', 'nhẹ', 'nhẹcpu', 'nhẹnhược', 'nhẽ', 'nhể', 'nhỉnh', 'nhỉsóng', 'nhỉtừ', 'nhị', 'nhịn', 'nhịp', 'nhọ', 'nhỏ', 'nhớ', 'nhỡ', 'nhợt', 'nhứ', 'nhức', 'nhứng', 'nhứt', 'nhữg', 'nhựa', 'nhựađiểm', 'nice', 'ninh', 'nit', 'niên', 'niềm', 'niệm', 'nk', 'nm', 'nma', 'no', 'nog', 'noi', 'noise', 'nok', 'nokia', 'not', 'note', 'notelite', 'notes', 'nova', 'novai', 'ns', 'nsx', 'nt', 'ntn', 'nua', 'nuc', 'nuoc', 'nut', 'nute', 'nuôi', 'nuốt', 'nuột', 'nv', 'nvien', 'nvkt', 'nx', 'nxs', 'nyc', 'nz', 'nà', 'nài', 'nàm', 'nàn', 'nào', 'nàođang', 'nàođiểm', 'này', 'ná', 'nách', 'nát', 'nâng', 'nãn', 'não', 'nãy', 'nè', 'né', 'ném', 'nén', 'nét', 'nên', 'nêu', 'níu', 'nódùng', 'nói', 'nón', 'nóng', 'nót', 'nôn', 'nông', 'núi', 'nút', 'núut', 'năg', 'năng', 'nơm', 'nưa', 'nước', 'nạn', 'nạp', 'nạpgiá', 'nản', 'nấc', 'nần', 'nầy', 'nắm', 'nắng', 'nắp', 'nằm', 'nằng', 'nẵng', 'nặg', 'nặng', 'nến', 'nết', 'nếu', 'nề', 'nền', 'nịnh', 'nối', 'nốt', 'nồ', 'nổ', 'nổi', 'nỗi', 'nỗimên', 'nội', 'nộp', 'nới', 'nớp', 'nở', 'nứt', 'nửa', 'nữ', 'nữa', 'nữachậm', 'nữamình', 'nữanhân', 'nữarealme', 'oai', 'of', 'ofice', 'ohan', 'ohần', 'oi', 'ok', 'okay', 'okbảo', 'okbữa', 'oke', 'okey', 'okhiệu', 'oki', 'okie', 'okng', 'oknhân', 'okpin', 'oktuy', 'okvân', 'ol', 'oled', 'om', 'on', 'one', 'onl', 'online', 'onmyoji', 'onscren', 'op', 'opera', 'opo', 'opoa', 'opop', 'opsion', 'or', 'os', 'out', 'oy', 'page', 'pai', 'pan', 'panert', 'parents', 'partner', 'pas', 'pasword', 'pay', 'pb', 'pc', 'pcho', 'pd', 'pdf', 'performance', 'pf', 'pg', 'ph', 'phai', 'pham', 'phan', 'phang', 'phi', 'philips', 'phim', 'phin', 'phiên', 'phiêu', 'phiếu', 'phiền', 'phone', 'phong', 'phu', 'phut', 'phà', 'phàn', 'phá', 'phán', 'pháp', 'phát', 'phâm', 'phân', 'phãn', 'phèo', 'phép', 'phê', 'phêthấy', 'phì', 'phí', 'phím', 'phòng', 'phòq', 'phóng', 'phông', 'phù', 'phú', 'phúc', 'phút', 'phơi', 'phương', 'phước', 'phường', 'phượt', 'phạm', 'phải', 'phảm', 'phản', 'phảu', 'phầm', 'phần', 'phẩm', 'phẩmpin', 'phẩmvừa', 'phẩn', 'phậm', 'phận', 'phẳng', 'phế', 'phết', 'phềm', 'phố', 'phốt', 'phồng', 'phổ', 'phớt', 'phờ', 'phụ', 'phục', 'phụcđã', 'phủ', 'phức', 'picachu', 'pim', 'pin', 'pinchứ', 'ping', 'pinhiều', 'pinmạng', 'pintrong', 'pinvậy', 'pit', 'pjn', 'pk', 'pl', 'play', 'plus', 'pluscòn', 'po', 'polyme', 'pon', 'pop', 'poro', 'power', 'pr', 'present', 'preview', 'price', 'prime', 'pro', 'promax', 'ps', 'pt', 'pubg', 'pubgm', 'pug', 'pugb', 'pun', 'pupg', 'pus', 'pv', 'pít', 'pải', 'pằng', 'pị', 'pịn', 'qa', 'qc', 'ql', 'qtv', 'qua', 'quad', 'quagiá', 'qualcom', 'quan', 'quang', 'quanh', 'quaphải', 'quay', 'quen', 'qui', 'quy', 'quyết', 'quyền', 'quà', 'quá', 'quácamera', 'quágiao', 'quái', 'quán', 'quánh', 'quátui', 'quân', 'quãng', 'quét', 'quê', 'quên', 'quạo', 'quạt', 'quả', 'quản', 'quảng', 'quất', 'quần', 'quẩy', 'quẻ', 'quốc', 'quỳ', 'quỳnh', 'qv', 'qvudnenc', 'qá', 'qúa', 'ra', 'rachiến', 'radio', 'rai', 'ram', 'ramg', 'ran', 'rang', 'rapin', 'rat', 'rata', 'rathứ', 'rdù', 'real', 'realme', 'realmei', 'receiver', 'redme', 'redmi', 'redmis', 'redmix', 'relme', 'remi', 'remote', 'reno', 'rep', 'report', 'reset', 'restore', 'review', 'reviewer', 'riec', 'rieng', 'rinh', 'riêng', 'riết', 'rnhưng', 'rog', 'roi', 'rom', 'romgb', 'roăng', 'rpg', 'rqats', 'rs', 'rung', 'ruồi', 'ruột', 'ràng', 'rành', 'rác', 'rách', 'rán', 'ráng', 'rát', 'rât', 'rãn', 'rè', 'ré', 'rét', 'rì', 'rít', 'ròi', 'ròy', 'rôi', 'rông', 'rõ', 'rõphiên', 'rùa', 'rùi', 'rùng', 'rúc', 'rút', 'răng', 'răt', 'rơi', 'rước', 'rưỡi', 'rượi', 'rạch', 'rạt', 'rấc', 'rầm', 'rậm', 'rắc', 'rắn', 'rằng', 'rẻ', 'rẽ', 'rễ', 'rệt', 'rỏ', 'rối', 'rốt', 'rồ', 'rồi', 'rồimáy', 'rồiđể', 'rồng', 'rổ', 'rỗ', 'rộ', 'rộng', 'rớ', 'rớc', 'rớt', 'rờ', 'rời', 'rỡ', 'rợm', 'rủi', 'rừng', 'rực', 'rỳ', 'sa', 'sac', 'sad', 'sag', 'sai', 'sale', 'sam', 'samfan', 'samfans', 'samsung', 'san', 'sang', 'sao', 'saomột', 'sau', 'scen', 'scren', 'sd', 'sdt', 'se', 'seal', 'search', 'selfie', 'send', 'sendo', 'seri', 'set', 'seting', 'setings', 'setop', 'setup', 'sg', 'sgas', 'ship', 'shit', 'shop', 'shope', 'sim', 'sinh', 'sip', 'siêu', 'skil', 'slas', 'slite', 'sliver', 'slow', 'slowmoition', 'smart', 'smartphone', 'smoth', 'sms', 'sn', 'snap', 'snapdragon', 'snow', 'so', 'soc', 'socer', 'soda', 'song', 'sony', 'soát', 'soạn', 'soạt', 'sp', 'spen', 'spham', 'spider', 'splus', 'spro', 'sren', 'st', 'star', 'start', 'startower', 'stas', 'steam', 'stereo', 'stop', 'stres', 'su', 'sufway', 'sumsung', 'sung', 'super', 'suy', 'suất', 'suốt', 'sv', 'sx', 'sài', 'sàn', 'sàng', 'sành', 'sác', 'sách', 'ság', 'sáng', 'sángpin', 'sánh', 'sát', 'sáu', 'sâng', 'sâu', 'sém', 'sét', 'sì', 'sít', 'sò', 'só', 'sóc', 'sóg', 'sóng', 'sót', 'sôi', 'súng', 'sút', 'sơ', 'sơn', 'sưng', 'sưu', 'sương', 'sước', 'sướng', 'sướt', 'sạ', 'sạc', 'sạch', 'sạn', 'sạt', 'sản', 'sảng', 'sảo', 'sấp', 'sấy', 'sậm', 'sập', 'sắc', 'sắcnhu', 'sắm', 'sắn', 'sắp', 'sắt', 'sẳn', 'sẵ', 'sẵn', 'sặc', 'sặt', 'sẹo', 'sẻ', 'sẽ', 'sếp', 'sỉ', 'sọ', 'sọc', 'sọt', 'số', 'sốc', 'sống', 'sốt', 'sổ', 'sổi', 'sột', 'sớm', 'sờ', 'sở', 'sợ', 'sợi', 'sục', 'sụp', 'sụt', 'sủ', 'sứ', 'sức', 'sứng', 'sừng', 'sử', 'sửa', 'sửng', 'sữ', 'sữa', 'sự', 'sựlần', 'ta', 'tab', 'tad', 'taem', 'tag', 'tai', 'tam', 'tan', 'tap', 'tar', 'tay', 'taysạc', 'tayưu', 'tb', 'tbh', 'te', 'team', 'tele', 'tem', 'ten', 'teo', 'tes', 'test', 'tet', 'teung', 'text', 'tft', 'tg', 'tgd', 'tgdhnay', 'tgdt', 'tgdđ', 'tgian', 'th', 'thag', 'tham', 'than', 'thang', 'thanh', 'thanhk', 'thank', 'thanks', 'thao', 'that', 'thay', 'the', 'theamazing', 'thegioididong', 'them', 'themes', 'theo', 'thi', 'thich', 'thier', 'thiets', 'thik', 'thinh', 'this', 'thiên', 'thiêt', 'thiết', 'thiếu', 'thiểu', 'thiện', 'thiệt', 'thiệu', 'thj', 'thjet', 'tho', 'thoai', 'thoi', 'thon', 'thoy', 'thoát', 'thoại', 'thoả', 'thoải', 'thoản', 'thoảng', 'thtkh', 'thu', 'thua', 'thui', 'thuoc', 'thuong', 'thuyế', 'thuê', 'thuần', 'thuận', 'thuật', 'thuộc', 'thà', 'thành', 'thànhnhân', 'thách', 'thág', 'thái', 'tháng', 'thángnếu', 'thánh', 'tháo', 'tháp', 'tháq', 'tháy', 'thâm', 'thân', 'thât', 'thây', 'thâý', 'thèm', 'thê', 'thêm', 'thì', 'thình', 'thích', 'thíchcamera', 'thíchpin', 'thít', 'thíu', 'thò', 'thói', 'thô', 'thôi', 'thôilời', 'thôitel', 'thông', 'thôu', 'thù', 'thùng', 'thú', 'thúa', 'thúc', 'thơi', 'thơm', 'thư', 'thưa', 'thương', 'thươngcamera', 'thước', 'thường', 'thườngthứ', 'thườngtrong', 'thườngâm', 'thượng', 'thạnh', 'thạongười', 'thả', 'thảm', 'thấc', 'thấp', 'thất', 'thấy', 'thấyh', 'thần', 'thầu', 'thầy', 'thẩm', 'thậm', 'thận', 'thật', 'thắc', 'thắng', 'thằng', 'thằq', 'thẳng', 'thẻ', 'thế', 'thếtrong', 'thếâm', 'thề', 'thể', 'thỉ', 'thỉnh', 'thị', 'thịnh', 'thịt', 'thọ', 'thọi', 'thỏ', 'thỏa', 'thống', 'thổ', 'thời', 'thục', 'thụi', 'thụt', 'thủ', 'thủy', 'thứ', 'thức', 'thứcmong', 'thừa', 'thử', 'thữ', 'thực', 'thỳ', 'ti', 'tieg', 'tieng', 'tik', 'tiki', 'tiktok', 'tim', 'time', 'tin', 'tinh', 'tintuc', 'tivi', 'tiéng', 'tiên', 'tiêng', 'tiêu', 'tiếc', 'tiếg', 'tiến', 'tiếng', 'tiếp', 'tiết', 'tiếu', 'tiền', 'tiềng', 'tiểp', 'tiễn', 'tiệm', 'tiện', 'tiệt', 'tjnhf', 'tk', 'tke', 'tkesfn', 'tks', 'tkấp', 'tn', 'to', 'toang', 'tochưa', 'toi', 'tok', 'tom', 'top', 'tot', 'touch', 'toug', 'toàn', 'toác', 'toán', 'tp', 'tq', 'tr', 'tra', 'trag', 'trai', 'trang', 'tranh', 'trao', 'trau', 'trc', 'tre', 'tren', 'treo', 'trieu', 'triêu', 'triền', 'triển', 'triệu', 'trk', 'trl', 'trog', 'tru', 'trun', 'trung', 'truoc', 'truy', 'truyền', 'truyện', 'trà', 'tràn', 'trách', 'trái', 'tránh', 'trâi', 'trân', 'trânj', 'trâu', 'trâubù', 'trâudùng', 'trâumới', 'trãi', 'trê', 'trì', 'trình', 'trí', 'trò', 'tròn', 'tróc', 'trói', 'trôi', 'trông', 'trú', 'trúng', 'trăm', 'trăng', 'trơ', 'trơn', 'trưa', 'trưng', 'trươc', 'trước', 'trướt', 'trường', 'trượt', 'trạng', 'trả', 'trải', 'trảnghe', 'trấn', 'trấp_', 'trất', 'trầm', 'trần', 'trầy', 'trận', 'trắng', 'trặc', 'trẻ', 'trẻo', 'trề', 'trể', 'trễ', 'trị', 'trọc', 'trọn', 'trọng', 'trọngpin', 'trống', 'trồi', 'trổ', 'trội', 'trộm', 'trời', 'trở', 'trợ', 'trợn', 'trụ', 'trục', 'trứ', 'trứng', 'trứoc', 'trừ', 'trừng', 'trừphản', 'trữ', 'trực', 'tsao', 'tu', 'tua', 'tuan', 'tube', 'tubor', 'tui', 'tum', 'tung', 'tuot', 'turbo', 'tut', 'tuy', 'tuyet', 'tuyên', 'tuyêt', 'tuyêth', 'tuyến', 'tuyệt', 'tuyệtnhư', 'tuân', 'tuấn', 'tuần', 'tuầnmáy', 'tuệ', 'tuốt', 'tuổi', 'tuộc', 'tuột', 'tuỳ', 'tv', 'tx', 'ty', 'type', 'tài', 'tàm', 'tàng', 'tào', 'tàu', 'tá', 'tác', 'tách', 'tái', 'tám', 'táo', 'táp', 'tát', 'tâm', 'tân', 'tây', 'tè', 'tét', 'tê', 'tìm', 'tình', 'tìnhduyệt', 'tìnhgame', 'tìnhmình', 'tí', 'tích', 'tím', 'tín', 'tính', 'tít', 'tòa', 'tóm', 'tô', 'tôi', 'tôn', 'tông', 'tôt', 'tù', 'tùa', 'tùm', 'tùng', 'tùy', 'tú', 'túi', 'túm', 'tút', 'tý', 'tăn', 'tăng', 'tăt', 'tđv', 'tư', 'tươg', 'tươi', 'tương', 'tướng', 'tường', 'tưởg', 'tưởng', 'tượng', 'tại', 'tạm', 'tạo', 'tạp', 'tả', 'tải', 'tản', 'tảng', 'tấc', 'tất', 'tầm', 'tầmnói', 'tần', 'tầu', 'tậm', 'tận', 'tập', 'tật', 'tậu', 'tắc', 'tắm', 'tắt', 'tằm', 'tặc', 'tặng', 'tẹo', 'tế', 'tết', 'tệ', 'tệcó', 'tệmới', 'tỉ', 'tỉnh', 'tịt', 'tỏ', 'tỏng', 'tố', 'tốc', 'tối', 'tốm', 'tốn', 'tốt', 'tốt_', 'tốtdùng', 'tốtnhược', 'tốtnói', 'tốtphục', 'tốtsài', 'tồi', 'tồn', 'tổ', 'tổng', 'tội', 'tới', 'tớil', 'tời', 'tụ', 'tục', 'tụt', 'tủ', 'tức', 'từ', 'tử', 'tự', 'tựa', 'ud', 'uhd', 'ui', 'uk', 'ulike', 'ultra', 'ultral', 'um', 'ung', 'unlock', 'up', 'update', 'updated', 'upload', 'usb', 'utra', 'uy', 'uổng', 'v_', 'va', 'vai', 'van', 'vanced', 'vao', 'vault', 'vay', 'vc', 'vd', 'vde', 've', 'very', 'vi', 'viaphone', 'viber', 'vid', 'video', 'videol', 'videos', 'vidieo', 'vien', 'vieo', 'vietel', 'vietnamobole', 'view', 'vimast', 'vin', 'vina', 'vinh', 'vinid', 'vinmart', 'vinsmart', 'virber', 'virus', 'virut', 'vismart', 'vismat', 'vivo', 'viêc', 'viên', 'viêncứ', 'viêt', 'viết', 'viền', 'việc', 'viện', 'việt', 'vk', 'vl', 'vltk', 'vlua', 'vmart', 'vmas', 'vmast', 'vn', 'vnd', 'vo', 'voc', 'voeis', 'voi', 'volum', 'volume', 'volumne', 'vong', 'vote', 'vs', 'vsmart', 'vu', 'vuc', 'vui', 'vuông', 'vuốt', 'vy', 'vàg', 'vài', 'vàng', 'vào', 'vá', 'ván', 'vân', 'vây', 'vâỵ', 'vãi', 'vè', 'vèo', 'vé', 'vê', 'vì', 'ví', 'vò', 'vòm', 'vòn', 'vòng', 'vói', 'vô', 'võ', 'vù', 'văg', 'văn', 'văng', 'văt', 'vĩnh', 'vơi', 'vương', 'vườn', 'vượg', 'vượng', 'vượt', 'vạch', 'vạng', 'vả', 'vải', 'vấn', 'vấp', 'vầng', 'vầy', 'vẩn', 'vận', 'vật', 'vậy', 'vậydùng', 'vậymáy', 'vắng', 'vằn', 'vặn', 'vặt', 'vặtrước', 'vẹn', 'vẹo', 'vẻ', 'vẽ', 'vết', 'về', 'vể', 'vệ', 'vệt', 'vị', 'vọc', 'vọng', 'vọngbị', 'vọngra', 'vỏ', 'vốn', 'vồn', 'vội', 'vộng', 'vớ', 'với', 'vớil', 'vớitóm', 'vớt', 'vời', 'vỡ', 'vợ', 'vụ', 'vục', 'vụchu', 'vức', 'vứt', 'vừa', 'vững', 'vựa', 'vực', 'vựng', 'wa', 'wafi', 'watpad', 'we', 'web', 'website', 'wed', 'wefe', 'wep', 'wet', 'wf', 'which', 'wi', 'widget', 'wife', 'wifi', 'wifj', 'wifl', 'win', 'word', 'wr', 'wtf', 'wá', 'wìi', 'xa', 'xaci', 'xai', 'xanh', 'xaomi', 'xay', 'xcs', 'xe', 'xem', 'xg', 'xi', 'xiaomi', 'ximiao', 'xin', 'xing', 'xinh', 'xm', 'xoay', 'xog', 'xong', 'xonganh', 'xoá', 'xoắn', 'xr', 'xs', 'xu', 'xui', 'xung', 'xuoc', 'xuong', 'xuyên', 'xuôi', 'xuông', 'xuất', 'xuấu', 'xuống', 'xuốngnói', 'xwifi', 'xài', 'xàm', 'xá', 'xác', 'xách', 'xám', 'xã', 'xét', 'xétmáy', 'xétưu', 'xì', 'xìu', 'xí', 'xích', 'xíu', 'xò', 'xóa', 'xóm', 'xót', 'xúc', 'xúi', 'xăng', 'xưa', 'xương', 'xước', 'xướng', 'xướt', 'xạ', 'xạc', 'xảy', 'xấu', 'xấuthứ', 'xầm', 'xập', 'xắc', 'xắn', 'xếp', 'xỉ', 'xỉu', 'xị', 'xịn', 'xịnvtv', 'xộn', 'xứng', 'xử', 'yc', 'yen', 'yeu', 'yose', 'yotube', 'you', 'youtobe', 'youtu', 'youtube', 'yt', 'ytb', 'ytoube', 'yên', 'yêu', 'yếu', 'yếumáy', 'za', 'zalo', 'zay', 'ze', 'zeno', 'zflip', 'zin', 'zing', 'zingmp', 'zingsped', 'zl', 'zo', 'zoi', 'zom', 'zs', 'zumbo', 'zì', 'zô', 'zậy', 'zị', 'zỏm', 'zờ', 'ành', 'ào', 'ác', 'ái', 'ám', 'ánh', 'áo', 'áp', 'âm', 'ân', 'ây', 'èn', 'éo', 'ép', 'ét', 'êm', 'ên', 'ình', 'ích', 'ít', 'íu', 'óc', 'ói', 'ôi', 'ôm', 'ôn', 'ông', 'ôpo', 'úa', 'úng', 'ăn', 'ăngten', 'ănten', 'đa', 'đag', 'đak', 'đam', 'đan', 'đanh', 'đao', 'đaos', 'đau', 'đay', 'đc', 'đcđa', 'đegpj', 'đem', 'đen', 'đeo', 'đep', 'đi', 'đich', 'đinh', 'điêm', 'điên', 'điều', 'điềuchỉ', 'điểm', 'điển', 'điễm', 'điện', 'điệu', 'đj', 'đk', 'đmx', 'đo', 'đoc', 'đocó', 'đoi', 'đoán', 'đoạn', 'đt', 'đtchơi', 'đth', 'đua', 'đui', 'đung', 'đuoc', 'đuôi', 'đuôn', 'đuọc', 'đuối', 'đuợc', 'đx', 'đà', 'đàg', 'đài', 'đàm', 'đàn', 'đành', 'đào', 'đá', 'đág', 'đám', 'đán', 'đáng', 'đánh', 'đáo', 'đáocảm', 'đáp', 'đâm', 'đâu', 'đâucho', 'đây', 'đâý', 'đãi', 'đè', 'đèn', 'đén', 'đéo', 'đét', 'đêm', 'đêmquay', 'đì', 'đìa', 'đình', 'đích', 'đính', 'đòi', 'đóhtps', 'đói', 'đóm', 'đómua', 'đón', 'đóng', 'đô', 'đôi', 'đông', 'đùn', 'đùng', 'đúc', 'đúg', 'đúng', 'đúp', 'đút', 'đăng', 'đăt', 'đđịnh', 'đĩa', 'đơ', 'đơn', 'đơra', 'đư', 'đưa', 'đưicj', 'đưoc', 'đươc', 'đươkc', 'đương', 'đước', 'đường', 'được', 'đượcho', 'đượchọn', 'đượchối', 'đượcnói', 'đạc', 'đại', 'đạm', 'đạng', 'đạo', 'đả', 'đảm', 'đản', 'đảo', 'đất', 'đấu', 'đấy', 'đầm', 'đầu', 'đầukinh', 'đầy', 'đầythứ', 'đẩy', 'đẫm', 'đậm', 'đập', 'đậu', 'đậy', 'đắn', 'đắng', 'đắt', 'đằm', 'đằng', 'đẳng', 'đặc', 'đặt', 'đẹp', 'đẹpcam', 'đẹpchụp', 'đẹpmáy', 'đếm', 'đến', 'đề', 'để', 'đểu', 'đệ', 'đệm', 'đỉnh', 'địa', 'địch', 'định', 'địnhcòn', 'đọc', 'đỏ', 'đỏi', 'đỏmà', 'đối', 'đốm', 'đốn', 'đống', 'đồ', 'đồhọa', 'đồi', 'đồn', 'đồng', 'đồngt', 'đồnmỗi', 'đổ', 'đổi', 'đổicon', 'đỗi', 'độ', 'độc', 'độg', 'độhd', 'đội', 'độkhông', 'động', 'đột', 'đời', 'đỡ', 'đợi', 'đợinhân', 'đợt', 'đục', 'đụng', 'đủ', 'đứa', 'đức', 'đứg', 'đứng', 'đứt', 'đừng', 'đực', 'đựng', 'đựu', 'ơi', 'ơitự', 'ơn', 'ưa', 'ưavậy', 'ưng', 'ưngz', 'ưu', 'ước', 'ướt', 'ạem', 'ạh', 'ại', 'ạk', 'ạmới', 'ảm', 'ảnh', 'ảnhxấu', 'ảo', 'ảopin', 'ấm', 'ấn', 'ầm', 'ẩm', 'ẩn', 'ắp', 'ẹc', 'ẹp', 'ẹt', 'ọp', 'ọt', 'ống', 'ốp', 'ồm', 'ồn', 'ổm', 'ổn', 'ổnchơi', 'ổnmỗi', 'ỗn', 'ộp', 'ớn', 'ủi', 'ủng', 'ức', 'ứch', 'ứg', 'ứng', 'ứngthật', 'ứngđang', 'ừm']\n"
          ],
          "name": "stdout"
        }
      ]
    },
    {
      "cell_type": "code",
      "metadata": {
        "id": "zeweVhQg-wuq",
        "colab_type": "code",
        "colab": {
          "base_uri": "https://localhost:8080/",
          "height": 34
        },
        "outputId": "f5a9120a-e59b-4483-f3b0-9665af2bd881"
      },
      "source": [
        "print(X_data_tfidf_1.shape)"
      ],
      "execution_count": 34,
      "outputs": [
        {
          "output_type": "stream",
          "text": [
            "(3000, 3807)\n"
          ],
          "name": "stdout"
        }
      ]
    },
    {
      "cell_type": "markdown",
      "metadata": {
        "id": "I70VvzW8-6nl",
        "colab_type": "text"
      },
      "source": [
        "Chia bộ dataset theo tỷ lệ train/test ứng với 80/20"
      ]
    },
    {
      "cell_type": "code",
      "metadata": {
        "id": "FRURu1Wp-3BP",
        "colab_type": "code",
        "colab": {}
      },
      "source": [
        "X_train_1, X_test_1, Y_train_1, Y_test_1 = train_test_split(X_data_tfidf_1, Y_data_1, test_size=0.2)"
      ],
      "execution_count": 35,
      "outputs": []
    },
    {
      "cell_type": "code",
      "metadata": {
        "id": "mXwxdq2L_CTG",
        "colab_type": "code",
        "colab": {
          "base_uri": "https://localhost:8080/",
          "height": 67
        },
        "outputId": "254d5f02-cef9-456d-a4f0-500951f821c6"
      },
      "source": [
        "model_1 = SVC(kernel='linear')\n",
        "model_1.fit(X_train_1, Y_train_1)\n",
        "print(\"Model SVC\")\n",
        "print(\"Train score: \", model_1.score(X_train_1, Y_train_1))\n",
        "print(\"Test score: \", model_1.score(X_test_1, Y_test_1))"
      ],
      "execution_count": 36,
      "outputs": [
        {
          "output_type": "stream",
          "text": [
            "Model SVC\n",
            "Train score:  0.90875\n",
            "Test score:  0.7366666666666667\n"
          ],
          "name": "stdout"
        }
      ]
    },
    {
      "cell_type": "code",
      "metadata": {
        "id": "LuPH8MP3_qgY",
        "colab_type": "code",
        "colab": {
          "base_uri": "https://localhost:8080/",
          "height": 34
        },
        "outputId": "437145b6-2982-414f-a190-bc2d7b7db6ce"
      },
      "source": [
        "y_pred_1 = model_1.predict(X_test_1)\n",
        "print(f1_score(Y_test_1, y_pred_1, average = 'macro'))"
      ],
      "execution_count": 37,
      "outputs": [
        {
          "output_type": "stream",
          "text": [
            "0.7370699824069403\n"
          ],
          "name": "stdout"
        }
      ]
    },
    {
      "cell_type": "code",
      "metadata": {
        "id": "IgCqtrmmAFk7",
        "colab_type": "code",
        "colab": {
          "base_uri": "https://localhost:8080/",
          "height": 364
        },
        "outputId": "a1e31822-565c-41f0-a638-e31026da3219"
      },
      "source": [
        "import matplotlib.pyplot as plt\n",
        "from sklearn.metrics import confusion_matrix\n",
        "\n",
        "def plot_confusion_matrix(cm, classes,\n",
        "                          normalize=False,\n",
        "                          title='Confusion matrix',\n",
        "                          cmap=plt.cm.Blues):\n",
        "    \"\"\"\n",
        "    This function prints and plots the confusion matrix.\n",
        "    Normalization can be applied by setting `normalize=True`.\n",
        "    \"\"\"\n",
        "    import itertools\n",
        "    if normalize:\n",
        "        cm = cm.astype('float') / cm.sum(axis=1)[:, np.newaxis]\n",
        "        print(\"Normalized confusion matrix\")\n",
        "    else:\n",
        "        print('Confusion matrix, without normalization')\n",
        "\n",
        "    print(cm)\n",
        "\n",
        "    plt.imshow(cm, interpolation='nearest', cmap=cmap)\n",
        "    plt.title(title)\n",
        "    plt.colorbar()\n",
        "    tick_marks = np.arange(len(classes))\n",
        "    plt.xticks(tick_marks, classes, rotation=45)\n",
        "    plt.yticks(tick_marks, classes)\n",
        "\n",
        "    fmt = '.2f' if normalize else 'd'\n",
        "    thresh = cm.max() / 2.\n",
        "    for i, j in itertools.product(range(cm.shape[0]), range(cm.shape[1])):\n",
        "        plt.text(j, i, format(cm[i, j], fmt),\n",
        "                 horizontalalignment=\"center\",\n",
        "                 color=\"white\" if cm[i, j] > thresh else \"black\")\n",
        "\n",
        "    plt.ylabel('True label')\n",
        "    plt.xlabel('Predicted label')\n",
        "    plt.tight_layout()\n",
        "  \n",
        "cnf_matrix = confusion_matrix(Y_test_1, y_pred_1, labels=[-1, 0, 1])\n",
        "np.set_printoptions(precision=2)\n",
        "\n",
        "# Plot non-normalized confusion matrix\n",
        "plt.figure()\n",
        "plot_confusion_matrix(cnf_matrix, classes=[-1, 0, 1],\n",
        "                      title='Confusion matrix, without normalization')"
      ],
      "execution_count": 38,
      "outputs": [
        {
          "output_type": "stream",
          "text": [
            "Confusion matrix, without normalization\n",
            "[[165  29  13]\n",
            " [ 36 137  31]\n",
            " [  6  43 140]]\n"
          ],
          "name": "stdout"
        },
        {
          "output_type": "display_data",
          "data": {
            "image/png": "[encoded data removed]",
            "text/plain": [
              "<Figure size 432x288 with 2 Axes>"
            ]
          },
          "metadata": {
            "tags": []
          }
        }
      ]
    },
    {
      "cell_type": "code",
      "metadata": {
        "id": "qJW00PGFJXZ4",
        "colab_type": "code",
        "colab": {
          "base_uri": "https://localhost:8080/",
          "height": 185
        },
        "outputId": "236c7718-f5e2-4fb8-f56a-019a5ce11da0"
      },
      "source": [
        "from sklearn.metrics import classification_report\n",
        "print(classification_report(Y_test_1, y_pred_1, target_names=['-1', '0', '1']))"
      ],
      "execution_count": 39,
      "outputs": [
        {
          "output_type": "stream",
          "text": [
            "              precision    recall  f1-score   support\n",
            "\n",
            "          -1       0.80      0.80      0.80       207\n",
            "           0       0.66      0.67      0.66       204\n",
            "           1       0.76      0.74      0.75       189\n",
            "\n",
            "   micro avg       0.74      0.74      0.74       600\n",
            "   macro avg       0.74      0.74      0.74       600\n",
            "weighted avg       0.74      0.74      0.74       600\n",
            "\n"
          ],
          "name": "stdout"
        }
      ]
    },
    {
      "cell_type": "markdown",
      "metadata": {
        "id": "Ou0bPIM4B02J",
        "colab_type": "text"
      },
      "source": [
        "**II. Train data sử dụng việc chuẩn hóa dữ liệu**"
      ]
    },
    {
      "cell_type": "code",
      "metadata": {
        "id": "GsBeykKpB6S1",
        "colab_type": "code",
        "colab": {}
      },
      "source": [
        "def Text_PreProcessing_util(data):\n",
        "  result_2 = []\n",
        "  for i in data:\n",
        "    i = str(i)\n",
        "    text = text_lowercase(i)\n",
        "    text=Util(text)\n",
        "    text = remove_similarletter(text)\n",
        "    text = remove_number(text)\n",
        "    text = remove_punctuation(text)\n",
        "    text = remove_whitespace(text)\n",
        "    text = remove_VN_stopwords(text)\n",
        "    result_2.append(text)\n",
        "  return result_2"
      ],
      "execution_count": 40,
      "outputs": []
    },
    {
      "cell_type": "code",
      "metadata": {
        "id": "h32y6Ji0CCLk",
        "colab_type": "code",
        "colab": {}
      },
      "source": [
        "X_data_2 = X_data\n",
        "Y_data_2 = Y_data"
      ],
      "execution_count": 41,
      "outputs": []
    },
    {
      "cell_type": "code",
      "metadata": {
        "id": "p7FjhjDSCGOt",
        "colab_type": "code",
        "colab": {}
      },
      "source": [
        "X_data_2 = Text_PreProcessing_util(X_data_2)"
      ],
      "execution_count": 42,
      "outputs": []
    },
    {
      "cell_type": "code",
      "metadata": {
        "id": "-ZKrOJNhCQC_",
        "colab_type": "code",
        "colab": {
          "base_uri": "https://localhost:8080/",
          "height": 34
        },
        "outputId": "079e69d1-1057-4c74-f60a-ba0236ada438"
      },
      "source": [
        "print(X_data_2[0])"
      ],
      "execution_count": 43,
      "outputs": [
        {
          "output_type": "stream",
          "text": [
            "sac pin ip viền kim loại đụng cảm giác tê như điện máy lỗi không làm sao khắc phục\n"
          ],
          "name": "stdout"
        }
      ]
    },
    {
      "cell_type": "code",
      "metadata": {
        "id": "3DWE2MdQCV9i",
        "colab_type": "code",
        "colab": {}
      },
      "source": [
        "vectorizer_2 = TfidfVectorizer()\n",
        "vectorizer_2.fit(X_data_2)\n",
        "X_data_tfidf_2 = vectorizer_2.transform(X_data_2).toarray()"
      ],
      "execution_count": 44,
      "outputs": []
    },
    {
      "cell_type": "code",
      "metadata": {
        "id": "n5-whpuFCaN3",
        "colab_type": "code",
        "colab": {
          "base_uri": "https://localhost:8080/",
          "height": 54
        },
        "outputId": "a3688f72-f6fa-44c5-ee25-17dc7738133e"
      },
      "source": [
        "print(vectorizer_2.get_feature_names())"
      ],
      "execution_count": 45,
      "outputs": [
        {
          "output_type": "stream",
          "text": [
            "['_i_', '_pin', '_sạc', '_và', 'abonic', 'active', 'ad', 'adapter', 'admin', 'adorable', 'adr', 'adreno', 'adroi', 'adroid', 'ae', 'ag', 'ah', 'ahehehe', 'ahihi', 'ai', 'airpod', 'ak', 'akg', 'al', 'album', 'always', 'am', 'amin', 'amoled', 'amp', 'an', 'and', 'andoi', 'andoid', 'androi', 'android', 'anfai', 'angten', 'anh', 'anker', 'anlpha', 'antutu', 'ao', 'ap', 'apel', 'apk', 'aple', 'ar', 'as', 'atcol', 'athì', 'audio', 'auto', 'avatar', 'avt', 'ba', 'bai', 'bala', 'balo', 'ban', 'bang', 'bao', 'batery', 'bay', 'bc', 'be', 'beat', 'best', 'bgqafy', 'bh', 'bi', 'biet', 'bik', 'bil', 'bin', 'binh', 'binhg', 'bionic', 'bit', 'bixby', 'biên', 'biêt', 'biêtd', 'biêts', 'biến', 'biết', 'biếu', 'biền', 'biển', 'biểu', 'biện', 'biệt', 'bjk', 'bl', 'bla', 'blosom', 'bloutoth', 'bluatoth', 'bluetoth', 'blut', 'blutod', 'blutoth', 'blutut', 'bn', 'bo', 'boi', 'bong', 'bouns', 'box', 'brand', 'bronze', 'bt', 'bth', 'bthan', 'bthuong', 'bua', 'bubg', 'buds', 'buonc', 'burn', 'buôn', 'buồn', 'buồnmàn', 'buổi', 'buộc', 'bx', 'by', 'bà', 'bài', 'bàn', 'bày', 'bá', 'bách', 'bám', 'bán', 'bánh', 'báo', 'bát', 'bâm', 'bât', 'bâth', 'bây', 'bãy', 'bè', 'bé', 'bén', 'bét', 'béthứ', 'bê', 'bình', 'bí', 'bít', 'bò', 'bó', 'bóc', 'bóng', 'bóp', 'bù', 'bùi', 'bùn', 'bút', 'băn', 'bước', 'bạ', 'bạc', 'bại', 'bạn', 'bả', 'bải', 'bản', 'bảng', 'bảo', 'bảy', 'bấm', 'bấn', 'bất', 'bẩn', 'bẩy', 'bẫy', 'bậc', 'bận', 'bật', 'bậy', 'bắc', 'bắn', 'bắp', 'bắt', 'bằg', 'bằng', 'bằq', 'bằt', 'bẻ', 'bến', 'bếp', 'bề', 'bền', 'bể', 'bễ', 'bệnh', 'bỉ', 'bị', 'bịp', 'bịtk', 'bọc', 'bọn', 'bỏ', 'bỏng', 'bố', 'bối', 'bốn', 'bổ', 'bổng', 'bộ', 'bội', 'bớt', 'bờ', 'bởi', 'bỡ', 'bụi', 'bụng', 'bụp', 'bửa', 'bữa', 'bực', 'bựcnói', 'ca', 'cac', 'cacbonat', 'cad', 'cai', 'cal', 'cam', 'camara', 'camare', 'came', 'camera', 'cameramimui', 'camra', 'camặc', 'camẻa', 'can', 'candy', 'canh', 'cao', 'caowifi', 'cap', 'caps', 'carame', 'cat', 'cay', 'celphone', 'cgung', 'ch', 'cha', 'chai', 'chak', 'cham', 'chan', 'chang', 'chat', 'chau', 'chay', 'che', 'check', 'chi', 'chia', 'chim', 'china', 'chinasam', 'ching', 'chinh', 'chip', 'chipset', 'chit', 'chiêu', 'chiếm', 'chiến', 'chiết', 'chiếu', 'chiều', 'chiển', 'chiểu', 'chiễ', 'chiệu', 'cho', 'choi', 'chong', 'choảnh', 'choẹt', 'chplay', 'chq', 'chrome', 'chromethứ', 'chu', 'chua', 'chug', 'chung', 'chungt', 'chungtheo', 'chup', 'chuq', 'chuyên', 'chuyển', 'chuyện', 'chuôi', 'chuông', 'chuẩn', 'chuối', 'chuốt', 'chuột', 'chà', 'chào', 'chày', 'chán', 'chánmới', 'cháo', 'chát', 'cháu', 'cháy', 'châm', 'chân', 'châu', 'chèn', 'chê', 'chênh', 'chí', 'chín', 'chính', 'chíp', 'chói', 'chóng', 'chót', 'chùa', 'chùi', 'chùm', 'chú', 'chúa', 'chúc', 'chúng', 'chút', 'chútcam', 'chútvẫn', 'chăc', 'chăm', 'chăn', 'chăng', 'chơi', 'chưa', 'chương', 'chưởng', 'chưởnghiệu', 'chạm', 'chạnh', 'chạnm', 'chạp', 'chạy', 'chả', 'chải', 'chảnh', 'chảo', 'chấm', 'chấp', 'chất', 'chấu', 'chậm', 'chậmđang', 'chận', 'chập', 'chật', 'chắc', 'chắn', 'chẳn', 'chẳng', 'chặn', 'chế', 'chết', 'chề', 'chỉ', 'chỉnh', 'chị', 'chịu', 'chịuquét', 'chọc', 'chọi', 'chọn', 'chọnbản', 'chối', 'chống', 'chốt', 'chồng', 'chổi', 'chỗ', 'chớp', 'chờ', 'chờn', 'chờncamera', 'chợ', 'chợt', 'chục', 'chụp', 'chụpax', 'chủ', 'chứ', 'chứa', 'chức', 'chứng', 'chừ', 'chừng', 'chử', 'chửa', 'chữ', 'chữa', 'chữnhược', 'ck', 'clan', 'clans', 'clas', 'clash', 'clip', 'clips', 'cm', 'cmt', 'cn', 'cnh', 'co', 'coc', 'cod', 'coi', 'color', 'colpad', 'combat', 'coment', 'compat', 'con', 'cong', 'congmn', 'corona', 'cost', 'cpu', 'cq', 'credit', 'crush', 'cs', 'cscript', 'cse', 'ct', 'cthasng', 'cty', 'cu', 'cua', 'cuc', 'cug', 'cung', 'cuoc', 'cuốc', 'cuối', 'cuộc', 'cuộn', 'cyty', 'cà', 'cài', 'càn', 'càng', 'cành', 'cày', 'cá', 'cách', 'cái', 'cám', 'cán', 'cánh', 'cáo', 'cáp', 'cát', 'câc', 'câm', 'câmra', 'cân', 'câp', 'câu', 'cây', 'cã', 'cãi', 'cãichỉ', 'cãituy', 'cò', 'còm', 'còn', 'có', 'cóc', 'cô', 'công', 'cùi', 'cùng', 'cú', 'cúng', 'cúp', 'căng', 'cđ', 'cũ', 'cũg', 'cũng', 'cơ', 'cơm', 'cư', 'cưa', 'cưc', 'cưd', 'cưng', 'cưả', 'cướp', 'cường', 'cạch', 'cạn', 'cạnh', 'cả', 'cảchơi', 'cải', 'cảm', 'cản', 'cảnh', 'cảo', 'cấm', 'cấn', 'cấp', 'cất', 'cấu', 'cầm', 'cần', 'cầu', 'cẩm', 'cẩn', 'cẫn', 'cận', 'cập', 'cắm', 'cắn', 'cắp', 'cắt', 'cằm', 'cằn', 'cằng', 'cặp', 'cọc', 'cọm', 'cố', 'cốc', 'cống', 'cốt', 'cổ', 'cổng', 'cỗ', 'cộc', 'cộng', 'cột', 'cờ', 'cở', 'cỡ', 'cụ', 'cụbộ', 'cục', 'cụm', 'củ', 'củg', 'củng', 'cứ', 'cứng', 'cứu', 'cử', 'cửa', 'cữ', 'cững', 'cự', 'cực', 'da', 'dac', 'dag', 'dah', 'dai', 'daklak', 'dan', 'dang', 'danh', 'dao', 'dark', 'day', 'db', 'dc', 'de', 'delay', 'demo', 'den', 'dep', 'deplay', 'designed', 'det', 'deu', 'dg', 'di', 'diem', 'dien', 'dienmayxanh', 'dis', 'display', 'diễn', 'diện', 'diệt', 'diệu', 'dk', 'dmx', 'do', 'doanh', 'dock', 'doi', 'dok', 'dong', 'dow', 'down', 'download', 'doạn', 'dp', 'dpi', 'dream', 'drive', 'driver', 'drop', 'ds', 'dsc', 'dt', 'dth', 'dthoai', 'du', 'dung', 'duoc', 'duog', 'duty', 'duy', 'duyên', 'duyệt', 'dx', 'dài', 'dàng', 'dành', 'dày', 'dám', 'dán', 'dáng', 'dân', 'dâu', 'dây', 'dã', 'dãi', 'dè', 'dép', 'dêm', 'dìm', 'dìn', 'dính', 'dò', 'dòng', 'dóng', 'dô', 'dông', 'dõi', 'dù', 'dùg', 'dùhàng', 'dùm', 'dùng', 'dùngnói', 'dăt', 'dĩ', 'dơ', 'dư', 'dưng', 'dương', 'dạ', 'dại', 'dạng', 'dạo', 'dải', 'dấp', 'dất', 'dấu', 'dầm', 'dần', 'dầu', 'dẫn', 'dật', 'dậy', 'dắc', 'dắt', 'dẹp', 'dẽ', 'dể', 'dễ', 'dị', 'dịch', 'dịp', 'dịu', 'dọc', 'dọng', 'dỏm', 'dố', 'dốc', 'dộ', 'dộng', 'dở', 'dởm', 'dỡ', 'dụ', 'dụg', 'dụm', 'dụng', 'dụngnào', 'dụngthiết', 'dừng', 'dử', 'dữ', 'dự', 'dực', 'dựt', 'ecofre', 'edit', 'em', 'email', 'emeoj', 'emui', 'esim', 'esynote', 'exclusive', 'excrl', 'extrem', 'exynos', 'fabok', 'face', 'facebok', 'faceid', 'fack', 'fai', 'fami', 'fan', 'fb', 'fbs', 'fcae', 'fcai', 'fe', 'feature', 'fhd', 'fi', 'fifa', 'file', 'film', 'fim', 'find', 'fine', 'finx', 'fire', 'first', 'fiwi', 'fix', 'flagship', 'flash', 'flaship', 'flashsale', 'flc', 'flip', 'flower', 'fm', 'font', 'fps', 'fpt', 'fre', 'frefire', 'from', 'ful', 'fulhd', 'fun', 'fải', 'gach', 'galaxy', 'gam', 'game', 'game_về', 'games', 'gaming', 'gb', 'gbgb', 'gem', 'ggb', 'gh', 'ghi', 'ghim', 'ghz', 'ghé', 'ghét', 'ghê', 'ghì', 'ghõ', 'ghế', 'gi', 'gia', 'giad', 'giagiá', 'gian', 'giang', 'giao', 'gim', 'gio', 'gioi', 'già', 'giành', 'giày', 'giá', 'giác', 'giáchip', 'giáchiến', 'giámới', 'gián', 'giánhược', 'giáthiết', 'giáthứ', 'giây', 'giãm', 'giãn', 'giòn', 'gió', 'gióng', 'giôg', 'giông', 'giùm', 'giúp', 'giúptks', 'giăt', 'giơ', 'giường', 'giả', 'giải', 'giảm', 'giản', 'giấc', 'giật', 'giặc', 'giếc', 'giọng', 'giọt', 'giỏi', 'giống', 'giới', 'giờ', 'giời', 'giở', 'giữ', 'giữa', 'giựt', 'gja', 'glas', 'globat', 'gmail', 'god', 'gogle', 'goi', 'gold', 'gop', 'gorila', 'gout', 'goviet', 'gox', 'gp', 'gprs', 'gps', 'gpu', 'gr', 'grab', 'grad', 'gras', 'gt', 'gu', 'gàng', 'gái', 'gét', 'gì', 'gìmáy', 'gía', 'gò', 'góc', 'gói', 'góp', 'gõ', 'gũi', 'gương', 'gưởi', 'gạch', 'gạo', 'gạp', 'gạt', 'gảme', 'gấp', 'gần', 'gậm', 'gập', 'gậy', 'gắn', 'gắng', 'gắt', 'gọ', 'gọi', 'gọn', 'gốc', 'gộ', 'gớm', 'gởi', 'gỡ', 'gợi', 'gủi', 'gủng', 'gửi', 'ha', 'hack', 'hag', 'hago', 'haha', 'hai', 'haiz', 'haizsản', 'hajz', 'ham', 'hang', 'hanh', 'hao', 'haowcj', 'hary', 'hau', 'hauwai', 'hay', 'haz', 'hd', 'hdr', 'health', 'hehe', 'helio', 'hero', 'het', 'hi', 'hic', 'hickhông', 'hien', 'hih', 'hihi', 'hinh', 'hinhf', 'hinhg', 'hiuhiu', 'hiếm', 'hiều', 'hiểm', 'hiểmkhông', 'hiển', 'hiểu', 'hiện', 'hiệu', 'hj', 'hjh', 'hjhj', 'hk', 'hm', 'ho', 'hoa', 'hoang', 'hoat', 'hoi', 'hom', 'home', 'homecredit', 'hon', 'honkai', 'hop', 'hot', 'hoà', 'hoài', 'hoàn', 'hoàng', 'hoá', 'hoăc', 'hoạ', 'hoạc', 'hoạrõ', 'hoạt', 'hoả', 'hp', 'hp_', 'hq', 'hqua', 'hs', 'huawei', 'huaweu', 'huhu', 'hui', 'hum', 'huwei', 'huyết', 'huyền', 'huyện', 'huống', 'huỳnh', 'hy', 'hz', 'hà', 'hài', 'hàm', 'hàng', 'hành', 'háo', 'hát', 'hân', 'hãmpin', 'hãng', 'hè', 'héo', 'hên', 'hêt', 'hêta', 'hêts', 'hì', 'hình', 'hìnhphân', 'hìnhra', 'hìnhthứ', 'híc', 'hít', 'hòa', 'hòm', 'hóa', 'hóc', 'hô', 'hôi', 'hôm', 'hông', 'hù', 'hùi', 'hùng', 'húp', 'hút', 'hđ', 'hơb', 'hơi', 'hơn', 'hư', 'hưng', 'hương', 'hướng', 'hưởng', 'hưởngmáy', 'hạ', 'hạc', 'hại', 'hạn', 'hạng', 'hạnh', 'hạt', 'hả', 'hải', 'hảng', 'hảo', 'hầu', 'hận', 'hậu', 'hằng', 'hẳn', 'hẵn', 'hẹ', 'hẹn', 'hẻm', 'hẻo', 'hết', 'hề', 'hể', 'hễ', 'hệ', 'hệt', 'hỉu', 'hịn', 'họ', 'họa', 'học', 'hỏi', 'hỏng', 'hối', 'hốt', 'hồ', 'hồi', 'hồn', 'hồng', 'hồngsau', 'hổ', 'hỗ', 'hỗi', 'hỗn', 'hộ', 'hội', 'hộp', 'hột', 'hớ', 'hới', 'hớn', 'hớt', 'hờ', 'hời', 'hở', 'hởi', 'hợp', 'hụt', 'hứa', 'hứng', 'hữu', 'icon', 'id', 'ihi', 'im', 'imei', 'impact', 'in', 'inl', 'intagram', 'intel', 'internet', 'ios', 'ip', 'ipad', 'iphone', 'iphonex', 'ipplus', 'ips', 'iron', 'is', 'it', 'itel', 'jack', 'ji', 'jk', 'jnhân', 'jo', 'joi', 'joy', 'jprim', 'jpro', 'ju', 'karaoke', 'kb', 'kc', 'kcó', 'kem', 'keo', 'key', 'kg', 'kha', 'khac', 'khai', 'khang', 'khay', 'khe', 'khen', 'khi', 'khinh', 'khiêng', 'khiến', 'khiếp', 'khiển', 'khj', 'kho', 'khoang', 'khoe', 'khoi', 'khong', 'khoá', 'khoác', 'khoái', 'khoáng', 'khoét', 'khoăn', 'khoăng', 'khoản', 'khoảng', 'khoẻ', 'khoẻmiui', 'khu', 'khui', 'khung', 'khuyên', 'khuyến', 'khuyết', 'khuyện', 'khuân', 'khuôn', 'khuông', 'khá', 'khác', 'khách', 'kháng', 'khánh', 'khát', 'khâu', 'khích', 'khó', 'khóa', 'khóc', 'khói', 'khô', 'khôg', 'khôi', 'khôn', 'không', 'khôngmình', 'khôngtai', 'khôngvẫn', 'khõi', 'khù', 'khúc', 'khúcon', 'khăn', 'khăng', 'khơi', 'khả', 'khảo', 'khấu', 'khẩn', 'khẩu', 'khắc', 'khắt', 'khỏang', 'khỏe', 'khỏecơ', 'khỏi', 'khối', 'khổ', 'khổi', 'khổng', 'khờ', 'khởi', 'khủng', 'khử', 'khựa', 'khựng', 'ki', 'kia', 'kiatoi', 'kich', 'kim', 'kinh', 'kiên', 'kiếm', 'kiến', 'kiềm', 'kiều', 'kiểm', 'kiển', 'kiểng', 'kiểu', 'kiệm', 'kiện', 'kiệt', 'kj', 'kl', 'km', 'kn', 'ko', 'kog', 'kon', 'kqua', 'kt', 'kung', 'kvậy', 'kà', 'kè', 'kèm', 'ké', 'kém', 'kémbắt', 'kémcảm', 'kémvào', 'kén', 'kéo', 'kép', 'két', 'kê', 'kênh', 'kêu', 'kì', 'kìa', 'kìgiờ', 'kình', 'kìđổi', 'kí', 'kích', 'kím', 'kín', 'kính', 'kô', 'ký', 'kĩ', 'kảnh', 'kẹo', 'kẹt', 'kẻ', 'kế', 'kết', 'kể', 'kệ', 'kỉ', 'kịp', 'kỳ', 'kỷ', 'kỹ', 'la', 'lac', 'lag', 'lai', 'lak', 'lalt', 'lam', 'lan', 'lang', 'lao', 'lap', 'laptop', 'laq', 'las', 'last', 'lat', 'lau', 'lazada', 'lcd', 'le', 'led', 'legends', 'lem', 'len', 'lengend', 'leo', 'lg', 'li', 'lien', 'lightning', 'like', 'limit', 'linh', 'lipo', 'lite', 'litequa', 'live', 'livestream', 'liên', 'liêu', 'liết', 'liền', 'liệt', 'liệu', 'lm', 'lnq', 'lo', 'loa', 'load', 'loang', 'loao', 'lock', 'logeng', 'logo', 'loi', 'long', 'lordmobi', 'love', 'lozmàng', 'loáng', 'loát', 'loại', 'loạn', 'lq', 'lqmb', 'lquan', 'lte', 'lu', 'lua', 'luan', 'luc', 'lui', 'lum', 'lun', 'lung', 'lunk', 'luon', 'luong', 'luot', 'lus', 'luân', 'luôn', 'luônlúc', 'luônđây', 'luận', 'lvs', 'lw', 'lx', 'ly', 'là', 'làm', 'làmvà', 'làn', 'làng', 'lành', 'lá', 'lác', 'láchay', 'lái', 'lám', 'lát', 'lâm', 'lân', 'lâu', 'lãi', 'lãng', 'lè', 'léo', 'lét', 'lê', 'lên', 'lêncòn', 'lìm', 'lình', 'lí', 'lòi', 'lòng', 'lòq', 'lóa', 'lô', 'lôi', 'lông', 'lõi', 'lùi', 'lùn', 'lú', 'lúa', 'lúc', 'lút', 'lý', 'lăm', 'lăn', 'lĩnh', 'lũng', 'lưa', 'lưng', 'lưngthê', 'lưu', 'lưuý', 'lương', 'lươt', 'lước', 'lưới', 'lướt', 'lưỡng', 'lược', 'lượg', 'lượng', 'lượt', 'lạ', 'lạc', 'lại', 'lạimic', 'lạisau', 'lạithứ', 'lạng', 'lạnh', 'lạy', 'lảng', 'lấm', 'lấp', 'lầm', 'lẫn', 'lận', 'lập', 'lật', 'lắc', 'lắm', 'lắmnói', 'lắmàn', 'lắng', 'lắp', 'lằm', 'lặng', 'lặp', 'lặt', 'lẹ', 'lẻ', 'lẻo', 'lẻo_', 'lẽ', 'lếch', 'lề', 'lễ', 'lệ', 'lệch', 'lịch', 'lọc', 'lọt', 'lỏng', 'lố', 'lối', 'lồi', 'lồng', 'lổ', 'lổi', 'lỗ', 'lỗi', 'lỗicho', 'lộ', 'lộc', 'lộn', 'lột', 'lớn', 'lớp', 'lờ', 'lời', 'lởm', 'lỡ', 'lợi', 'lợtdùng', 'lục', 'lứa', 'lứớt', 'lừa', 'lựa', 'lực', 'ma', 'macro', 'mafn', 'mag', 'mah', 'mahlần', 'mai', 'mail', 'main', 'mak', 'maketing', 'man', 'mang', 'manh', 'map', 'maps', 'marco', 'markerplace', 'master', 'mau', 'max', 'maxmàn', 'maxseting', 'may', 'maysamsung', 'maý', 'mb', 'mba', 'mbps', 'mcs', 'media', 'mediamart', 'mensenge', 'menu', 'mes', 'mesage', 'mesager', 'meseger', 'mesenge', 'mesenger', 'mesges', 'mg', 'mghe', 'mh', 'mha', 'mi', 'mia', 'mic', 'micro', 'midiatek', 'mieng', 'mih', 'mil', 'mine', 'minh', 'minhg', 'mini', 'miro', 'mistore', 'miui', 'miul', 'miên', 'miếng', 'miết', 'miềm', 'miền', 'miễn', 'miệt', 'mjh', 'mjk', 'mk', 'ml', 'mn', 'mng', 'mo', 'mobi', 'mobie', 'mobifone', 'mobile', 'mobistar', 'mod', 'mode', 'model', 'modem', 'modun', 'mog', 'moi', 'momg', 'mong', 'monh', 'mot', 'motion', 'mp', 'mpx', 'mqys', 'ms', 'msg', 'mu', 'mua', 'muamáy', 'muanhân', 'muarất', 'muathif', 'much', 'muoc', 'muon', 'muot', 'musik', 'musốc', 'muôn', 'muốn', 'muống', 'muộn', 'muột', 'muợt', 'mvp', 'mxh', 'my', 'myas', 'mà', 'mài', 'màk', 'màm', 'màn', 'màng', 'màu', 'màukg', 'mày', 'má', 'mác', 'mái', 'mát', 'máu', 'máy', 'máyngoài', 'máynhân', 'máyram', 'máyđiểm', 'mât', 'mâu', 'mây', 'mã', 'mãi', 'mép', 'mét', 'mê', 'mên', 'mêt', 'mêthụi', 'mìh', 'mìk', 'mìn', 'mình', 'mí', 'míc', 'mò', 'mòi', 'móc', 'mói', 'móng', 'mô', 'môi', 'môn', 'mõi', 'mù', 'mùa', 'mùn', 'mùng', 'múc', 'mún', 'măy', 'mơi', 'mưa', 'mươi', 'mươt', 'mướt', 'mười', 'mườn', 'mược', 'mượn', 'mượt', 'mượtcamera', 'mượtcho', 'mượtf', 'mượtkhông', 'mượtnhân', 'mượtnhưng', 'mạ', 'mạc', 'mạch', 'mại', 'mạng', 'mạngưu', 'mạnh', 'mạo', 'mạt', 'mảng', 'mất', 'mấy', 'mấycòn', 'mầu', 'mẫu', 'mật', 'mắc', 'mắn', 'mắt', 'mắtmàn', 'mằt', 'mặc', 'mặt', 'mẹ', 'mẹo', 'mẹt', 'mẻ', 'mẽ', 'mến', 'mề', 'mềm', 'mềnh', 'mệt', 'mịn', 'mọi', 'mọingnoi', 'mỏi', 'mỏng', 'mốc', 'mốt', 'mồ', 'mổi', 'mỗi', 'một', 'mớ', 'mới', 'mờ', 'mời', 'mở', 'mục', 'mụcmong', 'mức', 'mừng', 'mực', 'mựợt', 'mỹ', 'na', 'nady', 'nai', 'nak', 'nam', 'namcam', 'nan', 'nano', 'nay', 'nayd', 'nc', 'nchung', 'nd', 'nen', 'neo', 'net', 'neutot', 'new', 'next', 'nfc', 'nga', 'ngang', 'ngay', 'ngayđoi', 'nge', 'nghe', 'nghea', 'nghi', 'nghiem', 'nghiêm', 'nghiên', 'nghiêng', 'nghiến', 'nghiệm', 'nghiệp', 'nghèo', 'nghìn', 'nghĩ', 'nghĩa', 'nghĩnhmàn', 'nghưng', 'nghẻ', 'nghề', 'nghệ', 'nghỉ', 'nghị', 'nghịch', 'ngoai', 'ngoan', 'ngoc', 'ngon', 'ngonmột', 'ngoài', 'ngoàithứ', 'ngoãn', 'ngoại', 'ngta', 'ngu', 'nguy', 'nguyen', 'nguyên', 'nguyễn', 'nguôn', 'nguồn', 'nguội', 'ngàn', 'ngày', 'ngàycứ', 'ngàymáy', 'ngán', 'ngáp', 'ngân', 'ngã', 'ngòai', 'ngó', 'ngóm', 'ngón', 'ngôn', 'ngĩ', 'ngũ', 'ngư', 'ngưng', 'người', 'ngưỡng', 'ngược', 'ngại', 'ngạn', 'ngả', 'ngất', 'ngầm', 'ngầu', 'ngẫm', 'ngậm', 'ngắc', 'ngắm', 'ngắn', 'ngắt', 'ngọc', 'ngốn', 'ngộ', 'ngờ', 'ngỡ', 'ngợi', 'ngợp', 'ngủ', 'ngủm', 'ngứa', 'ngừng', 'ngừoi', 'ngửa', 'ngữ', 'nha', 'nhac', 'nhacuatui', 'nhah', 'nhan', 'nhanh', 'nhanhcamera', 'nhanhcác', 'nhanhcái', 'nhanhcó', 'nhanhkhuyết', 'nhanhmàn', 'nhanhthứ', 'nhat', 'nhay', 'nhayr', 'nhe', 'nhem', 'nhg', 'nhiet', 'nhieu', 'nhiu', 'nhiuef', 'nhièu', 'nhiêm', 'nhiên', 'nhiêt', 'nhiêtu', 'nhiêu', 'nhiều', 'nhiểu', 'nhiễu', 'nhiệm', 'nhiệt', 'nhom', 'nhoè', 'nhu', 'nhug', 'nhung', 'nhuoc', 'nhuận', 'nhwung', 'nhà', 'nhàm', 'nhàng', 'nhá', 'nhái', 'nhám', 'nháng', 'nhánh', 'nháy', 'nhâ', 'nhân', 'nhât', 'nhây', 'nhã', 'nhãn', 'nhãng', 'nhè', 'nhèo', 'nhé', 'nhì', 'nhìe', 'nhìn', 'nhình', 'nhìu', 'nhí', 'nhích', 'nhòa', 'nhòe', 'nhôm', 'nhúc', 'nhăn', 'nhĩ', 'nhơn', 'như', 'nhưg', 'nhưng', 'nhưq', 'nhường', 'nhược', 'nhạc', 'nhại', 'nhạn', 'nhạt', 'nhạy', 'nhạycảm', 'nhạynói', 'nhảm', 'nhảy', 'nhấc', 'nhấn', 'nhấp', 'nhất', 'nhầm', 'nhẫn', 'nhận', 'nhậnthứ', 'nhập', 'nhật', 'nhậy', 'nhắc', 'nhắm', 'nhắn', 'nhằm', 'nhằng', 'nhẵc', 'nhẹ', 'nhẹcpu', 'nhẹnhược', 'nhẽ', 'nhể', 'nhỉnh', 'nhỉsóng', 'nhỉtừ', 'nhị', 'nhịn', 'nhịp', 'nhọ', 'nhỏ', 'nhớ', 'nhỡ', 'nhợt', 'nhứ', 'nhức', 'nhứng', 'nhứt', 'nhữg', 'nhựa', 'nhựađiểm', 'ninh', 'nit', 'niên', 'niềm', 'niệm', 'nk', 'nm', 'nma', 'no', 'nog', 'noi', 'noise', 'nok', 'nokia', 'not', 'note', 'notelite', 'notes', 'nova', 'novai', 'ns', 'nsx', 'nt', 'ntn', 'nua', 'nuc', 'nuoc', 'nut', 'nute', 'nuôi', 'nuốt', 'nuột', 'nv', 'nvien', 'nvkt', 'nx', 'nxs', 'nyc', 'nz', 'nà', 'nài', 'nàm', 'nàn', 'nào', 'nàođang', 'nàođiểm', 'này', 'ná', 'nách', 'nát', 'nâng', 'nãn', 'não', 'nãy', 'nè', 'né', 'ném', 'nén', 'nét', 'nên', 'nêu', 'níu', 'nódùng', 'nói', 'nón', 'nóng', 'nót', 'nôn', 'nông', 'núi', 'nút', 'núut', 'năg', 'năng', 'nơm', 'nưa', 'nước', 'nạn', 'nạp', 'nạpgiá', 'nản', 'nấc', 'nần', 'nầy', 'nắm', 'nắng', 'nắp', 'nằm', 'nằng', 'nẵng', 'nặg', 'nặng', 'nến', 'nết', 'nếu', 'nề', 'nền', 'nịnh', 'nối', 'nốt', 'nồ', 'nổ', 'nổi', 'nỗi', 'nỗimên', 'nội', 'nộp', 'nới', 'nớp', 'nở', 'nứt', 'nửa', 'nữ', 'nữa', 'nữachậm', 'nữamình', 'nữanhân', 'nữarealme', 'oai', 'of', 'ofice', 'ohan', 'ohần', 'oi', 'ok', 'okay', 'okbảo', 'okbữa', 'oke', 'okey', 'okhiệu', 'okng', 'oknhân', 'okpin', 'oktuy', 'okvân', 'ol', 'oled', 'om', 'on', 'one', 'onl', 'online', 'onmyoji', 'onscren', 'op', 'opera', 'opo', 'opoa', 'opop', 'opsion', 'or', 'os', 'out', 'oy', 'page', 'pai', 'pan', 'panert', 'parents', 'partner', 'pas', 'pasword', 'pay', 'pb', 'pc', 'pcho', 'pd', 'pdf', 'performance', 'pf', 'pg', 'ph', 'phai', 'pham', 'phan', 'phang', 'phi', 'philips', 'phim', 'phin', 'phiên', 'phiêu', 'phiếu', 'phiền', 'phone', 'phong', 'phu', 'phut', 'phà', 'phàn', 'phá', 'phán', 'pháp', 'phát', 'phâm', 'phân', 'phãn', 'phèo', 'phép', 'phê', 'phêthấy', 'phì', 'phí', 'phím', 'phòng', 'phòq', 'phóng', 'phông', 'phù', 'phú', 'phúc', 'phút', 'phơi', 'phương', 'phước', 'phường', 'phượt', 'phạm', 'phải', 'phảm', 'phản', 'phảu', 'phầm', 'phần', 'phẩm', 'phẩmpin', 'phẩmvừa', 'phẩn', 'phậm', 'phận', 'phẳng', 'phế', 'phết', 'phềm', 'phố', 'phốt', 'phồng', 'phổ', 'phớt', 'phờ', 'phụ', 'phục', 'phụcđã', 'phủ', 'phức', 'picachu', 'pim', 'pin', 'pinchứ', 'ping', 'pinhiều', 'pinmạng', 'pintrong', 'pinvậy', 'pit', 'pjn', 'pk', 'pl', 'play', 'plus', 'pluscòn', 'po', 'polyme', 'pon', 'pop', 'poro', 'power', 'pr', 'present', 'preview', 'price', 'prime', 'pro', 'promax', 'ps', 'pt', 'pubg', 'pubgm', 'pug', 'pugb', 'pun', 'pupg', 'pus', 'pv', 'pít', 'pải', 'pằng', 'pị', 'pịn', 'qa', 'qc', 'ql', 'qtv', 'qua', 'quad', 'quagiá', 'qualcom', 'quan', 'quang', 'quanh', 'quaphải', 'quay', 'quen', 'qui', 'quy', 'quyết', 'quyền', 'quà', 'quá', 'quácamera', 'quágiao', 'quái', 'quán', 'quánh', 'quátui', 'quân', 'quãng', 'quét', 'quê', 'quên', 'quạo', 'quạt', 'quả', 'quản', 'quảng', 'quất', 'quần', 'quẩy', 'quẻ', 'quốc', 'quỳ', 'quỳnh', 'qv', 'qvudnenc', 'qúa', 'ra', 'rachiến', 'radio', 'rai', 'ram', 'ramg', 'ran', 'rang', 'rapin', 'rat', 'rata', 'rathứ', 'rdù', 'real', 'realme', 'realmei', 'receiver', 'redme', 'redmi', 'redmis', 'redmix', 'relme', 'remi', 'remote', 'reno', 'report', 'reset', 'restore', 'review', 'reviewer', 'riec', 'rieng', 'rinh', 'riêng', 'riết', 'rnhưng', 'rog', 'roi', 'rom', 'romgb', 'roăng', 'rpg', 'rqats', 'rs', 'rung', 'ruồi', 'ruột', 'ràng', 'rành', 'rác', 'rách', 'rán', 'ráng', 'rát', 'rât', 'rãn', 'rè', 'ré', 'rét', 'rì', 'rít', 'ròi', 'ròy', 'rôi', 'rông', 'rõ', 'rõphiên', 'rùa', 'rùi', 'rùng', 'rúc', 'rút', 'răng', 'răt', 'rơi', 'rước', 'rưỡi', 'rượi', 'rạch', 'rạt', 'rấc', 'rầm', 'rậm', 'rắc', 'rắn', 'rằng', 'rẻ', 'rẽ', 'rễ', 'rệt', 'rỏ', 'rối', 'rốt', 'rồ', 'rồi', 'rồimáy', 'rồiđể', 'rồng', 'rổ', 'rỗ', 'rộ', 'rộng', 'rớ', 'rớc', 'rớt', 'rờ', 'rời', 'rỡ', 'rợm', 'rủi', 'rừng', 'rực', 'rỳ', 'sa', 'sac', 'sai', 'sale', 'sam', 'samfan', 'samfans', 'samsung', 'san', 'sang', 'sao', 'saomột', 'sau', 'scen', 'scren', 'sd', 'sdt', 'se', 'seal', 'search', 'selfie', 'send', 'sendo', 'seri', 'set', 'seting', 'setings', 'setop', 'setup', 'sg', 'sgas', 'shit', 'shop', 'shope', 'sim', 'sinh', 'sip', 'siêu', 'skil', 'slas', 'slite', 'sliver', 'slow', 'slowmoition', 'smart', 'smartphone', 'smoth', 'sms', 'sn', 'snap', 'snapdragon', 'snow', 'so', 'soc', 'socer', 'soda', 'song', 'sony', 'soát', 'soạn', 'soạt', 'sp', 'spen', 'spham', 'spider', 'splus', 'spro', 'sren', 'st', 'star', 'start', 'startower', 'stas', 'steam', 'stereo', 'stop', 'stres', 'su', 'sufway', 'sumsung', 'sung', 'super', 'suy', 'suất', 'suốt', 'sv', 'sx', 'sài', 'sàn', 'sàng', 'sành', 'sác', 'sách', 'ság', 'sáng', 'sángpin', 'sánh', 'sát', 'sáu', 'sâng', 'sâu', 'sém', 'sét', 'sì', 'sít', 'sò', 'só', 'sóc', 'sóg', 'sóng', 'sót', 'sôi', 'súng', 'sút', 'sơ', 'sơn', 'sưng', 'sưu', 'sương', 'sước', 'sướng', 'sướt', 'sạ', 'sạc', 'sạch', 'sạn', 'sạt', 'sản', 'sảng', 'sảo', 'sấp', 'sấy', 'sậm', 'sập', 'sắc', 'sắcnhu', 'sắm', 'sắn', 'sắp', 'sắt', 'sẳn', 'sẵ', 'sẵn', 'sặc', 'sặt', 'sẹo', 'sẻ', 'sẽ', 'sếp', 'sỉ', 'sọ', 'sọc', 'sọt', 'số', 'sốc', 'sống', 'sốt', 'sổ', 'sổi', 'sột', 'sớm', 'sờ', 'sở', 'sợ', 'sợi', 'sục', 'sụp', 'sụt', 'sủ', 'sứ', 'sức', 'sứng', 'sừng', 'sử', 'sửa', 'sửng', 'sữ', 'sữa', 'sự', 'sựlần', 'ta', 'tab', 'tad', 'taem', 'tag', 'tai', 'tam', 'tan', 'tap', 'tar', 'tay', 'taysạc', 'tayưu', 'tb', 'tbh', 'te', 'team', 'tele', 'tem', 'ten', 'teo', 'tes', 'test', 'tet', 'teung', 'text', 'tft', 'tg', 'tgd', 'tgdhnay', 'tgdt', 'tgdđ', 'tgian', 'th', 'thag', 'tham', 'than', 'thang', 'thanh', 'thanhk', 'thank', 'thanks', 'thao', 'that', 'thay', 'the', 'theamazing', 'thegioididong', 'them', 'themes', 'theo', 'thi', 'thich', 'thier', 'thiets', 'thinh', 'this', 'thiên', 'thiêt', 'thiết', 'thiếu', 'thiểu', 'thiện', 'thiệt', 'thiệu', 'thj', 'thjet', 'tho', 'thoai', 'thoi', 'thon', 'thoy', 'thoát', 'thoại', 'thoả', 'thoải', 'thoản', 'thoảng', 'thtkh', 'thu', 'thua', 'thui', 'thuoc', 'thuong', 'thuyế', 'thuê', 'thuần', 'thuận', 'thuật', 'thuộc', 'thà', 'thành', 'thànhnhân', 'thách', 'thág', 'thái', 'tháng', 'thángnếu', 'thánh', 'tháo', 'tháp', 'tháq', 'tháy', 'thâm', 'thân', 'thât', 'thây', 'thâý', 'thèm', 'thê', 'thêm', 'thì', 'thình', 'thích', 'thíchcamera', 'thíchpin', 'thít', 'thíu', 'thò', 'thói', 'thô', 'thôi', 'thôilời', 'thôitel', 'thông', 'thôu', 'thù', 'thùng', 'thú', 'thúa', 'thúc', 'thơi', 'thơm', 'thư', 'thưa', 'thương', 'thươngcamera', 'thước', 'thường', 'thườngthứ', 'thườngtrong', 'thườngâm', 'thượng', 'thạnh', 'thạongười', 'thả', 'thảm', 'thấc', 'thấp', 'thất', 'thấy', 'thấyh', 'thần', 'thầu', 'thầy', 'thẩm', 'thậm', 'thận', 'thật', 'thắc', 'thắng', 'thằng', 'thằq', 'thẳng', 'thẻ', 'thế', 'thếtrong', 'thếâm', 'thề', 'thể', 'thỉ', 'thỉnh', 'thị', 'thịnh', 'thịt', 'thọ', 'thọi', 'thỏ', 'thỏa', 'thống', 'thổ', 'thời', 'thục', 'thụi', 'thụt', 'thủ', 'thủy', 'thứ', 'thức', 'thứcmong', 'thừa', 'thử', 'thữ', 'thực', 'thỳ', 'ti', 'tieg', 'tieng', 'tik', 'tiki', 'tiktok', 'tim', 'tin', 'tinh', 'tintuc', 'tivi', 'tiéng', 'tiên', 'tiêng', 'tiêu', 'tiếc', 'tiếg', 'tiến', 'tiếng', 'tiếp', 'tiết', 'tiếu', 'tiền', 'tiềng', 'tiểp', 'tiễn', 'tiệm', 'tiện', 'tiệt', 'tjnhf', 'tke', 'tkesfn', 'tkấp', 'tn', 'to', 'toang', 'tochưa', 'toi', 'tok', 'tom', 'top', 'tot', 'touch', 'toug', 'toàn', 'toác', 'toán', 'tp', 'tq', 'tr', 'tra', 'trag', 'trai', 'trang', 'tranh', 'trao', 'trau', 'tre', 'tren', 'treo', 'trieu', 'triêu', 'triền', 'triển', 'triệu', 'trk', 'trog', 'tru', 'trun', 'trung', 'truoc', 'truy', 'truyền', 'truyện', 'trà', 'tràn', 'trách', 'trái', 'tránh', 'trâi', 'trân', 'trânj', 'trâu', 'trâubù', 'trâudùng', 'trâumới', 'trãi', 'trê', 'trì', 'trình', 'trí', 'trò', 'tròn', 'tróc', 'trói', 'trôi', 'trông', 'trú', 'trúng', 'trăm', 'trăng', 'trơ', 'trơn', 'trưa', 'trưng', 'trươc', 'trước', 'trướt', 'trường', 'trượt', 'trạng', 'trả', 'trải', 'trảnghe', 'trấn', 'trấp_', 'trất', 'trầm', 'trần', 'trầy', 'trận', 'trắng', 'trặc', 'trẻ', 'trẻo', 'trề', 'trễ', 'trị', 'trọc', 'trọn', 'trọng', 'trọngpin', 'trống', 'trồi', 'trổ', 'trội', 'trộm', 'trời', 'trở', 'trợ', 'trợn', 'trụ', 'trục', 'trứ', 'trứng', 'trứoc', 'trừ', 'trừng', 'trừphản', 'trữ', 'trực', 'tsao', 'tu', 'tua', 'tuan', 'tube', 'tubor', 'tui', 'tum', 'tung', 'tuot', 'turbo', 'tut', 'tuy', 'tuyet', 'tuyên', 'tuyêt', 'tuyêth', 'tuyến', 'tuyệt', 'tuyệtnhư', 'tuân', 'tuấn', 'tuần', 'tuầnmáy', 'tuệ', 'tuốt', 'tuổi', 'tuộc', 'tuột', 'tuỳ', 'tv', 'tx', 'ty', 'type', 'tài', 'tàm', 'tàng', 'tào', 'tàu', 'tá', 'tác', 'tách', 'tái', 'tám', 'táo', 'táp', 'tát', 'tâm', 'tân', 'tây', 'tè', 'tét', 'tê', 'tìm', 'tình', 'tìnhduyệt', 'tìnhgame', 'tìnhmình', 'tí', 'tích', 'tím', 'tín', 'tính', 'tít', 'tòa', 'tóm', 'tô', 'tôi', 'tôn', 'tông', 'tôt', 'tù', 'tùa', 'tùm', 'tùng', 'tùy', 'tú', 'túi', 'túm', 'tút', 'tý', 'tăn', 'tăng', 'tăt', 'tđv', 'tư', 'tươg', 'tươi', 'tương', 'tướng', 'tường', 'tưởg', 'tưởng', 'tượng', 'tại', 'tạm', 'tạo', 'tạp', 'tả', 'tải', 'tản', 'tảng', 'tấc', 'tất', 'tầm', 'tầmnói', 'tần', 'tầu', 'tậm', 'tận', 'tập', 'tật', 'tậu', 'tắc', 'tắm', 'tắt', 'tằm', 'tặc', 'tặng', 'tẹo', 'tế', 'tết', 'tệ', 'tệcó', 'tệmới', 'tỉ', 'tỉnh', 'tịt', 'tỏ', 'tỏng', 'tố', 'tốc', 'tối', 'tốm', 'tốn', 'tốt', 'tốt_', 'tốtdùng', 'tốtnhược', 'tốtnói', 'tốtphục', 'tốtsài', 'tồi', 'tồn', 'tổ', 'tổng', 'tội', 'tới', 'tớil', 'tời', 'tụ', 'tục', 'tụt', 'tủ', 'tức', 'từ', 'tử', 'tự', 'tựa', 'ud', 'uhd', 'ui', 'uk', 'ulike', 'ultra', 'ultral', 'um', 'ung', 'unlock', 'up', 'update', 'updated', 'upload', 'usb', 'utra', 'uy', 'uổng', 'v_', 'va', 'vai', 'van', 'vanced', 'vao', 'vault', 'vay', 'vc', 'vd', 've', 'vi', 'viaphone', 'viber', 'vid', 'video', 'videol', 'videos', 'vidieo', 'vien', 'vieo', 'vietel', 'vietnamobole', 'view', 'vimast', 'vin', 'vina', 'vinh', 'vinid', 'vinmart', 'vinsmart', 'virber', 'virus', 'virut', 'vismart', 'vismat', 'vivo', 'viêc', 'viên', 'viêncứ', 'viêt', 'viết', 'viền', 'việc', 'viện', 'việt', 'vk', 'vl', 'vltk', 'vlua', 'vmart', 'vmas', 'vmast', 'vn', 'vnd', 'vo', 'voc', 'voeis', 'voi', 'volum', 'volume', 'volumne', 'vong', 'vote', 'vs', 'vsmart', 'vu', 'vuc', 'vui', 'vuông', 'vuốt', 'vy', 'vàg', 'vài', 'vàng', 'vào', 'vá', 'ván', 'vân', 'vây', 'vâỵ', 'vãi', 'vè', 'vèo', 'vé', 'vê', 'vì', 'ví', 'vò', 'vòm', 'vòn', 'vòng', 'vói', 'vô', 'võ', 'vù', 'văg', 'văn', 'văng', 'văt', 'vĩnh', 'vơi', 'vương', 'vườn', 'vượg', 'vượng', 'vượt', 'vạch', 'vạng', 'vả', 'vải', 'vấn', 'vấp', 'vầng', 'vầy', 'vẩn', 'vận', 'vật', 'vậy', 'vậydùng', 'vậymáy', 'vắng', 'vằn', 'vặn', 'vặt', 'vặtrước', 'vẹn', 'vẹo', 'vẻ', 'vẽ', 'vết', 'về', 'vể', 'vệ', 'vệt', 'vị', 'vọc', 'vọng', 'vọngbị', 'vọngra', 'vỏ', 'vốn', 'vồn', 'vội', 'vộng', 'vớ', 'với', 'vớil', 'vớitóm', 'vớt', 'vời', 'vỡ', 'vợ', 'vụ', 'vục', 'vụchu', 'vức', 'vứt', 'vừa', 'vững', 'vựa', 'vực', 'vựng', 'wa', 'wafi', 'watpad', 'we', 'web', 'website', 'wed', 'wefe', 'wep', 'wet', 'wf', 'which', 'wi', 'widget', 'wife', 'wifi', 'wifj', 'wifl', 'win', 'word', 'wr', 'wtf', 'wá', 'wìi', 'xa', 'xaci', 'xai', 'xanh', 'xaomi', 'xay', 'xcs', 'xe', 'xem', 'xg', 'xi', 'xiaomi', 'ximiao', 'xin', 'xing', 'xinh', 'xm', 'xoay', 'xog', 'xong', 'xonganh', 'xoá', 'xoắn', 'xr', 'xs', 'xu', 'xui', 'xung', 'xuoc', 'xuong', 'xuyên', 'xuôi', 'xuông', 'xuất', 'xuấu', 'xuống', 'xuốngnói', 'xwifi', 'xài', 'xàm', 'xá', 'xác', 'xách', 'xám', 'xã', 'xét', 'xétmáy', 'xétưu', 'xì', 'xìu', 'xí', 'xích', 'xíu', 'xò', 'xóa', 'xóm', 'xót', 'xúc', 'xúi', 'xăng', 'xưa', 'xương', 'xước', 'xướng', 'xướt', 'xạ', 'xạc', 'xảy', 'xấu', 'xấuthứ', 'xầm', 'xập', 'xắc', 'xắn', 'xếp', 'xỉ', 'xỉu', 'xị', 'xịn', 'xịnvtv', 'xộn', 'xứng', 'xử', 'yc', 'yen', 'yeu', 'yose', 'yotube', 'you', 'youtobe', 'youtu', 'youtube', 'yt', 'ytb', 'ytoube', 'yên', 'yêu', 'yếu', 'yếumáy', 'za', 'zalo', 'zay', 'ze', 'zeno', 'zflip', 'zin', 'zing', 'zingmp', 'zingsped', 'zl', 'zo', 'zoi', 'zom', 'zs', 'zumbo', 'zì', 'zậy', 'zị', 'zỏm', 'zờ', 'ành', 'ào', 'ác', 'ái', 'ám', 'ánh', 'áo', 'áp', 'âm', 'ân', 'ây', 'èn', 'éo', 'ép', 'ét', 'êm', 'ên', 'ình', 'ích', 'ít', 'íu', 'óc', 'ói', 'ôi', 'ôm', 'ôn', 'ông', 'ôpo', 'úa', 'úng', 'ăn', 'ăngten', 'ănten', 'đa', 'đag', 'đak', 'đam', 'đan', 'đanh', 'đao', 'đaos', 'đau', 'đay', 'đc', 'đcđa', 'đegpj', 'đem', 'đen', 'đeo', 'đep', 'đi', 'đich', 'đinh', 'điêm', 'điên', 'điều', 'điềuchỉ', 'điểm', 'điển', 'điễm', 'điện', 'điệu', 'đj', 'đk', 'đmx', 'đo', 'đoc', 'đocó', 'đoi', 'đoán', 'đoạn', 'đt', 'đtchơi', 'đth', 'đua', 'đui', 'đung', 'đuoc', 'đuôi', 'đuôn', 'đuọc', 'đuối', 'đuợc', 'đx', 'đà', 'đàg', 'đài', 'đàm', 'đàn', 'đành', 'đào', 'đá', 'đág', 'đám', 'đán', 'đáng', 'đánh', 'đáo', 'đáocảm', 'đáp', 'đâm', 'đâu', 'đâucho', 'đây', 'đâý', 'đãi', 'đè', 'đèn', 'đén', 'đéo', 'đét', 'đêm', 'đêmquay', 'đì', 'đìa', 'đình', 'đích', 'đính', 'đòi', 'đóhtps', 'đói', 'đóm', 'đómua', 'đón', 'đóng', 'đô', 'đôi', 'đông', 'đùn', 'đùng', 'đúc', 'đúg', 'đúng', 'đúp', 'đút', 'đăng', 'đăt', 'đđịnh', 'đĩa', 'đơ', 'đơn', 'đơra', 'đư', 'đưa', 'đưicj', 'đưoc', 'đươc', 'đươkc', 'đương', 'đước', 'đường', 'được', 'đượcho', 'đượchọn', 'đượchối', 'đượcnói', 'đạc', 'đại', 'đạm', 'đạng', 'đạo', 'đả', 'đảm', 'đản', 'đảo', 'đất', 'đấu', 'đấy', 'đầm', 'đầu', 'đầukinh', 'đầy', 'đầythứ', 'đẩy', 'đẫm', 'đậm', 'đập', 'đậu', 'đậy', 'đắn', 'đắng', 'đắt', 'đằm', 'đằng', 'đẳng', 'đặc', 'đặt', 'đẹp', 'đẹpcam', 'đẹpchụp', 'đẹpmáy', 'đếm', 'đến', 'đề', 'để', 'đểu', 'đệ', 'đệm', 'đỉnh', 'địa', 'địch', 'định', 'địnhcòn', 'đọc', 'đỏ', 'đỏi', 'đỏmà', 'đối', 'đốm', 'đốn', 'đống', 'đồ', 'đồhọa', 'đồi', 'đồn', 'đồng', 'đồngt', 'đồnmỗi', 'đổ', 'đổi', 'đổicon', 'đỗi', 'độ', 'độc', 'độg', 'độhd', 'đội', 'độkhông', 'động', 'đột', 'đời', 'đỡ', 'đợi', 'đợinhân', 'đợt', 'đục', 'đụng', 'đủ', 'đứa', 'đức', 'đứg', 'đứng', 'đứt', 'đừng', 'đực', 'đựng', 'đựu', 'ơi', 'ơitự', 'ơn', 'ưa', 'ưavậy', 'ưng', 'ưngz', 'ưu', 'ước', 'ướt', 'ạem', 'ạh', 'ại', 'ạk', 'ạmới', 'ảm', 'ảnh', 'ảnhxấu', 'ảo', 'ảopin', 'ấm', 'ấn', 'ầm', 'ẩm', 'ẩn', 'ắp', 'ẹc', 'ẹp', 'ẹt', 'ọp', 'ọt', 'ống', 'ốp', 'ồm', 'ồn', 'ổm', 'ổn', 'ổnchơi', 'ổnmỗi', 'ỗn', 'ộp', 'ớn', 'ủi', 'ủng', 'ức', 'ứch', 'ứg', 'ứng', 'ứngthật', 'ứngđang', 'ừm']\n"
          ],
          "name": "stdout"
        }
      ]
    },
    {
      "cell_type": "code",
      "metadata": {
        "id": "6MHYks7YCdWn",
        "colab_type": "code",
        "colab": {
          "base_uri": "https://localhost:8080/",
          "height": 34
        },
        "outputId": "e12a49ea-4c69-4681-840c-721b57b17b7d"
      },
      "source": [
        "print(X_data_tfidf_2.shape)"
      ],
      "execution_count": 46,
      "outputs": [
        {
          "output_type": "stream",
          "text": [
            "(3000, 3771)\n"
          ],
          "name": "stdout"
        }
      ]
    },
    {
      "cell_type": "code",
      "metadata": {
        "id": "bE1QFgvwC9qN",
        "colab_type": "code",
        "colab": {}
      },
      "source": [
        "X_train_2, X_test_2, Y_train_2, Y_test_2 = train_test_split(X_data_tfidf_2, Y_data_2, test_size=0.2)"
      ],
      "execution_count": 47,
      "outputs": []
    },
    {
      "cell_type": "code",
      "metadata": {
        "id": "br4ruQ0wDDhq",
        "colab_type": "code",
        "colab": {
          "base_uri": "https://localhost:8080/",
          "height": 67
        },
        "outputId": "6210bf2e-865f-4598-8b26-4968828cc990"
      },
      "source": [
        "model_2 = SVC(kernel='linear')\n",
        "model_2.fit(X_train_2, Y_train_2)\n",
        "print(\"Model SVC\")\n",
        "print(\"Train score: \", model_2.score(X_train_2, Y_train_2))\n",
        "print(\"Test score: \", model_2.score(X_test_2, Y_test_2))"
      ],
      "execution_count": 48,
      "outputs": [
        {
          "output_type": "stream",
          "text": [
            "Model SVC\n",
            "Train score:  0.9020833333333333\n",
            "Test score:  0.755\n"
          ],
          "name": "stdout"
        }
      ]
    },
    {
      "cell_type": "code",
      "metadata": {
        "id": "qlIMvzGWDLMK",
        "colab_type": "code",
        "colab": {
          "base_uri": "https://localhost:8080/",
          "height": 34
        },
        "outputId": "c49f4e30-f3f5-4b47-ed76-389762b75845"
      },
      "source": [
        "y_pred_2 = model_2.predict(X_test_2)\n",
        "print(f1_score(Y_test_2, y_pred_2, average = 'macro'))"
      ],
      "execution_count": 49,
      "outputs": [
        {
          "output_type": "stream",
          "text": [
            "0.7553069971237756\n"
          ],
          "name": "stdout"
        }
      ]
    },
    {
      "cell_type": "code",
      "metadata": {
        "id": "7T1mZrs2DTSR",
        "colab_type": "code",
        "colab": {
          "base_uri": "https://localhost:8080/",
          "height": 364
        },
        "outputId": "9ad023e4-9b5d-43d8-8ce8-0afdff30333f"
      },
      "source": [
        "cnf_matrix_2 = confusion_matrix(Y_test_2, y_pred_2, labels=[-1, 0, 1])\n",
        "np.set_printoptions(precision=2)\n",
        "\n",
        "# Plot non-normalized confusion matrix\n",
        "plt.figure()\n",
        "plot_confusion_matrix(cnf_matrix_2, classes=[-1, 0, 1],\n",
        "                      title='Confusion matrix, without normalization')"
      ],
      "execution_count": 50,
      "outputs": [
        {
          "output_type": "stream",
          "text": [
            "Confusion matrix, without normalization\n",
            "[[153  28   6]\n",
            " [ 38 136  33]\n",
            " [  9  33 164]]\n"
          ],
          "name": "stdout"
        },
        {
          "output_type": "display_data",
          "data": {
            "image/png": "[encoded data removed]",
            "text/plain": [
              "<Figure size 432x288 with 2 Axes>"
            ]
          },
          "metadata": {
            "tags": []
          }
        }
      ]
    },
    {
      "cell_type": "code",
      "metadata": {
        "id": "XcNjLyG0JsQJ",
        "colab_type": "code",
        "colab": {
          "base_uri": "https://localhost:8080/",
          "height": 185
        },
        "outputId": "6c0b2242-8dc2-431d-e531-09fad696d4ad"
      },
      "source": [
        "print(classification_report(Y_test_2, y_pred_2, target_names=['-1', '0', '1']))"
      ],
      "execution_count": 51,
      "outputs": [
        {
          "output_type": "stream",
          "text": [
            "              precision    recall  f1-score   support\n",
            "\n",
            "          -1       0.77      0.82      0.79       187\n",
            "           0       0.69      0.66      0.67       207\n",
            "           1       0.81      0.80      0.80       206\n",
            "\n",
            "   micro avg       0.76      0.76      0.76       600\n",
            "   macro avg       0.75      0.76      0.76       600\n",
            "weighted avg       0.75      0.76      0.75       600\n",
            "\n"
          ],
          "name": "stdout"
        }
      ]
    }
  ]
}