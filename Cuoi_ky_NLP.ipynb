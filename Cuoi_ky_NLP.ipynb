{
  "nbformat": 4,
  "nbformat_minor": 0,
  "metadata": {
    "colab": {
      "name": "Cuoi_ky_NLP.ipynb",
      "provenance": [],
      "include_colab_link": true
    },
    "kernelspec": {
      "name": "python3",
      "display_name": "Python 3"
    }
  },
  "cells": [
    {
      "cell_type": "markdown",
      "metadata": {
        "id": "view-in-github",
        "colab_type": "text"
      },
      "source": [
        "<a href=\"https://colab.research.google.com/github/Long-1234kfgkl/CS114.K21/blob/master/Cuoi_ky_NLP.ipynb\" target=\"_parent\"><img src=\"https://colab.research.google.com/assets/colab-badge.svg\" alt=\"Open In Colab\"/></a>"
      ]
    },
    {
      "cell_type": "markdown",
      "metadata": {
        "id": "hLQ_XIay4W-l",
        "colab_type": "text"
      },
      "source": [
        "**Upload files dataset đã được crawl từ Drive**"
      ]
    },
    {
      "cell_type": "code",
      "metadata": {
        "id": "1nejC3L-D5wc",
        "colab_type": "code",
        "colab": {
          "base_uri": "https://localhost:8080/",
          "height": 252
        },
        "outputId": "36fea94d-5840-4338-b2a6-7ed11825c2ab"
      },
      "source": [
        "!pip install PyDrive"
      ],
      "execution_count": null,
      "outputs": [
        {
          "output_type": "stream",
          "text": [
            "Requirement already satisfied: PyDrive in /usr/local/lib/python3.6/dist-packages (1.3.1)\n",
            "Requirement already satisfied: PyYAML>=3.0 in /usr/local/lib/python3.6/dist-packages (from PyDrive) (3.13)\n",
            "Requirement already satisfied: oauth2client>=4.0.0 in /usr/local/lib/python3.6/dist-packages (from PyDrive) (4.1.3)\n",
            "Requirement already satisfied: google-api-python-client>=1.2 in /usr/local/lib/python3.6/dist-packages (from PyDrive) (1.7.12)\n",
            "Requirement already satisfied: httplib2>=0.9.1 in /usr/local/lib/python3.6/dist-packages (from oauth2client>=4.0.0->PyDrive) (0.17.4)\n",
            "Requirement already satisfied: rsa>=3.1.4 in /usr/local/lib/python3.6/dist-packages (from oauth2client>=4.0.0->PyDrive) (4.6)\n",
            "Requirement already satisfied: pyasn1>=0.1.7 in /usr/local/lib/python3.6/dist-packages (from oauth2client>=4.0.0->PyDrive) (0.4.8)\n",
            "Requirement already satisfied: six>=1.6.1 in /usr/local/lib/python3.6/dist-packages (from oauth2client>=4.0.0->PyDrive) (1.15.0)\n",
            "Requirement already satisfied: pyasn1-modules>=0.0.5 in /usr/local/lib/python3.6/dist-packages (from oauth2client>=4.0.0->PyDrive) (0.2.8)\n",
            "Requirement already satisfied: google-auth>=1.4.1 in /usr/local/lib/python3.6/dist-packages (from google-api-python-client>=1.2->PyDrive) (1.17.2)\n",
            "Requirement already satisfied: uritemplate<4dev,>=3.0.0 in /usr/local/lib/python3.6/dist-packages (from google-api-python-client>=1.2->PyDrive) (3.0.1)\n",
            "Requirement already satisfied: google-auth-httplib2>=0.0.3 in /usr/local/lib/python3.6/dist-packages (from google-api-python-client>=1.2->PyDrive) (0.0.4)\n",
            "Requirement already satisfied: setuptools>=40.3.0 in /usr/local/lib/python3.6/dist-packages (from google-auth>=1.4.1->google-api-python-client>=1.2->PyDrive) (49.2.0)\n",
            "Requirement already satisfied: cachetools<5.0,>=2.0.0 in /usr/local/lib/python3.6/dist-packages (from google-auth>=1.4.1->google-api-python-client>=1.2->PyDrive) (4.1.1)\n"
          ],
          "name": "stdout"
        }
      ]
    },
    {
      "cell_type": "code",
      "metadata": {
        "id": "n1eQDBNqEDwL",
        "colab_type": "code",
        "colab": {}
      },
      "source": [
        "from pydrive.auth import GoogleAuth\n",
        "from pydrive.drive import GoogleDrive\n",
        "from google.colab import auth\n",
        "from oauth2client.client import GoogleCredentials"
      ],
      "execution_count": null,
      "outputs": []
    },
    {
      "cell_type": "code",
      "metadata": {
        "id": "7yZDUgh_ELzE",
        "colab_type": "code",
        "colab": {}
      },
      "source": [
        "auth.authenticate_user()\n",
        "gauth = GoogleAuth()\n",
        "gauth.credentials = GoogleCredentials.get_application_default()\n",
        "drive = GoogleDrive(gauth)"
      ],
      "execution_count": null,
      "outputs": []
    },
    {
      "cell_type": "code",
      "metadata": {
        "id": "jCY4XIPaEUMA",
        "colab_type": "code",
        "colab": {}
      },
      "source": [
        "downloaded = drive.CreateFile({'id':\"1OsVIpwbiJl5vf6OtUWBBoot1Ddaa6sR-\"})\n",
        "downloaded.GetContentFile('new_data-1-1000 (1).json')"
      ],
      "execution_count": null,
      "outputs": []
    },
    {
      "cell_type": "markdown",
      "metadata": {
        "id": "9vKlwqcC4cKx",
        "colab_type": "text"
      },
      "source": [
        "**Đưa vào các thư viện cần thiết**"
      ]
    },
    {
      "cell_type": "code",
      "metadata": {
        "id": "aUXm3xNZ44Zk",
        "colab_type": "code",
        "colab": {
          "base_uri": "https://localhost:8080/",
          "height": 336
        },
        "outputId": "4fe22ae3-a27d-453a-e1d9-9a58b1a863bf"
      },
      "source": [
        "!pip install underthesea"
      ],
      "execution_count": null,
      "outputs": [
        {
          "output_type": "stream",
          "text": [
            "Requirement already satisfied: underthesea in /usr/local/lib/python3.6/dist-packages (1.1.17)\n",
            "Requirement already satisfied: Click>=6.0 in /usr/local/lib/python3.6/dist-packages (from underthesea) (7.1.2)\n",
            "Requirement already satisfied: python-crfsuite==0.9.6 in /usr/local/lib/python3.6/dist-packages (from underthesea) (0.9.6)\n",
            "Requirement already satisfied: nltk<3.5,>=3.4 in /usr/local/lib/python3.6/dist-packages (from underthesea) (3.4.5)\n",
            "Requirement already satisfied: languageflow==1.1.13a1 in /usr/local/lib/python3.6/dist-packages (from underthesea) (1.1.13a1)\n",
            "Requirement already satisfied: six in /usr/local/lib/python3.6/dist-packages (from nltk<3.5,>=3.4->underthesea) (1.15.0)\n",
            "Requirement already satisfied: tqdm in /usr/local/lib/python3.6/dist-packages (from languageflow==1.1.13a1->underthesea) (4.41.1)\n",
            "Requirement already satisfied: scikit-learn==0.20.3 in /usr/local/lib/python3.6/dist-packages (from languageflow==1.1.13a1->underthesea) (0.20.3)\n",
            "Requirement already satisfied: requests in /usr/local/lib/python3.6/dist-packages (from languageflow==1.1.13a1->underthesea) (2.23.0)\n",
            "Requirement already satisfied: tabulate in /usr/local/lib/python3.6/dist-packages (from languageflow==1.1.13a1->underthesea) (0.8.7)\n",
            "Requirement already satisfied: joblib==0.13.2 in /usr/local/lib/python3.6/dist-packages (from languageflow==1.1.13a1->underthesea) (0.13.2)\n",
            "Requirement already satisfied: clint in /usr/local/lib/python3.6/dist-packages (from languageflow==1.1.13a1->underthesea) (0.5.1)\n",
            "Requirement already satisfied: numpy>=1.8.2 in /usr/local/lib/python3.6/dist-packages (from scikit-learn==0.20.3->languageflow==1.1.13a1->underthesea) (1.18.5)\n",
            "Requirement already satisfied: scipy>=0.13.3 in /usr/local/lib/python3.6/dist-packages (from scikit-learn==0.20.3->languageflow==1.1.13a1->underthesea) (1.4.1)\n",
            "Requirement already satisfied: certifi>=2017.4.17 in /usr/local/lib/python3.6/dist-packages (from requests->languageflow==1.1.13a1->underthesea) (2020.6.20)\n",
            "Requirement already satisfied: idna<3,>=2.5 in /usr/local/lib/python3.6/dist-packages (from requests->languageflow==1.1.13a1->underthesea) (2.10)\n",
            "Requirement already satisfied: urllib3!=1.25.0,!=1.25.1,<1.26,>=1.21.1 in /usr/local/lib/python3.6/dist-packages (from requests->languageflow==1.1.13a1->underthesea) (1.24.3)\n",
            "Requirement already satisfied: chardet<4,>=3.0.2 in /usr/local/lib/python3.6/dist-packages (from requests->languageflow==1.1.13a1->underthesea) (3.0.4)\n",
            "Requirement already satisfied: args in /usr/local/lib/python3.6/dist-packages (from clint->languageflow==1.1.13a1->underthesea) (0.1.0)\n"
          ],
          "name": "stdout"
        }
      ]
    },
    {
      "cell_type": "code",
      "metadata": {
        "id": "rDr31oSH4U0Q",
        "colab_type": "code",
        "colab": {}
      },
      "source": [
        "import pandas as pd\n",
        "import numpy as np\n",
        "import re\n",
        "import underthesea\n",
        "from sklearn.model_selection import train_test_split\n",
        "from sklearn.metrics import accuracy_score\n",
        "from sklearn.metrics import f1_score\n",
        "from sklearn.svm import SVC\n",
        "from sklearn.pipeline import Pipeline\n",
        "from sklearn.feature_extraction.text import TfidfVectorizer"
      ],
      "execution_count": null,
      "outputs": []
    },
    {
      "cell_type": "markdown",
      "metadata": {
        "id": "Sekd3TyS5BNO",
        "colab_type": "text"
      },
      "source": [
        "Tiến hành đọc dữ liệu từ file sử dụng thư viện pandas"
      ]
    },
    {
      "cell_type": "code",
      "metadata": {
        "id": "t8_tV1_D4_sC",
        "colab_type": "code",
        "colab": {
          "base_uri": "https://localhost:8080/",
          "height": 195
        },
        "outputId": "2827f0c7-e695-4c9a-f282-71152527e9d1"
      },
      "source": [
        "dataset = pd.read_json(\"new_data-1-1000 (1).json\", lines = True, encoding = \"UTF-8\")\n",
        "dataset.head()"
      ],
      "execution_count": null,
      "outputs": [
        {
          "output_type": "execute_result",
          "data": {
            "text/html": [
              "<div>\n",
              "<style scoped>\n",
              "    .dataframe tbody tr th:only-of-type {\n",
              "        vertical-align: middle;\n",
              "    }\n",
              "\n",
              "    .dataframe tbody tr th {\n",
              "        vertical-align: top;\n",
              "    }\n",
              "\n",
              "    .dataframe thead th {\n",
              "        text-align: right;\n",
              "    }\n",
              "</style>\n",
              "<table border=\"1\" class=\"dataframe\">\n",
              "  <thead>\n",
              "    <tr style=\"text-align: right;\">\n",
              "      <th></th>\n",
              "      <th>TYPE</th>\n",
              "      <th>NAME</th>\n",
              "      <th>COMMENT</th>\n",
              "      <th>RATING COMMENT</th>\n",
              "    </tr>\n",
              "  </thead>\n",
              "  <tbody>\n",
              "    <tr>\n",
              "      <th>0</th>\n",
              "      <td>0</td>\n",
              "      <td>iPhone 11 128GB</td>\n",
              "      <td>Sac pin ip11 phần viền kim loại khi đụng vào c...</td>\n",
              "      <td>5</td>\n",
              "    </tr>\n",
              "    <tr>\n",
              "      <th>1</th>\n",
              "      <td>-1</td>\n",
              "      <td>iPhone 11 128GB</td>\n",
              "      <td>Mình mua đc 1 tuần mà sao thấy cảm ứng mình lư...</td>\n",
              "      <td>2</td>\n",
              "    </tr>\n",
              "    <tr>\n",
              "      <th>2</th>\n",
              "      <td>0</td>\n",
              "      <td>iPhone 11 128GB</td>\n",
              "      <td>Mình mua hôm 20/12 Chụp ngược sáng bị phản chi...</td>\n",
              "      <td>3</td>\n",
              "    </tr>\n",
              "    <tr>\n",
              "      <th>3</th>\n",
              "      <td>0</td>\n",
              "      <td>iPhone 11 128GB</td>\n",
              "      <td>Dùng được 3 ngày, mọi trải nghiệm tuyệt vời, p...</td>\n",
              "      <td>4</td>\n",
              "    </tr>\n",
              "    <tr>\n",
              "      <th>4</th>\n",
              "      <td>0</td>\n",
              "      <td>iPhone 11 128GB</td>\n",
              "      <td>Chưa xài lần não hãng này... Nhưng cái 11 này ...</td>\n",
              "      <td>4</td>\n",
              "    </tr>\n",
              "  </tbody>\n",
              "</table>\n",
              "</div>"
            ],
            "text/plain": [
              "   TYPE  ... RATING COMMENT\n",
              "0     0  ...              5\n",
              "1    -1  ...              2\n",
              "2     0  ...              3\n",
              "3     0  ...              4\n",
              "4     0  ...              4\n",
              "\n",
              "[5 rows x 4 columns]"
            ]
          },
          "metadata": {
            "tags": []
          },
          "execution_count": 29
        }
      ]
    },
    {
      "cell_type": "code",
      "metadata": {
        "id": "IE7lyvfD6Udk",
        "colab_type": "code",
        "colab": {
          "base_uri": "https://localhost:8080/",
          "height": 34
        },
        "outputId": "eadcabaa-4c74-463a-8b3c-d4bdec081b8b"
      },
      "source": [
        "dataset.shape"
      ],
      "execution_count": null,
      "outputs": [
        {
          "output_type": "execute_result",
          "data": {
            "text/plain": [
              "(3000, 4)"
            ]
          },
          "metadata": {
            "tags": []
          },
          "execution_count": 30
        }
      ]
    },
    {
      "cell_type": "code",
      "metadata": {
        "id": "uldx5Kae6WXP",
        "colab_type": "code",
        "colab": {
          "base_uri": "https://localhost:8080/",
          "height": 296
        },
        "outputId": "2c6b968c-1420-4c0a-cde1-3d58e449acf5"
      },
      "source": [
        "import seaborn as sns\n",
        "sns.set_style(\"dark\")\n",
        "sns.countplot(dataset.TYPE)"
      ],
      "execution_count": null,
      "outputs": [
        {
          "output_type": "execute_result",
          "data": {
            "text/plain": [
              "<matplotlib.axes._subplots.AxesSubplot at 0x7fc82742ed30>"
            ]
          },
          "metadata": {
            "tags": []
          },
          "execution_count": 31
        },
        {
          "output_type": "display_data",
          "data": {
            "image/png": "[encoded data removed]",
            "text/plain": [
              "<Figure size 432x288 with 1 Axes>"
            ]
          },
          "metadata": {
            "tags": []
          }
        }
      ]
    },
    {
      "cell_type": "code",
      "metadata": {
        "id": "otvKLrDy5Rgb",
        "colab_type": "code",
        "colab": {}
      },
      "source": [
        "X_data = dataset['COMMENT']\n",
        "Y_data = dataset['TYPE']"
      ],
      "execution_count": null,
      "outputs": []
    },
    {
      "cell_type": "code",
      "metadata": {
        "id": "OTxvD1gl9wGP",
        "colab_type": "code",
        "colab": {
          "base_uri": "https://localhost:8080/",
          "height": 218
        },
        "outputId": "92b6750d-9f56-4099-bbf7-d5fdde1bb5a5"
      },
      "source": [
        "print(X_data)"
      ],
      "execution_count": null,
      "outputs": [
        {
          "output_type": "stream",
          "text": [
            "0       Sac pin ip11 phần viền kim loại khi đụng vào c...\n",
            "1       Mình mua đc 1 tuần mà sao thấy cảm ứng mình lư...\n",
            "2       Mình mua hôm 20/12 Chụp ngược sáng bị phản chi...\n",
            "3       Dùng được 3 ngày, mọi trải nghiệm tuyệt vời, p...\n",
            "4       Chưa xài lần não hãng này... Nhưng cái 11 này ...\n",
            "                              ...                        \n",
            "2995    mọi thứ đều ổn trừ bạn nhân viên tên Đạt bên T...\n",
            "2996    mua lại hàng xài rồi nhìn chung cũng tạm được,...\n",
            "2997    thích hợp để sưu tầm thôi, hoài cỗ nữa nhưng c...\n",
            "2998    Shop có hỗ trợ đổi trả không admin, mong admin...\n",
            "2999    Sản phẩm ổn trong tầm giá, không quá cầu kì có...\n",
            "Name: COMMENT, Length: 3000, dtype: object\n"
          ],
          "name": "stdout"
        }
      ]
    },
    {
      "cell_type": "markdown",
      "metadata": {
        "id": "vytqYtpW5daV",
        "colab_type": "text"
      },
      "source": [
        "**Tiền xử lý dữ liệu, ở đây chúng ta tiến hành các bước như:**\n",
        "\n",
        "\n",
        "*   Đưa các ký tự về chữ thường\n",
        "*   Loại bỏ các số\n",
        "*   Loại bỏ các dấu câu\n",
        "*   Loại bỏ khoảng trắng thừa\n",
        "*   Bỏ bớt các chữ cái giống nhau liên tiếp( Vd: quaaa -> qua)\n",
        "*   Tách từ tiếng Việt sử dụng thư viện underthesea có sẵn\n",
        "*   Loại bỏ các stopwords tiếng Việt sử dụng bộ stopwords có sẵn lấy từ\n",
        "*   Chuẩn hóa dữ liệu"
      ]
    },
    {
      "cell_type": "code",
      "metadata": {
        "id": "8d7LF0TU5cJw",
        "colab_type": "code",
        "colab": {}
      },
      "source": [
        "#Đưa về kiểu chữ thường\n",
        "def text_lowercase(text):\n",
        "    return text.lower()"
      ],
      "execution_count": null,
      "outputs": []
    },
    {
      "cell_type": "code",
      "metadata": {
        "id": "AvqtmJx26kNk",
        "colab_type": "code",
        "colab": {}
      },
      "source": [
        "#Loại bỏ các con số\n",
        "def remove_number(text):\n",
        "    result = re.sub(r'\\d+', '', text) \n",
        "    return result"
      ],
      "execution_count": null,
      "outputs": []
    },
    {
      "cell_type": "code",
      "metadata": {
        "id": "-NFYridrSkH1",
        "colab_type": "code",
        "colab": {}
      },
      "source": [
        "#Loại bỏ các dấu câu\n",
        "def remove_punctuation(text):\n",
        "    text = text.replace(\",\", \" \").replace(\".\", \" \") \\\n",
        "    .replace(\";\", \" \").replace(\"“\", \" \") \\\n",
        "    .replace(\":\", \" \").replace(\"”\", \" \") \\\n",
        "    .replace('\"', \" \").replace(\"'\", \" \") \\\n",
        "    .replace(\"!\", \" \").replace(\"?\", \" \") \\\n",
        "    .replace(\"-\", \" \").replace(\"?\", \" \")  \n",
        "    return text"
      ],
      "execution_count": null,
      "outputs": []
    },
    {
      "cell_type": "code",
      "metadata": {
        "id": "SAi_9Ec96uI0",
        "colab_type": "code",
        "colab": {}
      },
      "source": [
        "#Loại bỏ khoảng trắng thừa\n",
        "def remove_whitespace(text): \n",
        "    return  \" \".join(text.split())"
      ],
      "execution_count": null,
      "outputs": []
    },
    {
      "cell_type": "code",
      "metadata": {
        "id": "5nl-uc17623p",
        "colab_type": "code",
        "colab": {}
      },
      "source": [
        "# Bỏ bớt các chữ cái giống nhau liên tiếp( Vd: quaaa -> qua)\n",
        "def remove_similarletter(text):\n",
        "    text = re.sub(r'([A-Z])\\1+', lambda m: m.group(1).upper(), text, flags=re.IGNORECASE)\n",
        "    return text"
      ],
      "execution_count": null,
      "outputs": []
    },
    {
      "cell_type": "code",
      "metadata": {
        "id": "42kPFl-k63ln",
        "colab_type": "code",
        "colab": {}
      },
      "source": [
        "#Tách từ tiếng Việt sử dụng thư viện underthesea có sẵn\n",
        "def VN_Tokenize(text,format='text'):\n",
        "  return underthesea.word_tokenize(text)"
      ],
      "execution_count": null,
      "outputs": []
    },
    {
      "cell_type": "code",
      "metadata": {
        "id": "D05_EXKMOhL1",
        "colab_type": "code",
        "colab": {
          "base_uri": "https://localhost:8080/",
          "height": 34
        },
        "outputId": "8ef6c8a5-cad4-4cbb-eb2c-ab34eea86e6a"
      },
      "source": [
        "print(VN_Tokenize(\"a lô có ai ở đó không?\"))"
      ],
      "execution_count": null,
      "outputs": [
        {
          "output_type": "stream",
          "text": [
            "['a', 'lô', 'có', 'ai', 'ở', 'đó', 'không', '?']\n"
          ],
          "name": "stdout"
        }
      ]
    },
    {
      "cell_type": "code",
      "metadata": {
        "id": "kBSSYz6c7BE9",
        "colab_type": "code",
        "colab": {}
      },
      "source": [
        "downloaded1 = drive.CreateFile({'id':\"1buHsfg9uC70tuUNe852UBCZxcqFg4re5\"})\n",
        "downloaded1.GetContentFile('vietnamese-stopwords-dash (1).txt')"
      ],
      "execution_count": null,
      "outputs": []
    },
    {
      "cell_type": "code",
      "metadata": {
        "id": "A_Vv3jR868Ww",
        "colab_type": "code",
        "colab": {}
      },
      "source": [
        "#Loại bỏ các stopwords tiếng Việt sử dụng bộ stopwords có sẵn lấy từ\n",
        "def remove_VN_stopwords(text):\n",
        "    file_stopwords = pd.read_csv(\"vietnamese-stopwords-dash (1).txt\", encoding = 'UTF-8')\n",
        "    file_stopwords.columns = [\"Stop_words\"]\n",
        "\n",
        "    VN_stopword = []\n",
        "    for i in file_stopwords[\"Stop_words\"]:\n",
        "        VN_stopword.append(i)\n",
        "        \n",
        "    text_token = VN_Tokenize(text)\n",
        "    result = [word for word in text_token if word not in VN_stopword]\n",
        "    return \" \".join(result)"
      ],
      "execution_count": null,
      "outputs": []
    },
    {
      "cell_type": "markdown",
      "metadata": {
        "id": "E2FZ-G3C7zzR",
        "colab_type": "text"
      },
      "source": [
        "Chuẩn hóa dữ liệu là bước chuẩn hóa các từ tuy cách viết khác nhau nhưng cùng mang một nghĩa, người dùng có thể đã sử dụng các từ viết tắt, teencode, tiếng Anh,..., việc chuẩn hóa giúp cho bộ dữ liệu trở nên tốt hơn"
      ]
    },
    {
      "cell_type": "code",
      "metadata": {
        "id": "blCJzS0Y7fkS",
        "colab_type": "code",
        "colab": {}
      },
      "source": [
        "#Chuẩn hóa dữ liệu\n",
        "def Util(text):\n",
        "    replace_list = {\n",
        "        'ship': 'vận chuyển', 'shop': 'cửa hàng', 'sho': 'cửa hàng', 'm': 'mình','mk':'mình','mjk':'mình', 'mik': 'mình', 'ko': 'không' , 'k': 'không', 'kh': 'không', 'khong': 'không', 'kg': 'không', 'khg': 'không','hok':'không','hong':'không', 'tl': 'trả lời',\n",
        "        'rep': 'trả lời', 'r': 'rồi', 'fb': 'facebook', 'face': 'faceook', 'thanks': 'cảm ơn', 'thank': 'cảm ơn', 'tks': 'cảm ơn', 'tk': 'cảm ơn', 'ok': 'tốt', 'oki': 'tốt', 'okie': 'tốt', 'sp': 'sản phẩm',\n",
        "        'dc': 'được','đc':'được','dk':'được', 'vs': 'với', 'đt': 'điện thoại', 'thjk': 'thích', 'thik': 'thích', 'qá': 'quá', 'trể': 'trễ', 'bgjo': 'bao giờ', 'h': 'giờ', 'qa': 'quá', 'dep': 'đẹp', 'xau': 'xấu', 'ib': 'nhắn tin',\n",
        "        'cute': 'dễ thương', 'sz': 'size', 'good': 'tốt', 'god': 'tốt', 'bt': 'bình thường','tr':'triệu','dag':'đang','nhiu':'nhiêu','mn':'mọi người','m.n':'mọi người','ac':'anh chị','sag':'sang','s':'sao',\n",
        "        'sz': 'cỡ', 'size': 'cỡ', 'đx': 'được', 'dk': 'được', 'dc': 'được', 'đk': 'được','ae':'anh em','j':'gì','hnay':'hôm nay','lm':'làm','ktra':'kiểm tra','sp':'sản phẩm','zô':'vào',\n",
        "        'đc': 'được', 'authentic': 'chuẩn chính hãng', 'aut': 'chuẩn chính hãng', 'auth ': 'chuẩn chính hãng', 'thick': 'thích','v':'vậy','cng':'cũng','cg':'cũng','ns':'nói','nv':'nhân viên',\n",
        "        'gud': 'tốt', 'god': 'tốt', 'wel done': 'tốt', 'good': 'tốt', 'gút': 'tốt','ng':'người','chs':'chơi','mng':'mọi người','wa':'quá',\n",
        "        'sấu': 'xấu', 'gut': 'tốt', 'tot': 'tốt', 'nice': 'tốt', 'perfect': 'rất tốt','trc':'trước',\n",
        "        'time': 'thời gian', 'qá': 'quá','nc':'nói chung','ace':'anh chị em',\n",
        "        'product': 'sản phẩm', 'quality': 'chất lượng', 'chat': 'chất' , 'excelent': 'hoàn hảo', 'bad': 'tệ', 'sad': 'tệ',\n",
        "        'beautiful': 'đẹp', 'tl': 'trả lời', 'r': 'rồi', 'order': 'đặt hàng',\n",
        "        'chất lg': 'chất lượng', 'sd': 'sử dụng', 'dt': 'điện thoại', 'nt': 'nhắn tin', 'tl': 'trả lời', 'sài': 'xài', 'bjo': 'bao giờ',\n",
        "        'thik': 'thích', 'sop': 'cửa hàng', 'fb': 'facebook', 'face': 'facebook', 'very': 'rất',\n",
        "        'dep': 'đẹp', 'xau': 'xấu','tgdđ':'thế giới di động','tgdd':'thế giới di động','đmx':'điện máy xanh',\n",
        "        'iu': 'yêu', 'fake': 'giả mạo', 'trl': 'trả lời', '><': 'tiêu cực',\n",
        "        'por': 'tệ', 'poor': 'tệ', 'ib': 'nhắn tin', 'rep': 'trả lời', 'fback': 'feedback', 'fedback': 'feedback',\n",
        "        'bin': 'pin', 'cx': 'cũng', 'nch': 'nói chuyện', 'ntn': 'như thế nào', 'vde': 'vấn đề'\n",
        "    }\n",
        "    text = text.split()\n",
        "    len_ = len(text)\n",
        "    for i in range(0, len_):    \n",
        "      for k, v in replace_list.items():\n",
        "        if (text[i]==k):\n",
        "          text[i] = v\n",
        "    return \" \".join(text)"
      ],
      "execution_count": null,
      "outputs": []
    },
    {
      "cell_type": "code",
      "metadata": {
        "id": "BSYwNhiXCp8n",
        "colab_type": "code",
        "colab": {
          "base_uri": "https://localhost:8080/",
          "height": 34
        },
        "outputId": "03dc964c-3a8a-45cd-9d2e-8144b76e7633"
      },
      "source": [
        "print(Util(\"ship hàng tới đây đê\"))"
      ],
      "execution_count": null,
      "outputs": [
        {
          "output_type": "stream",
          "text": [
            "vận chuyển hàng tới đây đê\n"
          ],
          "name": "stdout"
        }
      ]
    },
    {
      "cell_type": "markdown",
      "metadata": {
        "id": "QaiDBetn8THa",
        "colab_type": "text"
      },
      "source": [
        "**I. Train data không sử dụng việc chuẩn hóa dữ liệu**"
      ]
    },
    {
      "cell_type": "code",
      "metadata": {
        "id": "3mI07d_u7ukQ",
        "colab_type": "code",
        "colab": {}
      },
      "source": [
        "def Text_PreProcessing_noutil(data):\n",
        "  result_1 = []\n",
        "  for i in data:\n",
        "    i = str(i)\n",
        "    text = text_lowercase(i)\n",
        "    text = remove_similarletter(text)\n",
        "    text = remove_number(text)\n",
        "    text = remove_punctuation(text)\n",
        "    text = remove_whitespace(text)\n",
        "    text = remove_VN_stopwords(text)\n",
        "    result_1.append(text)\n",
        "  return result_1"
      ],
      "execution_count": null,
      "outputs": []
    },
    {
      "cell_type": "code",
      "metadata": {
        "id": "XbbfGmJ-9MsP",
        "colab_type": "code",
        "colab": {}
      },
      "source": [
        "X_data_1 = X_data\n",
        "Y_data_1 = Y_data"
      ],
      "execution_count": null,
      "outputs": []
    },
    {
      "cell_type": "code",
      "metadata": {
        "id": "9S2LKKaS9Sf6",
        "colab_type": "code",
        "colab": {}
      },
      "source": [
        "X_data_1 = Text_PreProcessing_noutil(X_data_1)"
      ],
      "execution_count": null,
      "outputs": []
    },
    {
      "cell_type": "code",
      "metadata": {
        "id": "h8Ia4uAj9kUu",
        "colab_type": "code",
        "colab": {
          "base_uri": "https://localhost:8080/",
          "height": 34
        },
        "outputId": "d44789d4-1bfa-425e-d4f0-5fe4e2f440b0"
      },
      "source": [
        "print(X_data_1[0])"
      ],
      "execution_count": null,
      "outputs": [
        {
          "output_type": "stream",
          "text": [
            "sac pin ip viền kim loại đụng cảm giác tê như điện máy lỗi k làm sao khắc phục\n"
          ],
          "name": "stdout"
        }
      ]
    },
    {
      "cell_type": "markdown",
      "metadata": {
        "id": "AwLmE7QM-Ebx",
        "colab_type": "text"
      },
      "source": [
        "TF-IDF (Term Frequency - Inverse Document Frequency):\n",
        "\n",
        "TF: tần số xuất hiện của 1 từ trong 1 văn bản\n",
        "IDF: tần số nghịch của 1 từ trong một tập các văn bản\n",
        "Kỹ thuật TF-IDF dùng để tính toán tần suất xuất hiện của một từ trong văn bản, dựa trên đó để đánh giá mức độ quan trọng của từng từ trong văn bản\n",
        "\n",
        "Tham khảo: https://codetudau.com/bag-of-words-tf-idf-xu-ly-ngon-ngu-tu-nhien/index.html\n",
        "\n",
        "TfidfVectorizer dùng để chuyển đổi dữ liệu văn bản sang ma trận các features TF-IDF\n",
        "\n",
        "Tham khảo: https://scikit-learn.org/stable/modules/generated/sklearn.feature_extraction.text.TfidfVectorizer.html"
      ]
    },
    {
      "cell_type": "code",
      "metadata": {
        "id": "tvypDhSv-Csh",
        "colab_type": "code",
        "colab": {}
      },
      "source": [
        "vectorizer_1 = TfidfVectorizer()\n",
        "vectorizer_1.fit(X_data_1)\n",
        "X_data_tfidf_1 = vectorizer_1.transform(X_data_1).toarray()"
      ],
      "execution_count": null,
      "outputs": []
    },
    {
      "cell_type": "code",
      "metadata": {
        "id": "r6K2bcXZ-d9b",
        "colab_type": "code",
        "colab": {}
      },
      "source": [
        "print(vectorizer_1.get_feature_names())"
      ],
      "execution_count": null,
      "outputs": []
    },
    {
      "cell_type": "code",
      "metadata": {
        "id": "zeweVhQg-wuq",
        "colab_type": "code",
        "colab": {
          "base_uri": "https://localhost:8080/",
          "height": 34
        },
        "outputId": "c050a51a-5a69-4ab5-d3a6-0df99fa2c10e"
      },
      "source": [
        "print(X_data_tfidf_1.shape)"
      ],
      "execution_count": null,
      "outputs": [
        {
          "output_type": "stream",
          "text": [
            "(3000, 3807)\n"
          ],
          "name": "stdout"
        }
      ]
    },
    {
      "cell_type": "markdown",
      "metadata": {
        "id": "I70VvzW8-6nl",
        "colab_type": "text"
      },
      "source": [
        "Chia bộ dataset theo tỷ lệ train/test ứng với 80/20"
      ]
    },
    {
      "cell_type": "code",
      "metadata": {
        "id": "FRURu1Wp-3BP",
        "colab_type": "code",
        "colab": {}
      },
      "source": [
        "X_train_1, X_test_1, Y_train_1, Y_test_1 = train_test_split(X_data_tfidf_1, Y_data_1, test_size=0.2)"
      ],
      "execution_count": null,
      "outputs": []
    },
    {
      "cell_type": "code",
      "metadata": {
        "id": "mXwxdq2L_CTG",
        "colab_type": "code",
        "colab": {
          "base_uri": "https://localhost:8080/",
          "height": 67
        },
        "outputId": "112b44f8-9e4e-4f5e-daba-b4f20a589a1a"
      },
      "source": [
        "model_1 = SVC(kernel='linear')\n",
        "model_1.fit(X_train_1, Y_train_1)\n",
        "print(\"Model SVC\")\n",
        "print(\"Train score: \", model_1.score(X_train_1, Y_train_1))\n",
        "print(\"Test score: \", model_1.score(X_test_1, Y_test_1))"
      ],
      "execution_count": null,
      "outputs": [
        {
          "output_type": "stream",
          "text": [
            "Model SVC\n",
            "Train score:  0.91\n",
            "Test score:  0.7183333333333334\n"
          ],
          "name": "stdout"
        }
      ]
    },
    {
      "cell_type": "code",
      "metadata": {
        "id": "LuPH8MP3_qgY",
        "colab_type": "code",
        "colab": {
          "base_uri": "https://localhost:8080/",
          "height": 34
        },
        "outputId": "890a0109-a675-4f65-fec0-3ae71534d827"
      },
      "source": [
        "y_pred_1 = model_1.predict(X_test_1)\n",
        "print(\"F1 score\",f1_score(Y_test_1, y_pred_1, average = 'macro'))"
      ],
      "execution_count": null,
      "outputs": [
        {
          "output_type": "stream",
          "text": [
            "F1 score 0.7200683709980477\n"
          ],
          "name": "stdout"
        }
      ]
    },
    {
      "cell_type": "code",
      "metadata": {
        "id": "IgCqtrmmAFk7",
        "colab_type": "code",
        "colab": {
          "base_uri": "https://localhost:8080/",
          "height": 364
        },
        "outputId": "d2f44f78-f127-4c88-f73d-64eca6fa8a93"
      },
      "source": [
        "import matplotlib.pyplot as plt\n",
        "from sklearn.metrics import confusion_matrix\n",
        "\n",
        "def plot_confusion_matrix(cm, classes,\n",
        "                          normalize=False,\n",
        "                          title='Confusion matrix',\n",
        "                          cmap=plt.cm.Blues):\n",
        "    \"\"\"\n",
        "    This function prints and plots the confusion matrix.\n",
        "    Normalization can be applied by setting `normalize=True`.\n",
        "    \"\"\"\n",
        "    import itertools\n",
        "    if normalize:\n",
        "        cm = cm.astype('float') / cm.sum(axis=1)[:, np.newaxis]\n",
        "        print(\"Normalized confusion matrix\")\n",
        "    else:\n",
        "        print('Confusion matrix, without normalization')\n",
        "\n",
        "    print(cm)\n",
        "\n",
        "    plt.imshow(cm, interpolation='nearest', cmap=cmap)\n",
        "    plt.title(title)\n",
        "    plt.colorbar()\n",
        "    tick_marks = np.arange(len(classes))\n",
        "    plt.xticks(tick_marks, classes, rotation=45)\n",
        "    plt.yticks(tick_marks, classes)\n",
        "\n",
        "    fmt = '.2f' if normalize else 'd'\n",
        "    thresh = cm.max() / 2.\n",
        "    for i, j in itertools.product(range(cm.shape[0]), range(cm.shape[1])):\n",
        "        plt.text(j, i, format(cm[i, j], fmt),\n",
        "                 horizontalalignment=\"center\",\n",
        "                 color=\"white\" if cm[i, j] > thresh else \"black\")\n",
        "\n",
        "    plt.ylabel('True label')\n",
        "    plt.xlabel('Predicted label')\n",
        "    plt.tight_layout()\n",
        "  \n",
        "cnf_matrix = confusion_matrix(Y_test_1, y_pred_1, labels=[-1, 0, 1])\n",
        "np.set_printoptions(precision=2)\n",
        "\n",
        "# Plot non-normalized confusion matrix\n",
        "plt.figure()\n",
        "plot_confusion_matrix(cnf_matrix, classes=[-1, 0, 1],\n",
        "                      title='Confusion matrix, without normalization')"
      ],
      "execution_count": null,
      "outputs": [
        {
          "output_type": "stream",
          "text": [
            "Confusion matrix, without normalization\n",
            "[[152  21  12]\n",
            " [ 41 142  50]\n",
            " [ 13  32 137]]\n"
          ],
          "name": "stdout"
        },
        {
          "output_type": "display_data",
          "data": {
            "image/png": "[encoded data removed]",
            "text/plain": [
              "<Figure size 432x288 with 2 Axes>"
            ]
          },
          "metadata": {
            "tags": []
          }
        }
      ]
    },
    {
      "cell_type": "code",
      "metadata": {
        "id": "qJW00PGFJXZ4",
        "colab_type": "code",
        "colab": {
          "base_uri": "https://localhost:8080/",
          "height": 185
        },
        "outputId": "6778b75c-07b0-4a51-e74a-c746ff70f8f8"
      },
      "source": [
        "from sklearn.metrics import classification_report\n",
        "print(classification_report(Y_test_1, y_pred_1, target_names=['-1', '0', '1']))"
      ],
      "execution_count": null,
      "outputs": [
        {
          "output_type": "stream",
          "text": [
            "              precision    recall  f1-score   support\n",
            "\n",
            "          -1       0.74      0.82      0.78       185\n",
            "           0       0.73      0.61      0.66       233\n",
            "           1       0.69      0.75      0.72       182\n",
            "\n",
            "   micro avg       0.72      0.72      0.72       600\n",
            "   macro avg       0.72      0.73      0.72       600\n",
            "weighted avg       0.72      0.72      0.72       600\n",
            "\n"
          ],
          "name": "stdout"
        }
      ]
    },
    {
      "cell_type": "code",
      "metadata": {
        "id": "2jnba9dr-IF6",
        "colab_type": "code",
        "colab": {}
      },
      "source": [
        "from sklearn.naive_bayes import MultinomialNB\n",
        "from sklearn.ensemble import RandomForestClassifier\n",
        "from sklearn.linear_model import LogisticRegression\n",
        "from sklearn.svm import LinearSVC"
      ],
      "execution_count": null,
      "outputs": []
    },
    {
      "cell_type": "code",
      "metadata": {
        "id": "pDmvrfUy-PjL",
        "colab_type": "code",
        "colab": {
          "base_uri": "https://localhost:8080/",
          "height": 67
        },
        "outputId": "840aa3c5-ea56-44f3-87a4-6362d3662cbb"
      },
      "source": [
        "modelnb = MultinomialNB()\n",
        "modelnb.fit(X_train_1, Y_train_1)\n",
        "print(\"Model MultinomialNB\")\n",
        "print(\"Train score: \", modelnb.score(X_train_1, Y_train_1))\n",
        "print(\"Test score: \", modelnb.score(X_test_1, Y_test_1))"
      ],
      "execution_count": null,
      "outputs": [
        {
          "output_type": "stream",
          "text": [
            "Model MultinomialNB\n",
            "Train score:  0.8391666666666666\n",
            "Test score:  0.7066666666666667\n"
          ],
          "name": "stdout"
        }
      ]
    },
    {
      "cell_type": "code",
      "metadata": {
        "id": "4ZM4Pufl_cRl",
        "colab_type": "code",
        "colab": {
          "base_uri": "https://localhost:8080/",
          "height": 34
        },
        "outputId": "6a229caf-2678-4e2d-c6e8-bf271a9becce"
      },
      "source": [
        "y_pred_nb = modelnb.predict(X_test_1)\n",
        "print(\"F1 score\",f1_score(Y_test_1, y_pred_nb, average = 'macro'))"
      ],
      "execution_count": null,
      "outputs": [
        {
          "output_type": "stream",
          "text": [
            "F1 score 0.7052399956357652\n"
          ],
          "name": "stdout"
        }
      ]
    },
    {
      "cell_type": "code",
      "metadata": {
        "id": "FjbnvcI3-jrQ",
        "colab_type": "code",
        "colab": {
          "base_uri": "https://localhost:8080/",
          "height": 154
        },
        "outputId": "d4f14d87-86ca-4f89-a46b-f6957d4051d5"
      },
      "source": [
        "modellr = LogisticRegression()\n",
        "modellr.fit(X_train_1, Y_train_1)\n",
        "print(\"Model LogisticRegression\")\n",
        "print(\"Train score: \", modellr.score(X_train_1, Y_train_1))\n",
        "print(\"Test score: \", modellr.score(X_test_1, Y_test_1))"
      ],
      "execution_count": null,
      "outputs": [
        {
          "output_type": "stream",
          "text": [
            "Model LogisticRegression\n",
            "Train score:  0.8575\n",
            "Test score:  0.7233333333333334\n"
          ],
          "name": "stdout"
        },
        {
          "output_type": "stream",
          "text": [
            "/usr/local/lib/python3.6/dist-packages/sklearn/linear_model/logistic.py:433: FutureWarning: Default solver will be changed to 'lbfgs' in 0.22. Specify a solver to silence this warning.\n",
            "  FutureWarning)\n",
            "/usr/local/lib/python3.6/dist-packages/sklearn/linear_model/logistic.py:460: FutureWarning: Default multi_class will be changed to 'auto' in 0.22. Specify the multi_class option to silence this warning.\n",
            "  \"this warning.\", FutureWarning)\n"
          ],
          "name": "stderr"
        }
      ]
    },
    {
      "cell_type": "code",
      "metadata": {
        "id": "H44Pl60M_tw8",
        "colab_type": "code",
        "colab": {
          "base_uri": "https://localhost:8080/",
          "height": 34
        },
        "outputId": "2905b1cc-7a58-440a-cfd9-de8dc0d3bd88"
      },
      "source": [
        "y_pred_lr = modellr.predict(X_test_1)\n",
        "print(\"F1 score\",f1_score(Y_test_1, y_pred_lr, average = 'macro'))"
      ],
      "execution_count": null,
      "outputs": [
        {
          "output_type": "stream",
          "text": [
            "F1 score 0.7230434335048761\n"
          ],
          "name": "stdout"
        }
      ]
    },
    {
      "cell_type": "code",
      "metadata": {
        "id": "lGRI2mti_Dst",
        "colab_type": "code",
        "colab": {
          "base_uri": "https://localhost:8080/",
          "height": 67
        },
        "outputId": "1d53bb4d-2569-4fb3-ab91-10d456b6a8c7"
      },
      "source": [
        "modelrdf = RandomForestClassifier(n_estimators=10)\n",
        "modelrdf.fit(X_train_1, Y_train_1)\n",
        "print(\"Model RandomForestClassifier\")\n",
        "print(\"Train score: \", modelrdf.score(X_train_1, Y_train_1))\n",
        "print(\"Test score: \", modelrdf.score(X_test_1, Y_test_1))"
      ],
      "execution_count": null,
      "outputs": [
        {
          "output_type": "stream",
          "text": [
            "Model RandomForestClassifier\n",
            "Train score:  0.9920833333333333\n",
            "Test score:  0.625\n"
          ],
          "name": "stdout"
        }
      ]
    },
    {
      "cell_type": "code",
      "metadata": {
        "id": "yF4Y6tJ__0Wt",
        "colab_type": "code",
        "colab": {
          "base_uri": "https://localhost:8080/",
          "height": 34
        },
        "outputId": "fc3a99c9-1452-40be-bb0c-a5da3116a90d"
      },
      "source": [
        "y_pred_rdf = modelrdf.predict(X_test_1)\n",
        "print(\"F1 score\",f1_score(Y_test_1, y_pred_rdf, average = 'macro'))"
      ],
      "execution_count": null,
      "outputs": [
        {
          "output_type": "stream",
          "text": [
            "F1 score 0.625220829712459\n"
          ],
          "name": "stdout"
        }
      ]
    },
    {
      "cell_type": "markdown",
      "metadata": {
        "id": "Ou0bPIM4B02J",
        "colab_type": "text"
      },
      "source": [
        "**II. Train data sử dụng việc chuẩn hóa dữ liệu**"
      ]
    },
    {
      "cell_type": "code",
      "metadata": {
        "id": "GsBeykKpB6S1",
        "colab_type": "code",
        "colab": {}
      },
      "source": [
        "def Text_PreProcessing_util(data):\n",
        "  result_2 = []\n",
        "  for i in data:\n",
        "    i = str(i)\n",
        "    text = text_lowercase(i)\n",
        "    text=Util(text)\n",
        "    text = remove_similarletter(text)\n",
        "    text = remove_number(text)\n",
        "    text = remove_punctuation(text)\n",
        "    text = remove_whitespace(text)\n",
        "    text = remove_VN_stopwords(text)\n",
        "    result_2.append(text)\n",
        "  return result_2"
      ],
      "execution_count": null,
      "outputs": []
    },
    {
      "cell_type": "code",
      "metadata": {
        "id": "h32y6Ji0CCLk",
        "colab_type": "code",
        "colab": {}
      },
      "source": [
        "X_data_2 = X_data\n",
        "Y_data_2 = Y_data"
      ],
      "execution_count": null,
      "outputs": []
    },
    {
      "cell_type": "code",
      "metadata": {
        "id": "p7FjhjDSCGOt",
        "colab_type": "code",
        "colab": {}
      },
      "source": [
        "X_data_2 = Text_PreProcessing_util(X_data_2)"
      ],
      "execution_count": null,
      "outputs": []
    },
    {
      "cell_type": "code",
      "metadata": {
        "id": "-ZKrOJNhCQC_",
        "colab_type": "code",
        "colab": {
          "base_uri": "https://localhost:8080/",
          "height": 34
        },
        "outputId": "93fb7e09-0e3c-48de-a0b9-66c7b465ea3d"
      },
      "source": [
        "print(X_data_2[0])"
      ],
      "execution_count": null,
      "outputs": [
        {
          "output_type": "stream",
          "text": [
            "sac pin ip viền kim loại đụng cảm giác tê như điện máy lỗi không làm sao khắc phục\n"
          ],
          "name": "stdout"
        }
      ]
    },
    {
      "cell_type": "code",
      "metadata": {
        "id": "3DWE2MdQCV9i",
        "colab_type": "code",
        "colab": {}
      },
      "source": [
        "vectorizer_2 = TfidfVectorizer()\n",
        "vectorizer_2.fit(X_data_2)\n",
        "X_data_tfidf_2 = vectorizer_2.transform(X_data_2).toarray()"
      ],
      "execution_count": null,
      "outputs": []
    },
    {
      "cell_type": "code",
      "metadata": {
        "id": "n5-whpuFCaN3",
        "colab_type": "code",
        "colab": {}
      },
      "source": [
        "print(vectorizer_2.get_feature_names())"
      ],
      "execution_count": null,
      "outputs": []
    },
    {
      "cell_type": "code",
      "metadata": {
        "id": "6MHYks7YCdWn",
        "colab_type": "code",
        "colab": {
          "base_uri": "https://localhost:8080/",
          "height": 34
        },
        "outputId": "54c33f58-6a98-4717-999f-e95f47ea8987"
      },
      "source": [
        "print(X_data_tfidf_2.shape)"
      ],
      "execution_count": null,
      "outputs": [
        {
          "output_type": "stream",
          "text": [
            "(3000, 3771)\n"
          ],
          "name": "stdout"
        }
      ]
    },
    {
      "cell_type": "code",
      "metadata": {
        "id": "bE1QFgvwC9qN",
        "colab_type": "code",
        "colab": {}
      },
      "source": [
        "X_train_2, X_test_2, Y_train_2, Y_test_2 = train_test_split(X_data_tfidf_2, Y_data_2, test_size=0.2)"
      ],
      "execution_count": null,
      "outputs": []
    },
    {
      "cell_type": "code",
      "metadata": {
        "id": "br4ruQ0wDDhq",
        "colab_type": "code",
        "colab": {
          "base_uri": "https://localhost:8080/",
          "height": 67
        },
        "outputId": "2784afdc-4c94-44fc-fa8e-1ebf04bb9f78"
      },
      "source": [
        "model_2 = SVC(kernel='linear')\n",
        "model_2.fit(X_train_2, Y_train_2)\n",
        "print(\"Model SVC\")\n",
        "print(\"Train score: \", model_2.score(X_train_2, Y_train_2))\n",
        "print(\"Test score: \", model_2.score(X_test_2, Y_test_2))"
      ],
      "execution_count": null,
      "outputs": [
        {
          "output_type": "stream",
          "text": [
            "Model SVC\n",
            "Train score:  0.9070833333333334\n",
            "Test score:  0.735\n"
          ],
          "name": "stdout"
        }
      ]
    },
    {
      "cell_type": "code",
      "metadata": {
        "id": "qlIMvzGWDLMK",
        "colab_type": "code",
        "colab": {
          "base_uri": "https://localhost:8080/",
          "height": 34
        },
        "outputId": "ddc5bae3-1b88-4f4e-d552-c98004a7c84a"
      },
      "source": [
        "y_pred_2 = model_2.predict(X_test_2)\n",
        "print(\"F1 score\",f1_score(Y_test_2, y_pred_2, average = 'macro'))"
      ],
      "execution_count": null,
      "outputs": [
        {
          "output_type": "stream",
          "text": [
            "F1 score 0.7366300366300366\n"
          ],
          "name": "stdout"
        }
      ]
    },
    {
      "cell_type": "code",
      "metadata": {
        "id": "7T1mZrs2DTSR",
        "colab_type": "code",
        "colab": {
          "base_uri": "https://localhost:8080/",
          "height": 364
        },
        "outputId": "36c95a4a-207c-458d-97a7-0f81a2513449"
      },
      "source": [
        "cnf_matrix_2 = confusion_matrix(Y_test_2, y_pred_2, labels=[-1, 0, 1])\n",
        "np.set_printoptions(precision=2)\n",
        "\n",
        "# Plot non-normalized confusion matrix\n",
        "plt.figure()\n",
        "plot_confusion_matrix(cnf_matrix_2, classes=[-1, 0, 1],\n",
        "                      title='Confusion matrix, without normalization')"
      ],
      "execution_count": null,
      "outputs": [
        {
          "output_type": "stream",
          "text": [
            "Confusion matrix, without normalization\n",
            "[[152  23   8]\n",
            " [ 42 141  35]\n",
            " [ 13  38 148]]\n"
          ],
          "name": "stdout"
        },
        {
          "output_type": "display_data",
          "data": {
            "image/png": "[encoded data removed]",
            "text/plain": [
              "<Figure size 432x288 with 2 Axes>"
            ]
          },
          "metadata": {
            "tags": []
          }
        }
      ]
    },
    {
      "cell_type": "code",
      "metadata": {
        "id": "XcNjLyG0JsQJ",
        "colab_type": "code",
        "colab": {
          "base_uri": "https://localhost:8080/",
          "height": 185
        },
        "outputId": "e3cbd087-6514-49f7-d793-8e97d4998bca"
      },
      "source": [
        "print(classification_report(Y_test_2, y_pred_2, target_names=['-1', '0', '1']))"
      ],
      "execution_count": null,
      "outputs": [
        {
          "output_type": "stream",
          "text": [
            "              precision    recall  f1-score   support\n",
            "\n",
            "          -1       0.73      0.83      0.78       183\n",
            "           0       0.70      0.65      0.67       218\n",
            "           1       0.77      0.74      0.76       199\n",
            "\n",
            "   micro avg       0.73      0.73      0.73       600\n",
            "   macro avg       0.74      0.74      0.74       600\n",
            "weighted avg       0.73      0.73      0.73       600\n",
            "\n"
          ],
          "name": "stdout"
        }
      ]
    },
    {
      "cell_type": "code",
      "metadata": {
        "id": "klUbBONNAJvw",
        "colab_type": "code",
        "colab": {
          "base_uri": "https://localhost:8080/",
          "height": 84
        },
        "outputId": "344ca4a3-542c-4960-92ee-16a72663e898"
      },
      "source": [
        "modelnb_2 = MultinomialNB()\n",
        "modelnb_2.fit(X_train_2, Y_train_2)\n",
        "print(\"Model MultinomialNB\")\n",
        "print(\"Train score: \", modelnb_2.score(X_train_2, Y_train_2))\n",
        "print(\"Test score: \", modelnb_2.score(X_test_2, Y_test_2))\n",
        "y_pred_nb_2 = modelnb_2.predict(X_test_2)\n",
        "print(\"F1 score\",f1_score(Y_test_2, y_pred_nb_2, average = 'macro'))"
      ],
      "execution_count": null,
      "outputs": [
        {
          "output_type": "stream",
          "text": [
            "Model MultinomialNB\n",
            "Train score:  0.8445833333333334\n",
            "Test score:  0.7466666666666667\n",
            "F1 score 0.7468229516068354\n"
          ],
          "name": "stdout"
        }
      ]
    },
    {
      "cell_type": "code",
      "metadata": {
        "id": "7F8RtIGQAmWu",
        "colab_type": "code",
        "colab": {
          "base_uri": "https://localhost:8080/",
          "height": 171
        },
        "outputId": "41a152c4-9554-4f30-941b-f5f9abfbcc13"
      },
      "source": [
        "modellr_2 = LogisticRegression()\n",
        "modellr_2.fit(X_train_2, Y_train_2)\n",
        "print(\"Model LogisticRegression\")\n",
        "print(\"Train score: \", modellr_2.score(X_train_2, Y_train_2))\n",
        "print(\"Test score: \", modellr_2.score(X_test_2, Y_test_2))\n",
        "y_pred_lr_2 = modellr_2.predict(X_test_2)\n",
        "print(\"F1 score\",f1_score(Y_test_2, y_pred_lr_2, average = 'macro'))"
      ],
      "execution_count": null,
      "outputs": [
        {
          "output_type": "stream",
          "text": [
            "Model LogisticRegression\n",
            "Train score:  0.84875\n",
            "Test score:  0.7533333333333333\n",
            "F1 score 0.7535765083700388\n"
          ],
          "name": "stdout"
        },
        {
          "output_type": "stream",
          "text": [
            "/usr/local/lib/python3.6/dist-packages/sklearn/linear_model/logistic.py:433: FutureWarning: Default solver will be changed to 'lbfgs' in 0.22. Specify a solver to silence this warning.\n",
            "  FutureWarning)\n",
            "/usr/local/lib/python3.6/dist-packages/sklearn/linear_model/logistic.py:460: FutureWarning: Default multi_class will be changed to 'auto' in 0.22. Specify the multi_class option to silence this warning.\n",
            "  \"this warning.\", FutureWarning)\n"
          ],
          "name": "stderr"
        }
      ]
    },
    {
      "cell_type": "code",
      "metadata": {
        "id": "1LyK3lcsA6dM",
        "colab_type": "code",
        "colab": {
          "base_uri": "https://localhost:8080/",
          "height": 84
        },
        "outputId": "f34e6e6a-c3d8-4ddb-eaa5-ec5617016dc7"
      },
      "source": [
        "modelrdf_2 = RandomForestClassifier(n_estimators=10)\n",
        "modelrdf_2.fit(X_train_2, Y_train_2)\n",
        "print(\"Model RandomForestClassifier\")\n",
        "print(\"Train score: \", modelrdf_2.score(X_train_2, Y_train_2))\n",
        "print(\"Test score: \", modelrdf_2.score(X_test_2, Y_test_2))\n",
        "y_pred_rdf_2 = modelrdf_2.predict(X_test_2)\n",
        "print(\"F1 score\",f1_score(Y_test_2, y_pred_rdf_2, average = 'macro'))"
      ],
      "execution_count": null,
      "outputs": [
        {
          "output_type": "stream",
          "text": [
            "Model RandomForestClassifier\n",
            "Train score:  0.9920833333333333\n",
            "Test score:  0.645\n",
            "F1 score 0.644662555372188\n"
          ],
          "name": "stdout"
        }
      ]
    },
    {
      "cell_type": "code",
      "metadata": {
        "id": "oDhEHRTDGa12",
        "colab_type": "code",
        "colab": {
          "base_uri": "https://localhost:8080/",
          "height": 34
        },
        "outputId": "e769cd73-ee34-4555-8c27-91692d67c391"
      },
      "source": [
        "import joblib\n",
        "joblib.dump(modellr_2, 'bestmodel.pkl')"
      ],
      "execution_count": null,
      "outputs": [
        {
          "output_type": "execute_result",
          "data": {
            "text/plain": [
              "['bestmodel.pkl']"
            ]
          },
          "metadata": {
            "tags": []
          },
          "execution_count": 86
        }
      ]
    }
  ]
}