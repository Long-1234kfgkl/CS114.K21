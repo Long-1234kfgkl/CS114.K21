{
  "nbformat": 4,
  "nbformat_minor": 0,
  "metadata": {
    "colab": {
      "name": "round3.ipynb",
      "provenance": [],
      "authorship_tag": "ABX9TyNcIBS5DITeLSHftgWXiSg3",
      "include_colab_link": true
    },
    "kernelspec": {
      "name": "python3",
      "display_name": "Python 3"
    }
  },
  "cells": [
    {
      "cell_type": "markdown",
      "metadata": {
        "id": "view-in-github",
        "colab_type": "text"
      },
      "source": [
        "<a href=\"https://colab.research.google.com/github/Long-1234kfgkl/CS114.K21/blob/master/round3.ipynb\" target=\"_parent\"><img src=\"https://colab.research.google.com/assets/colab-badge.svg\" alt=\"Open In Colab\"/></a>"
      ]
    },
    {
      "cell_type": "markdown",
      "metadata": {
        "id": "TPOlWl0tu84g",
        "colab_type": "text"
      },
      "source": [
        "import thư viện"
      ]
    },
    {
      "cell_type": "code",
      "metadata": {
        "id": "OhmTr0OjtS-z",
        "colab_type": "code",
        "colab": {}
      },
      "source": [
        "import pandas as pd  \n",
        "import numpy as np  \n",
        "import matplotlib.pyplot as plt  \n",
        "import seaborn as seabornInstance \n",
        "from sklearn.model_selection import train_test_split \n",
        "from sklearn.linear_model import LinearRegression\n",
        "from sklearn import metrics\n",
        "%matplotlib inline"
      ],
      "execution_count": 0,
      "outputs": []
    },
    {
      "cell_type": "markdown",
      "metadata": {
        "id": "UlDdZ18p18Ew",
        "colab_type": "text"
      },
      "source": [
        "load data từ link\"http://cs.uit.edu.vn/data3.txt\"\n",
        "Đặt 2 column là Size và Time"
      ]
    },
    {
      "cell_type": "code",
      "metadata": {
        "id": "LgqMnlpdtb0p",
        "colab_type": "code",
        "colab": {}
      },
      "source": [
        "dataset = pd.read_csv(\"http://cs.uit.edu.vn/data3.txt\",sep=' ',delimiter=',')\n",
        "dataset.columns=[\"Size\",\"Time\"]"
      ],
      "execution_count": 0,
      "outputs": []
    },
    {
      "cell_type": "markdown",
      "metadata": {
        "id": "JuUSvKO1vMba",
        "colab_type": "text"
      },
      "source": [
        "in ra số cột và hàng của dataset"
      ]
    },
    {
      "cell_type": "code",
      "metadata": {
        "id": "xEpKDWmatmwy",
        "colab_type": "code",
        "outputId": "57fdb263-fd91-4d83-c961-f4e9bc741fcf",
        "colab": {
          "base_uri": "https://localhost:8080/",
          "height": 34
        }
      },
      "source": [
        "dataset.shape"
      ],
      "execution_count": 0,
      "outputs": [
        {
          "output_type": "execute_result",
          "data": {
            "text/plain": [
              "(10589, 2)"
            ]
          },
          "metadata": {
            "tags": []
          },
          "execution_count": 18
        }
      ]
    },
    {
      "cell_type": "markdown",
      "metadata": {
        "id": "XWbqVZvzvR9q",
        "colab_type": "text"
      },
      "source": [
        "In ra một số cặp data,label"
      ]
    },
    {
      "cell_type": "code",
      "metadata": {
        "id": "GG_rFfA2tr6k",
        "colab_type": "code",
        "outputId": "d8f02c79-cb34-4d88-b7c3-bf4362136bfc",
        "colab": {
          "base_uri": "https://localhost:8080/",
          "height": 195
        }
      },
      "source": [
        "dataset.head()"
      ],
      "execution_count": 0,
      "outputs": [
        {
          "output_type": "execute_result",
          "data": {
            "text/html": [
              "<div>\n",
              "<style scoped>\n",
              "    .dataframe tbody tr th:only-of-type {\n",
              "        vertical-align: middle;\n",
              "    }\n",
              "\n",
              "    .dataframe tbody tr th {\n",
              "        vertical-align: top;\n",
              "    }\n",
              "\n",
              "    .dataframe thead th {\n",
              "        text-align: right;\n",
              "    }\n",
              "</style>\n",
              "<table border=\"1\" class=\"dataframe\">\n",
              "  <thead>\n",
              "    <tr style=\"text-align: right;\">\n",
              "      <th></th>\n",
              "      <th>Size</th>\n",
              "      <th>Time</th>\n",
              "    </tr>\n",
              "  </thead>\n",
              "  <tbody>\n",
              "    <tr>\n",
              "      <th>0</th>\n",
              "      <td>37395246</td>\n",
              "      <td>3.92089</td>\n",
              "    </tr>\n",
              "    <tr>\n",
              "      <th>1</th>\n",
              "      <td>36610827</td>\n",
              "      <td>3.21540</td>\n",
              "    </tr>\n",
              "    <tr>\n",
              "      <th>2</th>\n",
              "      <td>29555651</td>\n",
              "      <td>2.54506</td>\n",
              "    </tr>\n",
              "    <tr>\n",
              "      <th>3</th>\n",
              "      <td>25928216</td>\n",
              "      <td>2.21831</td>\n",
              "    </tr>\n",
              "    <tr>\n",
              "      <th>4</th>\n",
              "      <td>30423112</td>\n",
              "      <td>2.61376</td>\n",
              "    </tr>\n",
              "  </tbody>\n",
              "</table>\n",
              "</div>"
            ],
            "text/plain": [
              "       Size     Time\n",
              "0  37395246  3.92089\n",
              "1  36610827  3.21540\n",
              "2  29555651  2.54506\n",
              "3  25928216  2.21831\n",
              "4  30423112  2.61376"
            ]
          },
          "metadata": {
            "tags": []
          },
          "execution_count": 19
        }
      ]
    },
    {
      "cell_type": "markdown",
      "metadata": {
        "id": "sxKowS88vXID",
        "colab_type": "text"
      },
      "source": [
        "Bảng thống kê dataset ta đưa vào"
      ]
    },
    {
      "cell_type": "code",
      "metadata": {
        "id": "nf1dKx8atvOn",
        "colab_type": "code",
        "outputId": "efd66d7a-7582-40a9-f264-d5f9887cae11",
        "colab": {
          "base_uri": "https://localhost:8080/",
          "height": 284
        }
      },
      "source": [
        "dataset.describe()"
      ],
      "execution_count": 0,
      "outputs": [
        {
          "output_type": "execute_result",
          "data": {
            "text/html": [
              "<div>\n",
              "<style scoped>\n",
              "    .dataframe tbody tr th:only-of-type {\n",
              "        vertical-align: middle;\n",
              "    }\n",
              "\n",
              "    .dataframe tbody tr th {\n",
              "        vertical-align: top;\n",
              "    }\n",
              "\n",
              "    .dataframe thead th {\n",
              "        text-align: right;\n",
              "    }\n",
              "</style>\n",
              "<table border=\"1\" class=\"dataframe\">\n",
              "  <thead>\n",
              "    <tr style=\"text-align: right;\">\n",
              "      <th></th>\n",
              "      <th>Size</th>\n",
              "      <th>Time</th>\n",
              "    </tr>\n",
              "  </thead>\n",
              "  <tbody>\n",
              "    <tr>\n",
              "      <th>count</th>\n",
              "      <td>1.058900e+04</td>\n",
              "      <td>10589.000000</td>\n",
              "    </tr>\n",
              "    <tr>\n",
              "      <th>mean</th>\n",
              "      <td>2.999203e+07</td>\n",
              "      <td>2.642672</td>\n",
              "    </tr>\n",
              "    <tr>\n",
              "      <th>std</th>\n",
              "      <td>5.759148e+06</td>\n",
              "      <td>0.537139</td>\n",
              "    </tr>\n",
              "    <tr>\n",
              "      <th>min</th>\n",
              "      <td>2.000026e+07</td>\n",
              "      <td>1.669640</td>\n",
              "    </tr>\n",
              "    <tr>\n",
              "      <th>25%</th>\n",
              "      <td>2.503760e+07</td>\n",
              "      <td>2.180550</td>\n",
              "    </tr>\n",
              "    <tr>\n",
              "      <th>50%</th>\n",
              "      <td>2.994401e+07</td>\n",
              "      <td>2.639820</td>\n",
              "    </tr>\n",
              "    <tr>\n",
              "      <th>75%</th>\n",
              "      <td>3.500653e+07</td>\n",
              "      <td>3.100140</td>\n",
              "    </tr>\n",
              "    <tr>\n",
              "      <th>max</th>\n",
              "      <td>3.999734e+07</td>\n",
              "      <td>4.287660</td>\n",
              "    </tr>\n",
              "  </tbody>\n",
              "</table>\n",
              "</div>"
            ],
            "text/plain": [
              "               Size          Time\n",
              "count  1.058900e+04  10589.000000\n",
              "mean   2.999203e+07      2.642672\n",
              "std    5.759148e+06      0.537139\n",
              "min    2.000026e+07      1.669640\n",
              "25%    2.503760e+07      2.180550\n",
              "50%    2.994401e+07      2.639820\n",
              "75%    3.500653e+07      3.100140\n",
              "max    3.999734e+07      4.287660"
            ]
          },
          "metadata": {
            "tags": []
          },
          "execution_count": 20
        }
      ]
    },
    {
      "cell_type": "markdown",
      "metadata": {
        "id": "Ut1B4zBoyxb1",
        "colab_type": "text"
      },
      "source": [
        "Biểu diễn các điểm là mối liên hệ giữa 2 feature Size và Time (BIỂU ĐỒ)"
      ]
    },
    {
      "cell_type": "code",
      "metadata": {
        "id": "pWECjncztxD4",
        "colab_type": "code",
        "outputId": "a78ffce4-92b7-43d0-deef-7a8bd3eae09b",
        "colab": {
          "base_uri": "https://localhost:8080/",
          "height": 295
        }
      },
      "source": [
        "dataset.plot (x = 'Size', y = 'Time', style = 'o')\n",
        "plt.title ( 'Size and Time')   \n",
        "plt.xlabel ( 'Size')   \n",
        "plt.ylabel ( 'Time') \n",
        "plt.show()"
      ],
      "execution_count": 0,
      "outputs": [
        {
          "output_type": "display_data",
          "data": {
            "image/png": "[encoded data removed]",
            "text/plain": [
              "<Figure size 432x288 with 1 Axes>"
            ]
          },
          "metadata": {
            "tags": [],
            "needs_background": "light"
          }
        }
      ]
    },
    {
      "cell_type": "markdown",
      "metadata": {
        "id": "tXoi6OjUvouz",
        "colab_type": "text"
      },
      "source": [
        " đưa 2 feature Size và Time vào các biến X và y (đã được biến thàng dạng vector 1 chiều)"
      ]
    },
    {
      "cell_type": "code",
      "metadata": {
        "id": "mBRcpauStzmk",
        "colab_type": "code",
        "colab": {}
      },
      "source": [
        "X = dataset['Size'].values.reshape(-1,1)\n",
        "y = dataset['Time'].values.reshape(-1,1)"
      ],
      "execution_count": 0,
      "outputs": []
    },
    {
      "cell_type": "markdown",
      "metadata": {
        "id": "qA7Ze3Cpv2kV",
        "colab_type": "text"
      },
      "source": [
        "chia bộ dữ liệu thành 2 bộ, 80% cho training, 20% cho test"
      ]
    },
    {
      "cell_type": "code",
      "metadata": {
        "id": "c-NuUVcbt8jN",
        "colab_type": "code",
        "colab": {}
      },
      "source": [
        "X_train, X_test, y_train, y_test = train_test_split(X, y, test_size=0.2, random_state=0)"
      ],
      "execution_count": 0,
      "outputs": []
    },
    {
      "cell_type": "code",
      "metadata": {
        "id": "GTUQuyOZwAhm",
        "colab_type": "code",
        "colab": {}
      },
      "source": [
        "Chọn model là LinearRegression\n",
        "Fit model"
      ],
      "execution_count": 0,
      "outputs": []
    },
    {
      "cell_type": "code",
      "metadata": {
        "id": "YESOTYODt-u1",
        "colab_type": "code",
        "outputId": "d788fbe5-bd40-47fe-8617-189de2dc4616",
        "colab": {
          "base_uri": "https://localhost:8080/",
          "height": 34
        }
      },
      "source": [
        "regressor = LinearRegression(fit_intercept=True)  \n",
        "regressor.fit(X_train, y_train) #training the algorithm"
      ],
      "execution_count": 0,
      "outputs": [
        {
          "output_type": "execute_result",
          "data": {
            "text/plain": [
              "LinearRegression(copy_X=True, fit_intercept=True, n_jobs=None, normalize=False)"
            ]
          },
          "metadata": {
            "tags": []
          },
          "execution_count": 25
        }
      ]
    },
    {
      "cell_type": "code",
      "metadata": {
        "id": "-xHZXKgTwH0t",
        "colab_type": "code",
        "colab": {}
      },
      "source": [
        "predict dữ liệu"
      ],
      "execution_count": 0,
      "outputs": []
    },
    {
      "cell_type": "code",
      "metadata": {
        "id": "dvpbom1nuCpR",
        "colab_type": "code",
        "colab": {}
      },
      "source": [
        "y_pred = regressor.predict(X_test)"
      ],
      "execution_count": 0,
      "outputs": []
    },
    {
      "cell_type": "code",
      "metadata": {
        "id": "-Oa7RjFGwKQ1",
        "colab_type": "code",
        "colab": {}
      },
      "source": [
        "Bảng hai giá trị thực và giá trị đã dự đoán"
      ],
      "execution_count": 0,
      "outputs": []
    },
    {
      "cell_type": "code",
      "metadata": {
        "id": "k0d7FqP4uEvU",
        "colab_type": "code",
        "outputId": "6146be52-69b1-4bd7-f357-dd563cdacc82",
        "colab": {
          "base_uri": "https://localhost:8080/",
          "height": 402
        }
      },
      "source": [
        "df = pd.DataFrame({'Actual': y_test.flatten(), 'Predicted': y_pred.flatten()})\n",
        "df"
      ],
      "execution_count": 0,
      "outputs": [
        {
          "output_type": "execute_result",
          "data": {
            "text/html": [
              "<div>\n",
              "<style scoped>\n",
              "    .dataframe tbody tr th:only-of-type {\n",
              "        vertical-align: middle;\n",
              "    }\n",
              "\n",
              "    .dataframe tbody tr th {\n",
              "        vertical-align: top;\n",
              "    }\n",
              "\n",
              "    .dataframe thead th {\n",
              "        text-align: right;\n",
              "    }\n",
              "</style>\n",
              "<table border=\"1\" class=\"dataframe\">\n",
              "  <thead>\n",
              "    <tr style=\"text-align: right;\">\n",
              "      <th></th>\n",
              "      <th>Actual</th>\n",
              "      <th>Predicted</th>\n",
              "    </tr>\n",
              "  </thead>\n",
              "  <tbody>\n",
              "    <tr>\n",
              "      <th>0</th>\n",
              "      <td>2.39698</td>\n",
              "      <td>2.475410</td>\n",
              "    </tr>\n",
              "    <tr>\n",
              "      <th>1</th>\n",
              "      <td>2.66026</td>\n",
              "      <td>2.706579</td>\n",
              "    </tr>\n",
              "    <tr>\n",
              "      <th>2</th>\n",
              "      <td>2.75597</td>\n",
              "      <td>2.751995</td>\n",
              "    </tr>\n",
              "    <tr>\n",
              "      <th>3</th>\n",
              "      <td>2.90832</td>\n",
              "      <td>2.859758</td>\n",
              "    </tr>\n",
              "    <tr>\n",
              "      <th>4</th>\n",
              "      <td>1.94031</td>\n",
              "      <td>1.990079</td>\n",
              "    </tr>\n",
              "    <tr>\n",
              "      <th>...</th>\n",
              "      <td>...</td>\n",
              "      <td>...</td>\n",
              "    </tr>\n",
              "    <tr>\n",
              "      <th>2113</th>\n",
              "      <td>2.13180</td>\n",
              "      <td>2.136571</td>\n",
              "    </tr>\n",
              "    <tr>\n",
              "      <th>2114</th>\n",
              "      <td>2.19643</td>\n",
              "      <td>2.200919</td>\n",
              "    </tr>\n",
              "    <tr>\n",
              "      <th>2115</th>\n",
              "      <td>2.36696</td>\n",
              "      <td>2.440459</td>\n",
              "    </tr>\n",
              "    <tr>\n",
              "      <th>2116</th>\n",
              "      <td>2.46800</td>\n",
              "      <td>2.437054</td>\n",
              "    </tr>\n",
              "    <tr>\n",
              "      <th>2117</th>\n",
              "      <td>2.54412</td>\n",
              "      <td>2.566704</td>\n",
              "    </tr>\n",
              "  </tbody>\n",
              "</table>\n",
              "<p>2118 rows × 2 columns</p>\n",
              "</div>"
            ],
            "text/plain": [
              "       Actual  Predicted\n",
              "0     2.39698   2.475410\n",
              "1     2.66026   2.706579\n",
              "2     2.75597   2.751995\n",
              "3     2.90832   2.859758\n",
              "4     1.94031   1.990079\n",
              "...       ...        ...\n",
              "2113  2.13180   2.136571\n",
              "2114  2.19643   2.200919\n",
              "2115  2.36696   2.440459\n",
              "2116  2.46800   2.437054\n",
              "2117  2.54412   2.566704\n",
              "\n",
              "[2118 rows x 2 columns]"
            ]
          },
          "metadata": {
            "tags": []
          },
          "execution_count": 27
        }
      ]
    },
    {
      "cell_type": "markdown",
      "metadata": {
        "id": "zRnejrnDwPi2",
        "colab_type": "text"
      },
      "source": [
        "Biểu đồ biễu diển 2 giá trị thực sự và dự đoán"
      ]
    },
    {
      "cell_type": "code",
      "metadata": {
        "id": "u4Z7fW3HuHZA",
        "colab_type": "code",
        "outputId": "e240cea7-5b61-4465-fb21-3fc4ee96473e",
        "colab": {
          "base_uri": "https://localhost:8080/",
          "height": 594
        }
      },
      "source": [
        "df1 = df.head(25)\n",
        "df1.plot(kind='bar',figsize=(16,10))\n",
        "plt.grid(which='major', linestyle='-', linewidth='0.5', color='green')\n",
        "plt.grid(which='minor', linestyle=':', linewidth='0.5', color='black')\n",
        "plt.show()"
      ],
      "execution_count": 0,
      "outputs": [
        {
          "output_type": "display_data",
          "data": {
            "image/png": "[encoded data removed]",
            "text/plain": [
              "<Figure size 1152x720 with 1 Axes>"
            ]
          },
          "metadata": {
            "tags": [],
            "needs_background": "light"
          }
        }
      ]
    },
    {
      "cell_type": "markdown",
      "metadata": {
        "id": "wZLNLH5QwWjP",
        "colab_type": "text"
      },
      "source": [
        "In ra biểu đồ hàm ánh xạ trên biểu đồ Size and Time"
      ]
    },
    {
      "cell_type": "code",
      "metadata": {
        "id": "yItyhYYtuJ6D",
        "colab_type": "code",
        "outputId": "358bd5b2-1d6a-4832-de97-cf233ed5dd87",
        "colab": {
          "base_uri": "https://localhost:8080/",
          "height": 278
        }
      },
      "source": [
        "plt.scatter(X_test, y_test,  color='gray')\n",
        "plt.plot(X_test, y_pred, color='red', linewidth=2)\n",
        "plt.show()"
      ],
      "execution_count": 0,
      "outputs": [
        {
          "output_type": "display_data",
          "data": {
            "image/png": "[encoded data removed]",
            "text/plain": [
              "<Figure size 432x288 with 1 Axes>"
            ]
          },
          "metadata": {
            "tags": [],
            "needs_background": "light"
          }
        }
      ]
    },
    {
      "cell_type": "markdown",
      "metadata": {
        "id": "a2dI-bfRwkAF",
        "colab_type": "text"
      },
      "source": [
        "In ra:\n",
        "dòng 1 MSQ: lỗi bình phương góc\n",
        ",dòng 2 : độ chính xác trong huấn luyện train\n",
        ",dòng 3 : độ chính xác trong huấn luyện test\n",
        "\n",
        "\n"
      ]
    },
    {
      "cell_type": "code",
      "metadata": {
        "id": "bltALjdVuNC3",
        "colab_type": "code",
        "outputId": "5e9f584f-6316-47bc-ae9f-aaad093405ab",
        "colab": {
          "base_uri": "https://localhost:8080/",
          "height": 67
        }
      },
      "source": [
        "import sklearn.metrics as metrics\n",
        "print('Mean Squared Error:', metrics.mean_squared_error(y_test, y_pred))  \n",
        "print(regressor.score(X_train,y_train))\n",
        "print(regressor.score(X_test,y_test))"
      ],
      "execution_count": 0,
      "outputs": [
        {
          "output_type": "stream",
          "text": [
            "Mean Squared Error: 0.003313862329617691\n",
            "0.9884041146952219\n",
            "0.9881646990079122\n"
          ],
          "name": "stdout"
        }
      ]
    }
  ]
}