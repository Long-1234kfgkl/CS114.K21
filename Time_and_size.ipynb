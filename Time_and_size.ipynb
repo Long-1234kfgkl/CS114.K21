{
  "nbformat": 4,
  "nbformat_minor": 0,
  "metadata": {
    "colab": {
      "name": "Time and size.ipynb",
      "provenance": [],
      "authorship_tag": "ABX9TyN1pWPrEumL+dLv/f6TGc/H",
      "include_colab_link": true
    },
    "kernelspec": {
      "name": "python3",
      "display_name": "Python 3"
    }
  },
  "cells": [
    {
      "cell_type": "markdown",
      "metadata": {
        "id": "view-in-github",
        "colab_type": "text"
      },
      "source": [
        "<a href=\"https://colab.research.google.com/github/Long-1234kfgkl/CS114.K21/blob/master/Time_and_size.ipynb\" target=\"_parent\"><img src=\"https://colab.research.google.com/assets/colab-badge.svg\" alt=\"Open In Colab\"/></a>"
      ]
    },
    {
      "cell_type": "code",
      "metadata": {
        "id": "p4A44siZQMpJ",
        "colab_type": "code",
        "colab": {}
      },
      "source": [
        "import pandas as pd  \n",
        "import numpy as np  \n",
        "import matplotlib.pyplot as plt  \n",
        "import seaborn as seabornInstance \n",
        "from sklearn.model_selection import train_test_split \n",
        "from sklearn.linear_model import LinearRegression\n",
        "from sklearn import metrics\n",
        "%matplotlib inline"
      ],
      "execution_count": 0,
      "outputs": []
    },
    {
      "cell_type": "code",
      "metadata": {
        "id": "UHasFwPiQeBH",
        "colab_type": "code",
        "colab": {}
      },
      "source": [
        "dataset = pd.read_csv(\"https://cs.uit.edu.vn/data.txt\",sep=' ',delimiter=',')\n",
        "dataset.columns=[\"Size\",\"Time\"]"
      ],
      "execution_count": 0,
      "outputs": []
    },
    {
      "cell_type": "code",
      "metadata": {
        "id": "CZJO2kNFRYe4",
        "colab_type": "code",
        "colab": {}
      },
      "source": [
        "import math\n",
        "df=pd.DataFrame(dataset)\n",
        "Size2=[(df['Size'][i])**2 for i in range(len(dataset))]\n",
        "Sizelog=[df['Size'][i]*math.log2(df['Size'][i]) for i in range(len(dataset))]\n",
        "df['Size2']=Size2\n",
        "df['Sizelog']=Sizelog"
      ],
      "execution_count": 0,
      "outputs": []
    },
    {
      "cell_type": "code",
      "metadata": {
        "id": "kzxVO_o4RSyI",
        "colab_type": "code",
        "outputId": "b5c74e5e-197d-44f0-f67c-b5286f7091ee",
        "colab": {
          "base_uri": "https://localhost:8080/",
          "height": 34
        }
      },
      "source": [
        "dataset.shape"
      ],
      "execution_count": 159,
      "outputs": [
        {
          "output_type": "execute_result",
          "data": {
            "text/plain": [
              "(5210, 4)"
            ]
          },
          "metadata": {
            "tags": []
          },
          "execution_count": 159
        }
      ]
    },
    {
      "cell_type": "code",
      "metadata": {
        "id": "_XXDpCTSRcyO",
        "colab_type": "code",
        "outputId": "1fa975c2-9853-43ae-ce46-109c384a4c3e",
        "colab": {
          "base_uri": "https://localhost:8080/",
          "height": 195
        }
      },
      "source": [
        "dataset.head()"
      ],
      "execution_count": 160,
      "outputs": [
        {
          "output_type": "execute_result",
          "data": {
            "text/html": [
              "<div>\n",
              "<style scoped>\n",
              "    .dataframe tbody tr th:only-of-type {\n",
              "        vertical-align: middle;\n",
              "    }\n",
              "\n",
              "    .dataframe tbody tr th {\n",
              "        vertical-align: top;\n",
              "    }\n",
              "\n",
              "    .dataframe thead th {\n",
              "        text-align: right;\n",
              "    }\n",
              "</style>\n",
              "<table border=\"1\" class=\"dataframe\">\n",
              "  <thead>\n",
              "    <tr style=\"text-align: right;\">\n",
              "      <th></th>\n",
              "      <th>Size</th>\n",
              "      <th>Time</th>\n",
              "      <th>Size2</th>\n",
              "      <th>Sizelog</th>\n",
              "    </tr>\n",
              "  </thead>\n",
              "  <tbody>\n",
              "    <tr>\n",
              "      <th>0</th>\n",
              "      <td>2055486</td>\n",
              "      <td>0.509774</td>\n",
              "      <td>4225022696196</td>\n",
              "      <td>4.310570e+07</td>\n",
              "    </tr>\n",
              "    <tr>\n",
              "      <th>1</th>\n",
              "      <td>5626651</td>\n",
              "      <td>1.476080</td>\n",
              "      <td>31659201475801</td>\n",
              "      <td>1.261712e+08</td>\n",
              "    </tr>\n",
              "    <tr>\n",
              "      <th>2</th>\n",
              "      <td>42065</td>\n",
              "      <td>0.007651</td>\n",
              "      <td>1769464225</td>\n",
              "      <td>6.461324e+05</td>\n",
              "    </tr>\n",
              "    <tr>\n",
              "      <th>3</th>\n",
              "      <td>6297788</td>\n",
              "      <td>1.661560</td>\n",
              "      <td>39662133692944</td>\n",
              "      <td>1.422444e+08</td>\n",
              "    </tr>\n",
              "    <tr>\n",
              "      <th>4</th>\n",
              "      <td>8871407</td>\n",
              "      <td>2.653120</td>\n",
              "      <td>78701862159649</td>\n",
              "      <td>2.047586e+08</td>\n",
              "    </tr>\n",
              "  </tbody>\n",
              "</table>\n",
              "</div>"
            ],
            "text/plain": [
              "      Size      Time           Size2       Sizelog\n",
              "0  2055486  0.509774   4225022696196  4.310570e+07\n",
              "1  5626651  1.476080  31659201475801  1.261712e+08\n",
              "2    42065  0.007651      1769464225  6.461324e+05\n",
              "3  6297788  1.661560  39662133692944  1.422444e+08\n",
              "4  8871407  2.653120  78701862159649  2.047586e+08"
            ]
          },
          "metadata": {
            "tags": []
          },
          "execution_count": 160
        }
      ]
    },
    {
      "cell_type": "code",
      "metadata": {
        "id": "oH6ICX9bSflQ",
        "colab_type": "code",
        "outputId": "4201a8c0-d360-426a-e6d0-dea40bd480dd",
        "colab": {
          "base_uri": "https://localhost:8080/",
          "height": 284
        }
      },
      "source": [
        "dataset.describe()"
      ],
      "execution_count": 161,
      "outputs": [
        {
          "output_type": "execute_result",
          "data": {
            "text/html": [
              "<div>\n",
              "<style scoped>\n",
              "    .dataframe tbody tr th:only-of-type {\n",
              "        vertical-align: middle;\n",
              "    }\n",
              "\n",
              "    .dataframe tbody tr th {\n",
              "        vertical-align: top;\n",
              "    }\n",
              "\n",
              "    .dataframe thead th {\n",
              "        text-align: right;\n",
              "    }\n",
              "</style>\n",
              "<table border=\"1\" class=\"dataframe\">\n",
              "  <thead>\n",
              "    <tr style=\"text-align: right;\">\n",
              "      <th></th>\n",
              "      <th>Size</th>\n",
              "      <th>Time</th>\n",
              "      <th>Size2</th>\n",
              "      <th>Sizelog</th>\n",
              "    </tr>\n",
              "  </thead>\n",
              "  <tbody>\n",
              "    <tr>\n",
              "      <th>count</th>\n",
              "      <td>5.210000e+03</td>\n",
              "      <td>5210.000000</td>\n",
              "      <td>5.210000e+03</td>\n",
              "      <td>5.210000e+03</td>\n",
              "    </tr>\n",
              "    <tr>\n",
              "      <th>mean</th>\n",
              "      <td>4.991767e+06</td>\n",
              "      <td>1.363353</td>\n",
              "      <td>3.334798e+13</td>\n",
              "      <td>1.124832e+08</td>\n",
              "    </tr>\n",
              "    <tr>\n",
              "      <th>std</th>\n",
              "      <td>2.903765e+06</td>\n",
              "      <td>0.825925</td>\n",
              "      <td>2.997971e+13</td>\n",
              "      <td>6.823263e+07</td>\n",
              "    </tr>\n",
              "    <tr>\n",
              "      <th>min</th>\n",
              "      <td>2.390000e+02</td>\n",
              "      <td>0.000028</td>\n",
              "      <td>5.712100e+04</td>\n",
              "      <td>1.888307e+03</td>\n",
              "    </tr>\n",
              "    <tr>\n",
              "      <th>25%</th>\n",
              "      <td>2.450926e+06</td>\n",
              "      <td>0.630406</td>\n",
              "      <td>6.007039e+12</td>\n",
              "      <td>5.202065e+07</td>\n",
              "    </tr>\n",
              "    <tr>\n",
              "      <th>50%</th>\n",
              "      <td>5.033683e+06</td>\n",
              "      <td>1.355880</td>\n",
              "      <td>2.533797e+13</td>\n",
              "      <td>1.120658e+08</td>\n",
              "    </tr>\n",
              "    <tr>\n",
              "      <th>75%</th>\n",
              "      <td>7.523688e+06</td>\n",
              "      <td>2.076855</td>\n",
              "      <td>5.660587e+13</td>\n",
              "      <td>1.718637e+08</td>\n",
              "    </tr>\n",
              "    <tr>\n",
              "      <th>max</th>\n",
              "      <td>9.995358e+06</td>\n",
              "      <td>3.315540</td>\n",
              "      <td>9.990718e+13</td>\n",
              "      <td>2.324203e+08</td>\n",
              "    </tr>\n",
              "  </tbody>\n",
              "</table>\n",
              "</div>"
            ],
            "text/plain": [
              "               Size         Time         Size2       Sizelog\n",
              "count  5.210000e+03  5210.000000  5.210000e+03  5.210000e+03\n",
              "mean   4.991767e+06     1.363353  3.334798e+13  1.124832e+08\n",
              "std    2.903765e+06     0.825925  2.997971e+13  6.823263e+07\n",
              "min    2.390000e+02     0.000028  5.712100e+04  1.888307e+03\n",
              "25%    2.450926e+06     0.630406  6.007039e+12  5.202065e+07\n",
              "50%    5.033683e+06     1.355880  2.533797e+13  1.120658e+08\n",
              "75%    7.523688e+06     2.076855  5.660587e+13  1.718637e+08\n",
              "max    9.995358e+06     3.315540  9.990718e+13  2.324203e+08"
            ]
          },
          "metadata": {
            "tags": []
          },
          "execution_count": 161
        }
      ]
    },
    {
      "cell_type": "code",
      "metadata": {
        "id": "wBjcBVMYS0fw",
        "colab_type": "code",
        "outputId": "4de662ef-dc26-400e-84bd-8d43a1624a3e",
        "colab": {
          "base_uri": "https://localhost:8080/",
          "height": 295
        }
      },
      "source": [
        "dataset.plot (x = 'Size', y = 'Time', style = 'o')\n",
        "plt.title ( 'Size and Time')   \n",
        "plt.xlabel ( 'Size')   \n",
        "plt.ylabel ( 'Time') \n",
        "plt.show()"
      ],
      "execution_count": 162,
      "outputs": [
        {
          "output_type": "display_data",
          "data": {
            "image/png": "[encoded data removed]",
            "text/plain": [
              "<Figure size 432x288 with 1 Axes>"
            ]
          },
          "metadata": {
            "tags": [],
            "needs_background": "light"
          }
        }
      ]
    },
    {
      "cell_type": "code",
      "metadata": {
        "id": "brGBDkWwTMW2",
        "colab_type": "code",
        "colab": {}
      },
      "source": [
        "X = dataset[['Size','Size2','Sizelog']]\n",
        "y = dataset['Time'].values.reshape(-1,1)"
      ],
      "execution_count": 0,
      "outputs": []
    },
    {
      "cell_type": "code",
      "metadata": {
        "id": "zQ3ZacQYUDq5",
        "colab_type": "code",
        "colab": {}
      },
      "source": [
        "\n",
        "X_train, X_test, y_train, y_test = train_test_split(X, y, test_size=0.2, random_state=0)"
      ],
      "execution_count": 0,
      "outputs": []
    },
    {
      "cell_type": "code",
      "metadata": {
        "id": "-RZA0eu5UHnk",
        "colab_type": "code",
        "outputId": "36ed654d-6725-41ff-bfec-bcbcdbb212f4",
        "colab": {
          "base_uri": "https://localhost:8080/",
          "height": 34
        }
      },
      "source": [
        "regressor = LinearRegression(fit_intercept=True)  \n",
        "regressor.fit(X_train, y_train) #training the algorithm"
      ],
      "execution_count": 165,
      "outputs": [
        {
          "output_type": "execute_result",
          "data": {
            "text/plain": [
              "LinearRegression(copy_X=True, fit_intercept=True, n_jobs=None, normalize=False)"
            ]
          },
          "metadata": {
            "tags": []
          },
          "execution_count": 165
        }
      ]
    },
    {
      "cell_type": "code",
      "metadata": {
        "id": "T9IlWYyVUKsi",
        "colab_type": "code",
        "colab": {}
      },
      "source": [
        "y_pred = regressor.predict(X_test)"
      ],
      "execution_count": 0,
      "outputs": []
    },
    {
      "cell_type": "code",
      "metadata": {
        "id": "ufGvbQt7VQ12",
        "colab_type": "code",
        "outputId": "2d2a0940-200b-4ee8-ec4d-15a8374db9c0",
        "colab": {
          "base_uri": "https://localhost:8080/",
          "height": 402
        }
      },
      "source": [
        "df = pd.DataFrame({'Actual': y_test.flatten(), 'Predicted': y_pred.flatten()})\n",
        "df"
      ],
      "execution_count": 167,
      "outputs": [
        {
          "output_type": "execute_result",
          "data": {
            "text/html": [
              "<div>\n",
              "<style scoped>\n",
              "    .dataframe tbody tr th:only-of-type {\n",
              "        vertical-align: middle;\n",
              "    }\n",
              "\n",
              "    .dataframe tbody tr th {\n",
              "        vertical-align: top;\n",
              "    }\n",
              "\n",
              "    .dataframe thead th {\n",
              "        text-align: right;\n",
              "    }\n",
              "</style>\n",
              "<table border=\"1\" class=\"dataframe\">\n",
              "  <thead>\n",
              "    <tr style=\"text-align: right;\">\n",
              "      <th></th>\n",
              "      <th>Actual</th>\n",
              "      <th>Predicted</th>\n",
              "    </tr>\n",
              "  </thead>\n",
              "  <tbody>\n",
              "    <tr>\n",
              "      <th>0</th>\n",
              "      <td>1.718650</td>\n",
              "      <td>1.715441</td>\n",
              "    </tr>\n",
              "    <tr>\n",
              "      <th>1</th>\n",
              "      <td>2.618280</td>\n",
              "      <td>2.618098</td>\n",
              "    </tr>\n",
              "    <tr>\n",
              "      <th>2</th>\n",
              "      <td>0.687245</td>\n",
              "      <td>0.688035</td>\n",
              "    </tr>\n",
              "    <tr>\n",
              "      <th>3</th>\n",
              "      <td>0.985524</td>\n",
              "      <td>1.005951</td>\n",
              "    </tr>\n",
              "    <tr>\n",
              "      <th>4</th>\n",
              "      <td>1.069790</td>\n",
              "      <td>1.069003</td>\n",
              "    </tr>\n",
              "    <tr>\n",
              "      <th>...</th>\n",
              "      <td>...</td>\n",
              "      <td>...</td>\n",
              "    </tr>\n",
              "    <tr>\n",
              "      <th>1037</th>\n",
              "      <td>1.210280</td>\n",
              "      <td>1.235400</td>\n",
              "    </tr>\n",
              "    <tr>\n",
              "      <th>1038</th>\n",
              "      <td>0.636834</td>\n",
              "      <td>0.632349</td>\n",
              "    </tr>\n",
              "    <tr>\n",
              "      <th>1039</th>\n",
              "      <td>1.203920</td>\n",
              "      <td>1.162617</td>\n",
              "    </tr>\n",
              "    <tr>\n",
              "      <th>1040</th>\n",
              "      <td>1.206750</td>\n",
              "      <td>1.191790</td>\n",
              "    </tr>\n",
              "    <tr>\n",
              "      <th>1041</th>\n",
              "      <td>0.271360</td>\n",
              "      <td>0.270947</td>\n",
              "    </tr>\n",
              "  </tbody>\n",
              "</table>\n",
              "<p>1042 rows × 2 columns</p>\n",
              "</div>"
            ],
            "text/plain": [
              "        Actual  Predicted\n",
              "0     1.718650   1.715441\n",
              "1     2.618280   2.618098\n",
              "2     0.687245   0.688035\n",
              "3     0.985524   1.005951\n",
              "4     1.069790   1.069003\n",
              "...        ...        ...\n",
              "1037  1.210280   1.235400\n",
              "1038  0.636834   0.632349\n",
              "1039  1.203920   1.162617\n",
              "1040  1.206750   1.191790\n",
              "1041  0.271360   0.270947\n",
              "\n",
              "[1042 rows x 2 columns]"
            ]
          },
          "metadata": {
            "tags": []
          },
          "execution_count": 167
        }
      ]
    },
    {
      "cell_type": "code",
      "metadata": {
        "id": "uWe3urTdVVHh",
        "colab_type": "code",
        "outputId": "9fda31ff-0e31-4bdb-cbdd-2e694930f9d5",
        "colab": {
          "base_uri": "https://localhost:8080/",
          "height": 594
        }
      },
      "source": [
        "df1 = df.head(25)\n",
        "df1.plot(kind='bar',figsize=(16,10))\n",
        "plt.grid(which='major', linestyle='-', linewidth='0.5', color='green')\n",
        "plt.grid(which='minor', linestyle=':', linewidth='0.5', color='black')\n",
        "plt.show()"
      ],
      "execution_count": 168,
      "outputs": [
        {
          "output_type": "display_data",
          "data": {
            "image/png": "[encoded data removed]",
            "text/plain": [
              "<Figure size 1152x720 with 1 Axes>"
            ]
          },
          "metadata": {
            "tags": [],
            "needs_background": "light"
          }
        }
      ]
    },
    {
      "cell_type": "code",
      "metadata": {
        "id": "vtNgJDZ4VgNc",
        "colab_type": "code",
        "outputId": "a702c9ab-f02d-4c91-8eeb-f9d070ebe208",
        "colab": {
          "base_uri": "https://localhost:8080/",
          "height": 50
        }
      },
      "source": [
        "import sklearn.metrics as metrics\n",
        "print(regressor.score(X_train,y_train))\n",
        "print(regressor.score(X_test,y_test))"
      ],
      "execution_count": 169,
      "outputs": [
        {
          "output_type": "stream",
          "text": [
            "0.9978894458787916\n",
            "0.9972595398157934\n"
          ],
          "name": "stdout"
        }
      ]
    },
    {
      "cell_type": "code",
      "metadata": {
        "id": "gowsd84VkXrK",
        "colab_type": "code",
        "colab": {}
      },
      "source": [
        "plt.scatter(X_test, y_test,  color='gray')\n",
        "plt.plot(X_test, y_pred, color='red', linewidth=2)\n",
        "plt.show()"
      ],
      "execution_count": 0,
      "outputs": []
    },
    {
      "cell_type": "code",
      "metadata": {
        "id": "QwvSBZx1k7tN",
        "colab_type": "code",
        "colab": {
          "base_uri": "https://localhost:8080/",
          "height": 67
        },
        "outputId": "bf06a5e1-bfeb-4e8b-ed07-1bca5ef81b29"
      },
      "source": [
        "print('Mean Absolute Error:', metrics.mean_absolute_error(y_test, y_pred))  \n",
        "print('Mean Squared Error:', metrics.mean_squared_error(y_test, y_pred))  \n",
        "print('Root Mean Squared Error:', np.sqrt(metrics.mean_squared_error(y_test, y_pred)))"
      ],
      "execution_count": 170,
      "outputs": [
        {
          "output_type": "stream",
          "text": [
            "Mean Absolute Error: 0.02373893910019814\n",
            "Mean Squared Error: 0.0018121521960262892\n",
            "Root Mean Squared Error: 0.04256938096832381\n"
          ],
          "name": "stdout"
        }
      ]
    }
  ]
}