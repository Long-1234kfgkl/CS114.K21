{
  "nbformat": 4,
  "nbformat_minor": 0,
  "metadata": {
    "colab": {
      "name": "round2.ipynb",
      "provenance": [],
      "authorship_tag": "ABX9TyNB9SvH2B5R+yiLIJXhuUDd",
      "include_colab_link": true
    },
    "kernelspec": {
      "name": "python3",
      "display_name": "Python 3"
    }
  },
  "cells": [
    {
      "cell_type": "markdown",
      "metadata": {
        "id": "view-in-github",
        "colab_type": "text"
      },
      "source": [
        "<a href=\"https://colab.research.google.com/github/Long-1234kfgkl/CS114.K21/blob/master/round2.ipynb\" target=\"_parent\"><img src=\"https://colab.research.google.com/assets/colab-badge.svg\" alt=\"Open In Colab\"/></a>"
      ]
    },
    {
      "cell_type": "markdown",
      "metadata": {
        "id": "TPOlWl0tu84g",
        "colab_type": "text"
      },
      "source": [
        "import thư viện"
      ]
    },
    {
      "cell_type": "code",
      "metadata": {
        "id": "OhmTr0OjtS-z",
        "colab_type": "code",
        "outputId": "d85866f7-2d4c-41be-a08f-de85d2e0f7eb",
        "colab": {
          "base_uri": "https://localhost:8080/",
          "height": 70
        }
      },
      "source": [
        "import pandas as pd  \n",
        "import numpy as np  \n",
        "import matplotlib.pyplot as plt  \n",
        "import seaborn as seabornInstance \n",
        "from sklearn.model_selection import train_test_split \n",
        "from sklearn.linear_model import LinearRegression\n",
        "from sklearn import metrics\n",
        "%matplotlib inline"
      ],
      "execution_count": 0,
      "outputs": [
        {
          "output_type": "stream",
          "text": [
            "/usr/local/lib/python3.6/dist-packages/statsmodels/tools/_testing.py:19: FutureWarning: pandas.util.testing is deprecated. Use the functions in the public API at pandas.testing instead.\n",
            "  import pandas.util.testing as tm\n"
          ],
          "name": "stderr"
        }
      ]
    },
    {
      "cell_type": "markdown",
      "metadata": {
        "id": "Cem5ag81u2UD",
        "colab_type": "text"
      },
      "source": [
        "\n",
        "load data từ link \"http://cs.uit.edu.vn/data2.txt\"\n",
        "đặt 2 column đầu là Size and Time"
      ]
    },
    {
      "cell_type": "code",
      "metadata": {
        "id": "LgqMnlpdtb0p",
        "colab_type": "code",
        "colab": {}
      },
      "source": [
        "dataset = pd.read_csv(\"http://cs.uit.edu.vn/data2.txt\",sep=' ',delimiter=',')\n",
        "dataset.columns=[\"Size\",\"Time\"]"
      ],
      "execution_count": 0,
      "outputs": []
    },
    {
      "cell_type": "markdown",
      "metadata": {
        "id": "JuUSvKO1vMba",
        "colab_type": "text"
      },
      "source": [
        "in ra số cột và hàng của dataset"
      ]
    },
    {
      "cell_type": "code",
      "metadata": {
        "id": "xEpKDWmatmwy",
        "colab_type": "code",
        "outputId": "a9bbb19f-c6ef-412a-ce66-acd3dd7adad8",
        "colab": {
          "base_uri": "https://localhost:8080/",
          "height": 34
        }
      },
      "source": [
        "dataset.shape"
      ],
      "execution_count": 0,
      "outputs": [
        {
          "output_type": "execute_result",
          "data": {
            "text/plain": [
              "(71114, 2)"
            ]
          },
          "metadata": {
            "tags": []
          },
          "execution_count": 3
        }
      ]
    },
    {
      "cell_type": "markdown",
      "metadata": {
        "id": "XWbqVZvzvR9q",
        "colab_type": "text"
      },
      "source": [
        "In ra một số cặp data,label"
      ]
    },
    {
      "cell_type": "code",
      "metadata": {
        "id": "GG_rFfA2tr6k",
        "colab_type": "code",
        "outputId": "1d8aa265-1140-4bd7-f96a-8900451cedb6",
        "colab": {
          "base_uri": "https://localhost:8080/",
          "height": 195
        }
      },
      "source": [
        "dataset.head()"
      ],
      "execution_count": 0,
      "outputs": [
        {
          "output_type": "execute_result",
          "data": {
            "text/html": [
              "<div>\n",
              "<style scoped>\n",
              "    .dataframe tbody tr th:only-of-type {\n",
              "        vertical-align: middle;\n",
              "    }\n",
              "\n",
              "    .dataframe tbody tr th {\n",
              "        vertical-align: top;\n",
              "    }\n",
              "\n",
              "    .dataframe thead th {\n",
              "        text-align: right;\n",
              "    }\n",
              "</style>\n",
              "<table border=\"1\" class=\"dataframe\">\n",
              "  <thead>\n",
              "    <tr style=\"text-align: right;\">\n",
              "      <th></th>\n",
              "      <th>Size</th>\n",
              "      <th>Time</th>\n",
              "    </tr>\n",
              "  </thead>\n",
              "  <tbody>\n",
              "    <tr>\n",
              "      <th>0</th>\n",
              "      <td>1954367</td>\n",
              "      <td>0.152648</td>\n",
              "    </tr>\n",
              "    <tr>\n",
              "      <th>1</th>\n",
              "      <td>3734185</td>\n",
              "      <td>0.298548</td>\n",
              "    </tr>\n",
              "    <tr>\n",
              "      <th>2</th>\n",
              "      <td>5839301</td>\n",
              "      <td>0.460480</td>\n",
              "    </tr>\n",
              "    <tr>\n",
              "      <th>3</th>\n",
              "      <td>6343427</td>\n",
              "      <td>0.527977</td>\n",
              "    </tr>\n",
              "    <tr>\n",
              "      <th>4</th>\n",
              "      <td>1355574</td>\n",
              "      <td>0.098012</td>\n",
              "    </tr>\n",
              "  </tbody>\n",
              "</table>\n",
              "</div>"
            ],
            "text/plain": [
              "      Size      Time\n",
              "0  1954367  0.152648\n",
              "1  3734185  0.298548\n",
              "2  5839301  0.460480\n",
              "3  6343427  0.527977\n",
              "4  1355574  0.098012"
            ]
          },
          "metadata": {
            "tags": []
          },
          "execution_count": 4
        }
      ]
    },
    {
      "cell_type": "markdown",
      "metadata": {
        "id": "sxKowS88vXID",
        "colab_type": "text"
      },
      "source": [
        "Bảng thống kê dataset ta đưa vào"
      ]
    },
    {
      "cell_type": "code",
      "metadata": {
        "id": "nf1dKx8atvOn",
        "colab_type": "code",
        "outputId": "689d8f34-da65-456d-889e-a92ba3d4b03f",
        "colab": {
          "base_uri": "https://localhost:8080/",
          "height": 284
        }
      },
      "source": [
        "dataset.describe()"
      ],
      "execution_count": 0,
      "outputs": [
        {
          "output_type": "execute_result",
          "data": {
            "text/html": [
              "<div>\n",
              "<style scoped>\n",
              "    .dataframe tbody tr th:only-of-type {\n",
              "        vertical-align: middle;\n",
              "    }\n",
              "\n",
              "    .dataframe tbody tr th {\n",
              "        vertical-align: top;\n",
              "    }\n",
              "\n",
              "    .dataframe thead th {\n",
              "        text-align: right;\n",
              "    }\n",
              "</style>\n",
              "<table border=\"1\" class=\"dataframe\">\n",
              "  <thead>\n",
              "    <tr style=\"text-align: right;\">\n",
              "      <th></th>\n",
              "      <th>Size</th>\n",
              "      <th>Time</th>\n",
              "    </tr>\n",
              "  </thead>\n",
              "  <tbody>\n",
              "    <tr>\n",
              "      <th>count</th>\n",
              "      <td>7.111400e+04</td>\n",
              "      <td>71114.000000</td>\n",
              "    </tr>\n",
              "    <tr>\n",
              "      <th>mean</th>\n",
              "      <td>4.998751e+06</td>\n",
              "      <td>0.406783</td>\n",
              "    </tr>\n",
              "    <tr>\n",
              "      <th>std</th>\n",
              "      <td>2.882636e+06</td>\n",
              "      <td>0.244041</td>\n",
              "    </tr>\n",
              "    <tr>\n",
              "      <th>min</th>\n",
              "      <td>2.550000e+02</td>\n",
              "      <td>0.000009</td>\n",
              "    </tr>\n",
              "    <tr>\n",
              "      <th>25%</th>\n",
              "      <td>2.496500e+06</td>\n",
              "      <td>0.192745</td>\n",
              "    </tr>\n",
              "    <tr>\n",
              "      <th>50%</th>\n",
              "      <td>5.010070e+06</td>\n",
              "      <td>0.403409</td>\n",
              "    </tr>\n",
              "    <tr>\n",
              "      <th>75%</th>\n",
              "      <td>7.481820e+06</td>\n",
              "      <td>0.616159</td>\n",
              "    </tr>\n",
              "    <tr>\n",
              "      <th>max</th>\n",
              "      <td>9.999882e+06</td>\n",
              "      <td>0.983776</td>\n",
              "    </tr>\n",
              "  </tbody>\n",
              "</table>\n",
              "</div>"
            ],
            "text/plain": [
              "               Size          Time\n",
              "count  7.111400e+04  71114.000000\n",
              "mean   4.998751e+06      0.406783\n",
              "std    2.882636e+06      0.244041\n",
              "min    2.550000e+02      0.000009\n",
              "25%    2.496500e+06      0.192745\n",
              "50%    5.010070e+06      0.403409\n",
              "75%    7.481820e+06      0.616159\n",
              "max    9.999882e+06      0.983776"
            ]
          },
          "metadata": {
            "tags": []
          },
          "execution_count": 5
        }
      ]
    },
    {
      "cell_type": "code",
      "metadata": {
        "id": "-sCJ1VtVvb0V",
        "colab_type": "code",
        "colab": {}
      },
      "source": [
        "Biểu diễn các điểm là mối liên hệ giữa 2 feature Size và Time (BIỂU ĐỒ)"
      ],
      "execution_count": 0,
      "outputs": []
    },
    {
      "cell_type": "code",
      "metadata": {
        "id": "pWECjncztxD4",
        "colab_type": "code",
        "outputId": "3de76d56-c935-4ac0-aaa2-2f9384ec4746",
        "colab": {
          "base_uri": "https://localhost:8080/",
          "height": 295
        }
      },
      "source": [
        "dataset.plot (x = 'Size', y = 'Time', style = 'o')\n",
        "plt.title ( 'Size and Time')   \n",
        "plt.xlabel ( 'Size')   \n",
        "plt.ylabel ( 'Time') \n",
        "plt.show()"
      ],
      "execution_count": 0,
      "outputs": [
        {
          "output_type": "display_data",
          "data": {
            "image/png": "[encoded data removed]",
            "text/plain": [
              "<Figure size 432x288 with 1 Axes>"
            ]
          },
          "metadata": {
            "tags": [],
            "needs_background": "light"
          }
        }
      ]
    },
    {
      "cell_type": "markdown",
      "metadata": {
        "id": "tXoi6OjUvouz",
        "colab_type": "text"
      },
      "source": [
        " đưa 2 feature Size và Time vào các biến X và y (đã được biến thàng dạng vector 1 chiều)"
      ]
    },
    {
      "cell_type": "code",
      "metadata": {
        "id": "mBRcpauStzmk",
        "colab_type": "code",
        "colab": {}
      },
      "source": [
        "X = dataset['Size'].values.reshape(-1,1)\n",
        "y = dataset['Time'].values.reshape(-1,1)"
      ],
      "execution_count": 0,
      "outputs": []
    },
    {
      "cell_type": "markdown",
      "metadata": {
        "id": "qA7Ze3Cpv2kV",
        "colab_type": "text"
      },
      "source": [
        "chia bộ dữ liệu thành 2 bộ, 80% cho training, 20% cho test"
      ]
    },
    {
      "cell_type": "code",
      "metadata": {
        "id": "c-NuUVcbt8jN",
        "colab_type": "code",
        "colab": {}
      },
      "source": [
        "X_train, X_test, y_train, y_test = train_test_split(X, y, test_size=0.2, random_state=0)"
      ],
      "execution_count": 0,
      "outputs": []
    },
    {
      "cell_type": "code",
      "metadata": {
        "id": "GTUQuyOZwAhm",
        "colab_type": "code",
        "colab": {}
      },
      "source": [
        "Chọn model là LinearRegression\n",
        "fit model"
      ],
      "execution_count": 0,
      "outputs": []
    },
    {
      "cell_type": "code",
      "metadata": {
        "id": "YESOTYODt-u1",
        "colab_type": "code",
        "outputId": "70d5e3c6-22ca-41c9-85e7-52ae19b444ec",
        "colab": {
          "base_uri": "https://localhost:8080/",
          "height": 34
        }
      },
      "source": [
        "regressor = LinearRegression(fit_intercept=True)  \n",
        "regressor.fit(X_train, y_train) #training the algorithm"
      ],
      "execution_count": 0,
      "outputs": [
        {
          "output_type": "execute_result",
          "data": {
            "text/plain": [
              "LinearRegression(copy_X=True, fit_intercept=True, n_jobs=None, normalize=False)"
            ]
          },
          "metadata": {
            "tags": []
          },
          "execution_count": 10
        }
      ]
    },
    {
      "cell_type": "code",
      "metadata": {
        "id": "-xHZXKgTwH0t",
        "colab_type": "code",
        "colab": {}
      },
      "source": [
        "predict dữ liệu"
      ],
      "execution_count": 0,
      "outputs": []
    },
    {
      "cell_type": "code",
      "metadata": {
        "id": "dvpbom1nuCpR",
        "colab_type": "code",
        "colab": {}
      },
      "source": [
        "y_pred = regressor.predict(X_test)"
      ],
      "execution_count": 0,
      "outputs": []
    },
    {
      "cell_type": "code",
      "metadata": {
        "id": "-Oa7RjFGwKQ1",
        "colab_type": "code",
        "colab": {}
      },
      "source": [
        "Bảng hai giá trị thực và giá trị đã dự đoán"
      ],
      "execution_count": 0,
      "outputs": []
    },
    {
      "cell_type": "code",
      "metadata": {
        "id": "k0d7FqP4uEvU",
        "colab_type": "code",
        "outputId": "460ef525-2ddb-4ba3-e1dd-79db6a740658",
        "colab": {
          "base_uri": "https://localhost:8080/",
          "height": 402
        }
      },
      "source": [
        "df = pd.DataFrame({'Actual': y_test.flatten(), 'Predicted': y_pred.flatten()})\n",
        "df"
      ],
      "execution_count": 0,
      "outputs": [
        {
          "output_type": "execute_result",
          "data": {
            "text/html": [
              "<div>\n",
              "<style scoped>\n",
              "    .dataframe tbody tr th:only-of-type {\n",
              "        vertical-align: middle;\n",
              "    }\n",
              "\n",
              "    .dataframe tbody tr th {\n",
              "        vertical-align: top;\n",
              "    }\n",
              "\n",
              "    .dataframe thead th {\n",
              "        text-align: right;\n",
              "    }\n",
              "</style>\n",
              "<table border=\"1\" class=\"dataframe\">\n",
              "  <thead>\n",
              "    <tr style=\"text-align: right;\">\n",
              "      <th></th>\n",
              "      <th>Actual</th>\n",
              "      <th>Predicted</th>\n",
              "    </tr>\n",
              "  </thead>\n",
              "  <tbody>\n",
              "    <tr>\n",
              "      <th>0</th>\n",
              "      <td>0.259719</td>\n",
              "      <td>0.265724</td>\n",
              "    </tr>\n",
              "    <tr>\n",
              "      <th>1</th>\n",
              "      <td>0.205267</td>\n",
              "      <td>0.207193</td>\n",
              "    </tr>\n",
              "    <tr>\n",
              "      <th>2</th>\n",
              "      <td>0.187116</td>\n",
              "      <td>0.187720</td>\n",
              "    </tr>\n",
              "    <tr>\n",
              "      <th>3</th>\n",
              "      <td>0.121959</td>\n",
              "      <td>0.127391</td>\n",
              "    </tr>\n",
              "    <tr>\n",
              "      <th>4</th>\n",
              "      <td>0.180851</td>\n",
              "      <td>0.189075</td>\n",
              "    </tr>\n",
              "    <tr>\n",
              "      <th>...</th>\n",
              "      <td>...</td>\n",
              "      <td>...</td>\n",
              "    </tr>\n",
              "    <tr>\n",
              "      <th>14218</th>\n",
              "      <td>0.593030</td>\n",
              "      <td>0.613575</td>\n",
              "    </tr>\n",
              "    <tr>\n",
              "      <th>14219</th>\n",
              "      <td>0.606656</td>\n",
              "      <td>0.600485</td>\n",
              "    </tr>\n",
              "    <tr>\n",
              "      <th>14220</th>\n",
              "      <td>0.354746</td>\n",
              "      <td>0.361303</td>\n",
              "    </tr>\n",
              "    <tr>\n",
              "      <th>14221</th>\n",
              "      <td>0.070530</td>\n",
              "      <td>0.064454</td>\n",
              "    </tr>\n",
              "    <tr>\n",
              "      <th>14222</th>\n",
              "      <td>0.321381</td>\n",
              "      <td>0.334407</td>\n",
              "    </tr>\n",
              "  </tbody>\n",
              "</table>\n",
              "<p>14223 rows × 2 columns</p>\n",
              "</div>"
            ],
            "text/plain": [
              "         Actual  Predicted\n",
              "0      0.259719   0.265724\n",
              "1      0.205267   0.207193\n",
              "2      0.187116   0.187720\n",
              "3      0.121959   0.127391\n",
              "4      0.180851   0.189075\n",
              "...         ...        ...\n",
              "14218  0.593030   0.613575\n",
              "14219  0.606656   0.600485\n",
              "14220  0.354746   0.361303\n",
              "14221  0.070530   0.064454\n",
              "14222  0.321381   0.334407\n",
              "\n",
              "[14223 rows x 2 columns]"
            ]
          },
          "metadata": {
            "tags": []
          },
          "execution_count": 12
        }
      ]
    },
    {
      "cell_type": "markdown",
      "metadata": {
        "id": "zRnejrnDwPi2",
        "colab_type": "text"
      },
      "source": [
        "Biểu đồ biễu diển 2 giá trị thực sự và dự đoán"
      ]
    },
    {
      "cell_type": "code",
      "metadata": {
        "id": "u4Z7fW3HuHZA",
        "colab_type": "code",
        "outputId": "200c09ae-83cb-45cb-ac34-1c3936ba0020",
        "colab": {
          "base_uri": "https://localhost:8080/",
          "height": 594
        }
      },
      "source": [
        "df1 = df.head(25)\n",
        "df1.plot(kind='bar',figsize=(16,10))\n",
        "plt.grid(which='major', linestyle='-', linewidth='0.5', color='green')\n",
        "plt.grid(which='minor', linestyle=':', linewidth='0.5', color='black')\n",
        "plt.show()"
      ],
      "execution_count": 0,
      "outputs": [
        {
          "output_type": "display_data",
          "data": {
            "image/png": "[encoded data removed]",
            "text/plain": [
              "<Figure size 1152x720 with 1 Axes>"
            ]
          },
          "metadata": {
            "tags": [],
            "needs_background": "light"
          }
        }
      ]
    },
    {
      "cell_type": "markdown",
      "metadata": {
        "id": "wZLNLH5QwWjP",
        "colab_type": "text"
      },
      "source": [
        "In ra biểu đồ hàm ánh xạ trên biểu đồ Size and Time"
      ]
    },
    {
      "cell_type": "code",
      "metadata": {
        "id": "yItyhYYtuJ6D",
        "colab_type": "code",
        "outputId": "b416ca64-0c41-4ea1-9103-97701b01fe64",
        "colab": {
          "base_uri": "https://localhost:8080/",
          "height": 278
        }
      },
      "source": [
        "plt.scatter(X_test, y_test,  color='gray')\n",
        "plt.plot(X_test, y_pred, color='red', linewidth=2)\n",
        "plt.show()"
      ],
      "execution_count": 0,
      "outputs": [
        {
          "output_type": "display_data",
          "data": {
            "image/png": "[encoded data removed]",
            "text/plain": [
              "<Figure size 432x288 with 1 Axes>"
            ]
          },
          "metadata": {
            "tags": [],
            "needs_background": "light"
          }
        }
      ]
    },
    {
      "cell_type": "markdown",
      "metadata": {
        "id": "a2dI-bfRwkAF",
        "colab_type": "text"
      },
      "source": [
        "In ra:\n",
        "dòng 1 MSQ: lỗi bình phương góc\n",
        ",dòng 2 : độ chính xác trong huấn luyện train\n",
        ",dòng 3 : độ chính xác trong huấn luyện test\n",
        "\n",
        "\n"
      ]
    },
    {
      "cell_type": "code",
      "metadata": {
        "id": "bltALjdVuNC3",
        "colab_type": "code",
        "outputId": "3d805182-b3e3-476e-cc0a-9e91b12648b7",
        "colab": {
          "base_uri": "https://localhost:8080/",
          "height": 67
        }
      },
      "source": [
        "import sklearn.metrics as metrics\n",
        "print('Mean Squared Error:', metrics.mean_squared_error(y_test, y_pred))  \n",
        "print(regressor.score(X_train,y_train))\n",
        "print(regressor.score(X_test,y_test))"
      ],
      "execution_count": 0,
      "outputs": [
        {
          "output_type": "stream",
          "text": [
            "Mean Squared Error: 0.00014061212855587003\n",
            "0.9975830192395551\n",
            "0.9976304073751913\n"
          ],
          "name": "stdout"
        }
      ]
    }
  ]
}