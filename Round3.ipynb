{
  "nbformat": 4,
  "nbformat_minor": 0,
  "metadata": {
    "colab": {
      "name": "Round3.ipynb",
      "provenance": [],
      "authorship_tag": "ABX9TyOqWr679JIv4TFRClPcAhfe",
      "include_colab_link": true
    },
    "kernelspec": {
      "name": "python3",
      "display_name": "Python 3"
    }
  },
  "cells": [
    {
      "cell_type": "markdown",
      "metadata": {
        "id": "view-in-github",
        "colab_type": "text"
      },
      "source": [
        "<a href=\"https://colab.research.google.com/github/Long-1234kfgkl/CS114.K21/blob/master/Round3.ipynb\" target=\"_parent\"><img src=\"https://colab.research.google.com/assets/colab-badge.svg\" alt=\"Open In Colab\"/></a>"
      ]
    },
    {
      "cell_type": "markdown",
      "metadata": {
        "id": "M6s4s5_ASZYo",
        "colab_type": "text"
      },
      "source": [
        "ROUND 2"
      ]
    },
    {
      "cell_type": "markdown",
      "metadata": {
        "id": "TPOlWl0tu84g",
        "colab_type": "text"
      },
      "source": [
        "import thư viện"
      ]
    },
    {
      "cell_type": "code",
      "metadata": {
        "id": "OhmTr0OjtS-z",
        "colab_type": "code",
        "outputId": "66f71206-37e3-4a4b-aabe-5a1916f4e006",
        "colab": {
          "base_uri": "https://localhost:8080/",
          "height": 70
        }
      },
      "source": [
        "import pandas as pd  \n",
        "import numpy as np  \n",
        "import matplotlib.pyplot as plt  \n",
        "import seaborn as seabornInstance \n",
        "from sklearn.model_selection import train_test_split \n",
        "from sklearn.linear_model import LinearRegression\n",
        "from sklearn import metrics\n",
        "%matplotlib inline"
      ],
      "execution_count": 2,
      "outputs": [
        {
          "output_type": "stream",
          "text": [
            "/usr/local/lib/python3.6/dist-packages/statsmodels/tools/_testing.py:19: FutureWarning: pandas.util.testing is deprecated. Use the functions in the public API at pandas.testing instead.\n",
            "  import pandas.util.testing as tm\n"
          ],
          "name": "stderr"
        }
      ]
    },
    {
      "cell_type": "markdown",
      "metadata": {
        "id": "Cem5ag81u2UD",
        "colab_type": "text"
      },
      "source": [
        "\n",
        "load data từ link \"http://cs.uit.edu.vn/data2.txt\"\n",
        "\n",
        "đặt 2 column đầu là Size and Time"
      ]
    },
    {
      "cell_type": "code",
      "metadata": {
        "id": "LgqMnlpdtb0p",
        "colab_type": "code",
        "colab": {}
      },
      "source": [
        "dataset = pd.read_csv(\"http://cs.uit.edu.vn/data2.txt\",sep=' ',delimiter=',')\n",
        "dataset.columns=[\"Size\",\"Time\"]"
      ],
      "execution_count": 0,
      "outputs": []
    },
    {
      "cell_type": "markdown",
      "metadata": {
        "id": "JuUSvKO1vMba",
        "colab_type": "text"
      },
      "source": [
        "in ra số cột và hàng của dataset"
      ]
    },
    {
      "cell_type": "code",
      "metadata": {
        "id": "xEpKDWmatmwy",
        "colab_type": "code",
        "outputId": "a9bbb19f-c6ef-412a-ce66-acd3dd7adad8",
        "colab": {
          "base_uri": "https://localhost:8080/",
          "height": 34
        }
      },
      "source": [
        "dataset.shape"
      ],
      "execution_count": 0,
      "outputs": [
        {
          "output_type": "execute_result",
          "data": {
            "text/plain": [
              "(71114, 2)"
            ]
          },
          "metadata": {
            "tags": []
          },
          "execution_count": 3
        }
      ]
    },
    {
      "cell_type": "markdown",
      "metadata": {
        "id": "XWbqVZvzvR9q",
        "colab_type": "text"
      },
      "source": [
        "In ra một số cặp data,label"
      ]
    },
    {
      "cell_type": "code",
      "metadata": {
        "id": "GG_rFfA2tr6k",
        "colab_type": "code",
        "outputId": "1d8aa265-1140-4bd7-f96a-8900451cedb6",
        "colab": {
          "base_uri": "https://localhost:8080/",
          "height": 195
        }
      },
      "source": [
        "dataset.head()"
      ],
      "execution_count": 0,
      "outputs": [
        {
          "output_type": "execute_result",
          "data": {
            "text/html": [
              "<div>\n",
              "<style scoped>\n",
              "    .dataframe tbody tr th:only-of-type {\n",
              "        vertical-align: middle;\n",
              "    }\n",
              "\n",
              "    .dataframe tbody tr th {\n",
              "        vertical-align: top;\n",
              "    }\n",
              "\n",
              "    .dataframe thead th {\n",
              "        text-align: right;\n",
              "    }\n",
              "</style>\n",
              "<table border=\"1\" class=\"dataframe\">\n",
              "  <thead>\n",
              "    <tr style=\"text-align: right;\">\n",
              "      <th></th>\n",
              "      <th>Size</th>\n",
              "      <th>Time</th>\n",
              "    </tr>\n",
              "  </thead>\n",
              "  <tbody>\n",
              "    <tr>\n",
              "      <th>0</th>\n",
              "      <td>1954367</td>\n",
              "      <td>0.152648</td>\n",
              "    </tr>\n",
              "    <tr>\n",
              "      <th>1</th>\n",
              "      <td>3734185</td>\n",
              "      <td>0.298548</td>\n",
              "    </tr>\n",
              "    <tr>\n",
              "      <th>2</th>\n",
              "      <td>5839301</td>\n",
              "      <td>0.460480</td>\n",
              "    </tr>\n",
              "    <tr>\n",
              "      <th>3</th>\n",
              "      <td>6343427</td>\n",
              "      <td>0.527977</td>\n",
              "    </tr>\n",
              "    <tr>\n",
              "      <th>4</th>\n",
              "      <td>1355574</td>\n",
              "      <td>0.098012</td>\n",
              "    </tr>\n",
              "  </tbody>\n",
              "</table>\n",
              "</div>"
            ],
            "text/plain": [
              "      Size      Time\n",
              "0  1954367  0.152648\n",
              "1  3734185  0.298548\n",
              "2  5839301  0.460480\n",
              "3  6343427  0.527977\n",
              "4  1355574  0.098012"
            ]
          },
          "metadata": {
            "tags": []
          },
          "execution_count": 4
        }
      ]
    },
    {
      "cell_type": "markdown",
      "metadata": {
        "id": "sxKowS88vXID",
        "colab_type": "text"
      },
      "source": [
        "In ra bảng thống kê dataset ta đưa vào"
      ]
    },
    {
      "cell_type": "code",
      "metadata": {
        "id": "nf1dKx8atvOn",
        "colab_type": "code",
        "outputId": "689d8f34-da65-456d-889e-a92ba3d4b03f",
        "colab": {
          "base_uri": "https://localhost:8080/",
          "height": 284
        }
      },
      "source": [
        "dataset.describe()"
      ],
      "execution_count": 0,
      "outputs": [
        {
          "output_type": "execute_result",
          "data": {
            "text/html": [
              "<div>\n",
              "<style scoped>\n",
              "    .dataframe tbody tr th:only-of-type {\n",
              "        vertical-align: middle;\n",
              "    }\n",
              "\n",
              "    .dataframe tbody tr th {\n",
              "        vertical-align: top;\n",
              "    }\n",
              "\n",
              "    .dataframe thead th {\n",
              "        text-align: right;\n",
              "    }\n",
              "</style>\n",
              "<table border=\"1\" class=\"dataframe\">\n",
              "  <thead>\n",
              "    <tr style=\"text-align: right;\">\n",
              "      <th></th>\n",
              "      <th>Size</th>\n",
              "      <th>Time</th>\n",
              "    </tr>\n",
              "  </thead>\n",
              "  <tbody>\n",
              "    <tr>\n",
              "      <th>count</th>\n",
              "      <td>7.111400e+04</td>\n",
              "      <td>71114.000000</td>\n",
              "    </tr>\n",
              "    <tr>\n",
              "      <th>mean</th>\n",
              "      <td>4.998751e+06</td>\n",
              "      <td>0.406783</td>\n",
              "    </tr>\n",
              "    <tr>\n",
              "      <th>std</th>\n",
              "      <td>2.882636e+06</td>\n",
              "      <td>0.244041</td>\n",
              "    </tr>\n",
              "    <tr>\n",
              "      <th>min</th>\n",
              "      <td>2.550000e+02</td>\n",
              "      <td>0.000009</td>\n",
              "    </tr>\n",
              "    <tr>\n",
              "      <th>25%</th>\n",
              "      <td>2.496500e+06</td>\n",
              "      <td>0.192745</td>\n",
              "    </tr>\n",
              "    <tr>\n",
              "      <th>50%</th>\n",
              "      <td>5.010070e+06</td>\n",
              "      <td>0.403409</td>\n",
              "    </tr>\n",
              "    <tr>\n",
              "      <th>75%</th>\n",
              "      <td>7.481820e+06</td>\n",
              "      <td>0.616159</td>\n",
              "    </tr>\n",
              "    <tr>\n",
              "      <th>max</th>\n",
              "      <td>9.999882e+06</td>\n",
              "      <td>0.983776</td>\n",
              "    </tr>\n",
              "  </tbody>\n",
              "</table>\n",
              "</div>"
            ],
            "text/plain": [
              "               Size          Time\n",
              "count  7.111400e+04  71114.000000\n",
              "mean   4.998751e+06      0.406783\n",
              "std    2.882636e+06      0.244041\n",
              "min    2.550000e+02      0.000009\n",
              "25%    2.496500e+06      0.192745\n",
              "50%    5.010070e+06      0.403409\n",
              "75%    7.481820e+06      0.616159\n",
              "max    9.999882e+06      0.983776"
            ]
          },
          "metadata": {
            "tags": []
          },
          "execution_count": 5
        }
      ]
    },
    {
      "cell_type": "markdown",
      "metadata": {
        "id": "5A_TU0U_RVVx",
        "colab_type": "text"
      },
      "source": [
        "Biểu diễn các điểm là mối liên hệ giữa 2 feature Size và Time (BIỂU ĐỒ)"
      ]
    },
    {
      "cell_type": "code",
      "metadata": {
        "id": "pWECjncztxD4",
        "colab_type": "code",
        "outputId": "3de76d56-c935-4ac0-aaa2-2f9384ec4746",
        "colab": {
          "base_uri": "https://localhost:8080/",
          "height": 295
        }
      },
      "source": [
        "dataset.plot (x = 'Size', y = 'Time', style = 'o')\n",
        "plt.title ( 'Size and Time')   \n",
        "plt.xlabel ( 'Size')   \n",
        "plt.ylabel ( 'Time') \n",
        "plt.show()"
      ],
      "execution_count": 0,
      "outputs": [
        {
          "output_type": "display_data",
          "data": {
            "image/png": "[encoded data removed]",
            "text/plain": [
              "<Figure size 432x288 with 1 Axes>"
            ]
          },
          "metadata": {
            "tags": [],
            "needs_background": "light"
          }
        }
      ]
    },
    {
      "cell_type": "markdown",
      "metadata": {
        "id": "tXoi6OjUvouz",
        "colab_type": "text"
      },
      "source": [
        " đưa 2 feature Size và Time vào các biến X và y (đã được biến thàng dạng vector 1 chiều)"
      ]
    },
    {
      "cell_type": "code",
      "metadata": {
        "id": "mBRcpauStzmk",
        "colab_type": "code",
        "colab": {}
      },
      "source": [
        "X = dataset['Size'].values.reshape(-1,1)\n",
        "y = dataset['Time'].values.reshape(-1,1)"
      ],
      "execution_count": 0,
      "outputs": []
    },
    {
      "cell_type": "markdown",
      "metadata": {
        "id": "qA7Ze3Cpv2kV",
        "colab_type": "text"
      },
      "source": [
        "chia bộ dữ liệu thành 2 bộ, 80% cho training, 20% cho test"
      ]
    },
    {
      "cell_type": "code",
      "metadata": {
        "id": "c-NuUVcbt8jN",
        "colab_type": "code",
        "colab": {}
      },
      "source": [
        "X_train, X_test, y_train, y_test = train_test_split(X, y, test_size=0.2, random_state=0)"
      ],
      "execution_count": 0,
      "outputs": []
    },
    {
      "cell_type": "markdown",
      "metadata": {
        "id": "ikPBkO8sQVcj",
        "colab_type": "text"
      },
      "source": [
        "Chọn model là LinearRegression\n",
        "\n",
        "fit model"
      ]
    },
    {
      "cell_type": "code",
      "metadata": {
        "id": "YESOTYODt-u1",
        "colab_type": "code",
        "outputId": "70d5e3c6-22ca-41c9-85e7-52ae19b444ec",
        "colab": {
          "base_uri": "https://localhost:8080/",
          "height": 34
        }
      },
      "source": [
        "regressor = LinearRegression(fit_intercept=True)  \n",
        "regressor.fit(X_train, y_train) #training the algorithm"
      ],
      "execution_count": 0,
      "outputs": [
        {
          "output_type": "execute_result",
          "data": {
            "text/plain": [
              "LinearRegression(copy_X=True, fit_intercept=True, n_jobs=None, normalize=False)"
            ]
          },
          "metadata": {
            "tags": []
          },
          "execution_count": 10
        }
      ]
    },
    {
      "cell_type": "markdown",
      "metadata": {
        "id": "u_iN0wt3Qd87",
        "colab_type": "text"
      },
      "source": [
        "predict dữ liệu"
      ]
    },
    {
      "cell_type": "code",
      "metadata": {
        "id": "dvpbom1nuCpR",
        "colab_type": "code",
        "colab": {}
      },
      "source": [
        "y_pred = regressor.predict(X_test)"
      ],
      "execution_count": 0,
      "outputs": []
    },
    {
      "cell_type": "markdown",
      "metadata": {
        "id": "as8S3KOMQgTM",
        "colab_type": "text"
      },
      "source": [
        "Bảng hai giá trị thực và giá trị đã dự đoán"
      ]
    },
    {
      "cell_type": "code",
      "metadata": {
        "id": "k0d7FqP4uEvU",
        "colab_type": "code",
        "outputId": "460ef525-2ddb-4ba3-e1dd-79db6a740658",
        "colab": {
          "base_uri": "https://localhost:8080/",
          "height": 402
        }
      },
      "source": [
        "df = pd.DataFrame({'Actual': y_test.flatten(), 'Predicted': y_pred.flatten()})\n",
        "df"
      ],
      "execution_count": 0,
      "outputs": [
        {
          "output_type": "execute_result",
          "data": {
            "text/html": [
              "<div>\n",
              "<style scoped>\n",
              "    .dataframe tbody tr th:only-of-type {\n",
              "        vertical-align: middle;\n",
              "    }\n",
              "\n",
              "    .dataframe tbody tr th {\n",
              "        vertical-align: top;\n",
              "    }\n",
              "\n",
              "    .dataframe thead th {\n",
              "        text-align: right;\n",
              "    }\n",
              "</style>\n",
              "<table border=\"1\" class=\"dataframe\">\n",
              "  <thead>\n",
              "    <tr style=\"text-align: right;\">\n",
              "      <th></th>\n",
              "      <th>Actual</th>\n",
              "      <th>Predicted</th>\n",
              "    </tr>\n",
              "  </thead>\n",
              "  <tbody>\n",
              "    <tr>\n",
              "      <th>0</th>\n",
              "      <td>0.259719</td>\n",
              "      <td>0.265724</td>\n",
              "    </tr>\n",
              "    <tr>\n",
              "      <th>1</th>\n",
              "      <td>0.205267</td>\n",
              "      <td>0.207193</td>\n",
              "    </tr>\n",
              "    <tr>\n",
              "      <th>2</th>\n",
              "      <td>0.187116</td>\n",
              "      <td>0.187720</td>\n",
              "    </tr>\n",
              "    <tr>\n",
              "      <th>3</th>\n",
              "      <td>0.121959</td>\n",
              "      <td>0.127391</td>\n",
              "    </tr>\n",
              "    <tr>\n",
              "      <th>4</th>\n",
              "      <td>0.180851</td>\n",
              "      <td>0.189075</td>\n",
              "    </tr>\n",
              "    <tr>\n",
              "      <th>...</th>\n",
              "      <td>...</td>\n",
              "      <td>...</td>\n",
              "    </tr>\n",
              "    <tr>\n",
              "      <th>14218</th>\n",
              "      <td>0.593030</td>\n",
              "      <td>0.613575</td>\n",
              "    </tr>\n",
              "    <tr>\n",
              "      <th>14219</th>\n",
              "      <td>0.606656</td>\n",
              "      <td>0.600485</td>\n",
              "    </tr>\n",
              "    <tr>\n",
              "      <th>14220</th>\n",
              "      <td>0.354746</td>\n",
              "      <td>0.361303</td>\n",
              "    </tr>\n",
              "    <tr>\n",
              "      <th>14221</th>\n",
              "      <td>0.070530</td>\n",
              "      <td>0.064454</td>\n",
              "    </tr>\n",
              "    <tr>\n",
              "      <th>14222</th>\n",
              "      <td>0.321381</td>\n",
              "      <td>0.334407</td>\n",
              "    </tr>\n",
              "  </tbody>\n",
              "</table>\n",
              "<p>14223 rows × 2 columns</p>\n",
              "</div>"
            ],
            "text/plain": [
              "         Actual  Predicted\n",
              "0      0.259719   0.265724\n",
              "1      0.205267   0.207193\n",
              "2      0.187116   0.187720\n",
              "3      0.121959   0.127391\n",
              "4      0.180851   0.189075\n",
              "...         ...        ...\n",
              "14218  0.593030   0.613575\n",
              "14219  0.606656   0.600485\n",
              "14220  0.354746   0.361303\n",
              "14221  0.070530   0.064454\n",
              "14222  0.321381   0.334407\n",
              "\n",
              "[14223 rows x 2 columns]"
            ]
          },
          "metadata": {
            "tags": []
          },
          "execution_count": 12
        }
      ]
    },
    {
      "cell_type": "markdown",
      "metadata": {
        "id": "zRnejrnDwPi2",
        "colab_type": "text"
      },
      "source": [
        "Biểu đồ biễu diển 2 giá trị thực sự và dự đoán"
      ]
    },
    {
      "cell_type": "code",
      "metadata": {
        "id": "u4Z7fW3HuHZA",
        "colab_type": "code",
        "outputId": "200c09ae-83cb-45cb-ac34-1c3936ba0020",
        "colab": {
          "base_uri": "https://localhost:8080/",
          "height": 594
        }
      },
      "source": [
        "df1 = df.head(25)\n",
        "df1.plot(kind='bar',figsize=(16,10))\n",
        "plt.grid(which='major', linestyle='-', linewidth='0.5', color='green')\n",
        "plt.grid(which='minor', linestyle=':', linewidth='0.5', color='black')\n",
        "plt.show()"
      ],
      "execution_count": 0,
      "outputs": [
        {
          "output_type": "display_data",
          "data": {
            "image/png": "[encoded data removed]",
            "text/plain": [
              "<Figure size 1152x720 with 1 Axes>"
            ]
          },
          "metadata": {
            "tags": [],
            "needs_background": "light"
          }
        }
      ]
    },
    {
      "cell_type": "markdown",
      "metadata": {
        "id": "wZLNLH5QwWjP",
        "colab_type": "text"
      },
      "source": [
        "In ra biểu đồ hàm ánh xạ trên biểu đồ Size and Time"
      ]
    },
    {
      "cell_type": "code",
      "metadata": {
        "id": "yItyhYYtuJ6D",
        "colab_type": "code",
        "outputId": "b416ca64-0c41-4ea1-9103-97701b01fe64",
        "colab": {
          "base_uri": "https://localhost:8080/",
          "height": 278
        }
      },
      "source": [
        "plt.scatter(X_test, y_test,  color='gray')\n",
        "plt.plot(X_test, y_pred, color='red', linewidth=2)\n",
        "plt.show()"
      ],
      "execution_count": 0,
      "outputs": [
        {
          "output_type": "display_data",
          "data": {
            "image/png": "[encoded data removed]",
            "text/plain": [
              "<Figure size 432x288 with 1 Axes>"
            ]
          },
          "metadata": {
            "tags": [],
            "needs_background": "light"
          }
        }
      ]
    },
    {
      "cell_type": "markdown",
      "metadata": {
        "id": "a2dI-bfRwkAF",
        "colab_type": "text"
      },
      "source": [
        "In ra:\n",
        "\n",
        "Dòng 1 MSE: lỗi bình phương góc\n",
        "\n",
        "Dòng 2 : độ chính xác của model trong huấn luyện train\n",
        "\n",
        "Dòng 3 : độ chính xác của model trong huấn luyện test\n",
        "\n",
        "\n"
      ]
    },
    {
      "cell_type": "code",
      "metadata": {
        "id": "bltALjdVuNC3",
        "colab_type": "code",
        "outputId": "3d805182-b3e3-476e-cc0a-9e91b12648b7",
        "colab": {
          "base_uri": "https://localhost:8080/",
          "height": 67
        }
      },
      "source": [
        "import sklearn.metrics as metrics\n",
        "print('Mean Squared Error:', metrics.mean_squared_error(y_test, y_pred))  \n",
        "print(regressor.score(X_train,y_train))\n",
        "print(regressor.score(X_test,y_test))"
      ],
      "execution_count": 0,
      "outputs": [
        {
          "output_type": "stream",
          "text": [
            "Mean Squared Error: 0.00014061212855587003\n",
            "0.9975830192395551\n",
            "0.9976304073751913\n"
          ],
          "name": "stdout"
        }
      ]
    },
    {
      "cell_type": "markdown",
      "metadata": {
        "id": "54gd1HKNMtxJ",
        "colab_type": "text"
      },
      "source": [
        "ROUND 3"
      ]
    },
    {
      "cell_type": "markdown",
      "metadata": {
        "id": "UlDdZ18p18Ew",
        "colab_type": "text"
      },
      "source": [
        "load data từ link\"http://cs.uit.edu.vn/data3.txt\"\n",
        "\n",
        "Đặt 2 column là Size và Time"
      ]
    },
    {
      "cell_type": "code",
      "metadata": {
        "id": "UYMzUjUNNDXn",
        "colab_type": "code",
        "colab": {}
      },
      "source": [
        "dataset = pd.read_csv(\"http://cs.uit.edu.vn/data3.txt\",sep=' ',delimiter=',')\n",
        "dataset.columns=[\"Size\",\"Time\"]"
      ],
      "execution_count": 0,
      "outputs": []
    },
    {
      "cell_type": "markdown",
      "metadata": {
        "colab_type": "text",
        "id": "-UkcsHBSNrFx"
      },
      "source": [
        "in ra số cột và hàng của dataset"
      ]
    },
    {
      "cell_type": "code",
      "metadata": {
        "id": "o9KMA9GNNuFt",
        "colab_type": "code",
        "colab": {
          "base_uri": "https://localhost:8080/",
          "height": 34
        },
        "outputId": "e6a124ce-5cfd-4c3b-b44f-ef04622f2478"
      },
      "source": [
        "dataset.shape"
      ],
      "execution_count": 4,
      "outputs": [
        {
          "output_type": "execute_result",
          "data": {
            "text/plain": [
              "(10589, 2)"
            ]
          },
          "metadata": {
            "tags": []
          },
          "execution_count": 4
        }
      ]
    },
    {
      "cell_type": "markdown",
      "metadata": {
        "colab_type": "text",
        "id": "vLkz5SHGN5_L"
      },
      "source": [
        "In ra một số cặp data,label"
      ]
    },
    {
      "cell_type": "code",
      "metadata": {
        "id": "ltoyFzrPN6g3",
        "colab_type": "code",
        "colab": {
          "base_uri": "https://localhost:8080/",
          "height": 195
        },
        "outputId": "a4a38085-c58a-4059-f6d9-8735d2f74de2"
      },
      "source": [
        "dataset.head()"
      ],
      "execution_count": 5,
      "outputs": [
        {
          "output_type": "execute_result",
          "data": {
            "text/html": [
              "<div>\n",
              "<style scoped>\n",
              "    .dataframe tbody tr th:only-of-type {\n",
              "        vertical-align: middle;\n",
              "    }\n",
              "\n",
              "    .dataframe tbody tr th {\n",
              "        vertical-align: top;\n",
              "    }\n",
              "\n",
              "    .dataframe thead th {\n",
              "        text-align: right;\n",
              "    }\n",
              "</style>\n",
              "<table border=\"1\" class=\"dataframe\">\n",
              "  <thead>\n",
              "    <tr style=\"text-align: right;\">\n",
              "      <th></th>\n",
              "      <th>Size</th>\n",
              "      <th>Time</th>\n",
              "    </tr>\n",
              "  </thead>\n",
              "  <tbody>\n",
              "    <tr>\n",
              "      <th>0</th>\n",
              "      <td>37395246</td>\n",
              "      <td>3.92089</td>\n",
              "    </tr>\n",
              "    <tr>\n",
              "      <th>1</th>\n",
              "      <td>36610827</td>\n",
              "      <td>3.21540</td>\n",
              "    </tr>\n",
              "    <tr>\n",
              "      <th>2</th>\n",
              "      <td>29555651</td>\n",
              "      <td>2.54506</td>\n",
              "    </tr>\n",
              "    <tr>\n",
              "      <th>3</th>\n",
              "      <td>25928216</td>\n",
              "      <td>2.21831</td>\n",
              "    </tr>\n",
              "    <tr>\n",
              "      <th>4</th>\n",
              "      <td>30423112</td>\n",
              "      <td>2.61376</td>\n",
              "    </tr>\n",
              "  </tbody>\n",
              "</table>\n",
              "</div>"
            ],
            "text/plain": [
              "       Size     Time\n",
              "0  37395246  3.92089\n",
              "1  36610827  3.21540\n",
              "2  29555651  2.54506\n",
              "3  25928216  2.21831\n",
              "4  30423112  2.61376"
            ]
          },
          "metadata": {
            "tags": []
          },
          "execution_count": 5
        }
      ]
    },
    {
      "cell_type": "markdown",
      "metadata": {
        "colab_type": "text",
        "id": "InqUU1MMODq-"
      },
      "source": [
        "In ra bảng thống kê dataset ta đưa vào"
      ]
    },
    {
      "cell_type": "code",
      "metadata": {
        "id": "vRfmw8EwOOAD",
        "colab_type": "code",
        "colab": {
          "base_uri": "https://localhost:8080/",
          "height": 284
        },
        "outputId": "045c295c-138a-4c5a-9221-0d9c2fa68b15"
      },
      "source": [
        "dataset.describe()"
      ],
      "execution_count": 6,
      "outputs": [
        {
          "output_type": "execute_result",
          "data": {
            "text/html": [
              "<div>\n",
              "<style scoped>\n",
              "    .dataframe tbody tr th:only-of-type {\n",
              "        vertical-align: middle;\n",
              "    }\n",
              "\n",
              "    .dataframe tbody tr th {\n",
              "        vertical-align: top;\n",
              "    }\n",
              "\n",
              "    .dataframe thead th {\n",
              "        text-align: right;\n",
              "    }\n",
              "</style>\n",
              "<table border=\"1\" class=\"dataframe\">\n",
              "  <thead>\n",
              "    <tr style=\"text-align: right;\">\n",
              "      <th></th>\n",
              "      <th>Size</th>\n",
              "      <th>Time</th>\n",
              "    </tr>\n",
              "  </thead>\n",
              "  <tbody>\n",
              "    <tr>\n",
              "      <th>count</th>\n",
              "      <td>1.058900e+04</td>\n",
              "      <td>10589.000000</td>\n",
              "    </tr>\n",
              "    <tr>\n",
              "      <th>mean</th>\n",
              "      <td>2.999203e+07</td>\n",
              "      <td>2.642672</td>\n",
              "    </tr>\n",
              "    <tr>\n",
              "      <th>std</th>\n",
              "      <td>5.759148e+06</td>\n",
              "      <td>0.537139</td>\n",
              "    </tr>\n",
              "    <tr>\n",
              "      <th>min</th>\n",
              "      <td>2.000026e+07</td>\n",
              "      <td>1.669640</td>\n",
              "    </tr>\n",
              "    <tr>\n",
              "      <th>25%</th>\n",
              "      <td>2.503760e+07</td>\n",
              "      <td>2.180550</td>\n",
              "    </tr>\n",
              "    <tr>\n",
              "      <th>50%</th>\n",
              "      <td>2.994401e+07</td>\n",
              "      <td>2.639820</td>\n",
              "    </tr>\n",
              "    <tr>\n",
              "      <th>75%</th>\n",
              "      <td>3.500653e+07</td>\n",
              "      <td>3.100140</td>\n",
              "    </tr>\n",
              "    <tr>\n",
              "      <th>max</th>\n",
              "      <td>3.999734e+07</td>\n",
              "      <td>4.287660</td>\n",
              "    </tr>\n",
              "  </tbody>\n",
              "</table>\n",
              "</div>"
            ],
            "text/plain": [
              "               Size          Time\n",
              "count  1.058900e+04  10589.000000\n",
              "mean   2.999203e+07      2.642672\n",
              "std    5.759148e+06      0.537139\n",
              "min    2.000026e+07      1.669640\n",
              "25%    2.503760e+07      2.180550\n",
              "50%    2.994401e+07      2.639820\n",
              "75%    3.500653e+07      3.100140\n",
              "max    3.999734e+07      4.287660"
            ]
          },
          "metadata": {
            "tags": []
          },
          "execution_count": 6
        }
      ]
    },
    {
      "cell_type": "markdown",
      "metadata": {
        "id": "Ut1B4zBoyxb1",
        "colab_type": "text"
      },
      "source": [
        "Biểu diễn các điểm là mối liên hệ giữa 2 feature Size và Time (BIỂU ĐỒ)"
      ]
    },
    {
      "cell_type": "code",
      "metadata": {
        "id": "LIqmyRyxOSMh",
        "colab_type": "code",
        "colab": {
          "base_uri": "https://localhost:8080/",
          "height": 295
        },
        "outputId": "d6fa6a59-f791-4ef8-962e-0a7ee4940fde"
      },
      "source": [
        "dataset.plot (x = 'Size', y = 'Time', style = 'o')\n",
        "plt.title ( 'Size and Time')   \n",
        "plt.xlabel ( 'Size')   \n",
        "plt.ylabel ( 'Time') \n",
        "plt.show()"
      ],
      "execution_count": 7,
      "outputs": [
        {
          "output_type": "display_data",
          "data": {
            "image/png": "[encoded data removed]",
            "text/plain": [
              "<Figure size 432x288 with 1 Axes>"
            ]
          },
          "metadata": {
            "tags": [],
            "needs_background": "light"
          }
        }
      ]
    },
    {
      "cell_type": "markdown",
      "metadata": {
        "colab_type": "text",
        "id": "GwGTWkRoP3RK"
      },
      "source": [
        " đưa 2 feature Size và Time vào các biến X và y (đã được biến thàng dạng vector 1 chiều)"
      ]
    },
    {
      "cell_type": "code",
      "metadata": {
        "id": "Bh0TsPfIPzqV",
        "colab_type": "code",
        "colab": {}
      },
      "source": [
        "X = dataset['Size'].values.reshape(-1,1)\n",
        "y = dataset['Time'].values.reshape(-1,1)"
      ],
      "execution_count": 0,
      "outputs": []
    },
    {
      "cell_type": "markdown",
      "metadata": {
        "colab_type": "text",
        "id": "xh4GseYGP-En"
      },
      "source": [
        "chia bộ dữ liệu thành 2 bộ, 80% cho training, 20% cho test"
      ]
    },
    {
      "cell_type": "code",
      "metadata": {
        "id": "LPNRwqqYP7tL",
        "colab_type": "code",
        "colab": {}
      },
      "source": [
        "X_train, X_test, y_train, y_test = train_test_split(X, y, test_size=0.2, random_state=0)"
      ],
      "execution_count": 0,
      "outputs": []
    },
    {
      "cell_type": "markdown",
      "metadata": {
        "id": "D7Gm_nRYRaUR",
        "colab_type": "text"
      },
      "source": [
        "Chọn model là LinearRegression\n",
        "\n",
        "Fit model"
      ]
    },
    {
      "cell_type": "code",
      "metadata": {
        "id": "C7mkRaUkQBbo",
        "colab_type": "code",
        "colab": {
          "base_uri": "https://localhost:8080/",
          "height": 34
        },
        "outputId": "61eb9313-1bef-4cff-cfb6-d2b39a1091fd"
      },
      "source": [
        "regressor = LinearRegression(fit_intercept=True)  \n",
        "regressor.fit(X_train, y_train) #training the algorithm"
      ],
      "execution_count": 10,
      "outputs": [
        {
          "output_type": "execute_result",
          "data": {
            "text/plain": [
              "LinearRegression(copy_X=True, fit_intercept=True, n_jobs=None, normalize=False)"
            ]
          },
          "metadata": {
            "tags": []
          },
          "execution_count": 10
        }
      ]
    },
    {
      "cell_type": "markdown",
      "metadata": {
        "id": "fq2eCpXoRhVL",
        "colab_type": "text"
      },
      "source": [
        "predict dữ liệu"
      ]
    },
    {
      "cell_type": "code",
      "metadata": {
        "id": "XWLpGqDIRmm5",
        "colab_type": "code",
        "colab": {}
      },
      "source": [
        "y_pred = regressor.predict(X_test)"
      ],
      "execution_count": 0,
      "outputs": []
    },
    {
      "cell_type": "markdown",
      "metadata": {
        "id": "IEvdn4VORnut",
        "colab_type": "text"
      },
      "source": [
        "Bảng hai giá trị thực và giá trị đã dự đoán"
      ]
    },
    {
      "cell_type": "code",
      "metadata": {
        "id": "-eNjeNC8Rror",
        "colab_type": "code",
        "colab": {
          "base_uri": "https://localhost:8080/",
          "height": 402
        },
        "outputId": "5a2a96f6-aae2-4e06-8be8-3b60ddbee7d4"
      },
      "source": [
        "df = pd.DataFrame({'Actual': y_test.flatten(), 'Predicted': y_pred.flatten()})\n",
        "df"
      ],
      "execution_count": 12,
      "outputs": [
        {
          "output_type": "execute_result",
          "data": {
            "text/html": [
              "<div>\n",
              "<style scoped>\n",
              "    .dataframe tbody tr th:only-of-type {\n",
              "        vertical-align: middle;\n",
              "    }\n",
              "\n",
              "    .dataframe tbody tr th {\n",
              "        vertical-align: top;\n",
              "    }\n",
              "\n",
              "    .dataframe thead th {\n",
              "        text-align: right;\n",
              "    }\n",
              "</style>\n",
              "<table border=\"1\" class=\"dataframe\">\n",
              "  <thead>\n",
              "    <tr style=\"text-align: right;\">\n",
              "      <th></th>\n",
              "      <th>Actual</th>\n",
              "      <th>Predicted</th>\n",
              "    </tr>\n",
              "  </thead>\n",
              "  <tbody>\n",
              "    <tr>\n",
              "      <th>0</th>\n",
              "      <td>2.39698</td>\n",
              "      <td>2.475410</td>\n",
              "    </tr>\n",
              "    <tr>\n",
              "      <th>1</th>\n",
              "      <td>2.66026</td>\n",
              "      <td>2.706579</td>\n",
              "    </tr>\n",
              "    <tr>\n",
              "      <th>2</th>\n",
              "      <td>2.75597</td>\n",
              "      <td>2.751995</td>\n",
              "    </tr>\n",
              "    <tr>\n",
              "      <th>3</th>\n",
              "      <td>2.90832</td>\n",
              "      <td>2.859758</td>\n",
              "    </tr>\n",
              "    <tr>\n",
              "      <th>4</th>\n",
              "      <td>1.94031</td>\n",
              "      <td>1.990079</td>\n",
              "    </tr>\n",
              "    <tr>\n",
              "      <th>...</th>\n",
              "      <td>...</td>\n",
              "      <td>...</td>\n",
              "    </tr>\n",
              "    <tr>\n",
              "      <th>2113</th>\n",
              "      <td>2.13180</td>\n",
              "      <td>2.136571</td>\n",
              "    </tr>\n",
              "    <tr>\n",
              "      <th>2114</th>\n",
              "      <td>2.19643</td>\n",
              "      <td>2.200919</td>\n",
              "    </tr>\n",
              "    <tr>\n",
              "      <th>2115</th>\n",
              "      <td>2.36696</td>\n",
              "      <td>2.440459</td>\n",
              "    </tr>\n",
              "    <tr>\n",
              "      <th>2116</th>\n",
              "      <td>2.46800</td>\n",
              "      <td>2.437054</td>\n",
              "    </tr>\n",
              "    <tr>\n",
              "      <th>2117</th>\n",
              "      <td>2.54412</td>\n",
              "      <td>2.566704</td>\n",
              "    </tr>\n",
              "  </tbody>\n",
              "</table>\n",
              "<p>2118 rows × 2 columns</p>\n",
              "</div>"
            ],
            "text/plain": [
              "       Actual  Predicted\n",
              "0     2.39698   2.475410\n",
              "1     2.66026   2.706579\n",
              "2     2.75597   2.751995\n",
              "3     2.90832   2.859758\n",
              "4     1.94031   1.990079\n",
              "...       ...        ...\n",
              "2113  2.13180   2.136571\n",
              "2114  2.19643   2.200919\n",
              "2115  2.36696   2.440459\n",
              "2116  2.46800   2.437054\n",
              "2117  2.54412   2.566704\n",
              "\n",
              "[2118 rows x 2 columns]"
            ]
          },
          "metadata": {
            "tags": []
          },
          "execution_count": 12
        }
      ]
    },
    {
      "cell_type": "markdown",
      "metadata": {
        "id": "he6uk7bvRyi5",
        "colab_type": "text"
      },
      "source": [
        "Biểu đồ biểu diễn 2 giá trị thực sự và dự đoán"
      ]
    },
    {
      "cell_type": "code",
      "metadata": {
        "id": "9FwcOMdFSKmO",
        "colab_type": "code",
        "colab": {
          "base_uri": "https://localhost:8080/",
          "height": 594
        },
        "outputId": "6fd5d658-3cc8-45e1-b9ad-8588156d8cc2"
      },
      "source": [
        "df1 = df.head(25)\n",
        "df1.plot(kind='bar',figsize=(16,10))\n",
        "plt.grid(which='major', linestyle='-', linewidth='0.5', color='green')\n",
        "plt.grid(which='minor', linestyle=':', linewidth='0.5', color='black')\n",
        "plt.show()"
      ],
      "execution_count": 13,
      "outputs": [
        {
          "output_type": "display_data",
          "data": {
            "image/png": "[encoded data removed]",
            "text/plain": [
              "<Figure size 1152x720 with 1 Axes>"
            ]
          },
          "metadata": {
            "tags": [],
            "needs_background": "light"
          }
        }
      ]
    },
    {
      "cell_type": "markdown",
      "metadata": {
        "id": "xhkDexV4Sm45",
        "colab_type": "text"
      },
      "source": [
        "In ra biểu đồ hàm ánh xạ trên biểu đồ Size and Time"
      ]
    },
    {
      "cell_type": "code",
      "metadata": {
        "id": "R_j4l7jkSrTd",
        "colab_type": "code",
        "colab": {
          "base_uri": "https://localhost:8080/",
          "height": 278
        },
        "outputId": "1ab0c18f-adad-4ee3-816f-ca918d339b10"
      },
      "source": [
        "plt.scatter(X_test, y_test,  color='gray')\n",
        "plt.plot(X_test, y_pred, color='red', linewidth=2)\n",
        "plt.show()"
      ],
      "execution_count": 14,
      "outputs": [
        {
          "output_type": "display_data",
          "data": {
            "image/png": "[encoded data removed]",
            "text/plain": [
              "<Figure size 432x288 with 1 Axes>"
            ]
          },
          "metadata": {
            "tags": [],
            "needs_background": "light"
          }
        }
      ]
    },
    {
      "cell_type": "markdown",
      "metadata": {
        "colab_type": "text",
        "id": "jAAwjI6uSw-l"
      },
      "source": [
        "In ra:\n",
        "\n",
        "dòng 1 MSE: lỗi bình phương góc\n",
        "\n",
        "dòng 2 : độ chính xác của model trong huấn luyện train\n",
        "\n",
        "dòng 3 : độ chính xác của model trong huấn luyện test\n",
        "\n",
        "\n"
      ]
    },
    {
      "cell_type": "code",
      "metadata": {
        "id": "IOAgfQFmS755",
        "colab_type": "code",
        "colab": {
          "base_uri": "https://localhost:8080/",
          "height": 67
        },
        "outputId": "3743df6b-de85-44de-cb6e-ddc063971bdf"
      },
      "source": [
        "import sklearn.metrics as metrics\n",
        "print('Mean Squared Error:', metrics.mean_squared_error(y_test, y_pred))  \n",
        "print(regressor.score(X_train,y_train))\n",
        "print(regressor.score(X_test,y_test))"
      ],
      "execution_count": 15,
      "outputs": [
        {
          "output_type": "stream",
          "text": [
            "Mean Squared Error: 0.003313862329617691\n",
            "0.9884041146952219\n",
            "0.9881646990079122\n"
          ],
          "name": "stdout"
        }
      ]
    },
    {
      "cell_type": "markdown",
      "metadata": {
        "colab_type": "text",
        "id": "giRJVTGNTBBA"
      },
      "source": [
        "-Kết quả model Round 3 tệ hơn model Round 2:\n",
        "MSE Round 2 ít hơn MSE Round 3 ~ 0.003174 (hàm rủi ro)\n",
        "\n",
        "Độ chính xác của model trong quá trình training data của Round 2 lớn hơn Round 3 ~ 0.009179\n",
        "\n",
        "\n",
        "Độ chính xác của model trong quá trình test data của Round 2 lớn hơn Round 3 ~ 0.000042\n"
      ]
    },
    {
      "cell_type": "markdown",
      "metadata": {
        "colab_type": "text",
        "id": "qXCVgJnRTEQj"
      },
      "source": [
        "-Lý do tệ hơn vì dataset round 3 ít hơn round 2 vì càng có nhiều data thì model càng được fit tốt hơn\n",
        "\n",
        "Data.shape của Round 2: (71114, 2)\n",
        "\n",
        "Data.shape của Round 3: (10589,2)\n"
      ]
    },
    {
      "cell_type": "markdown",
      "metadata": {
        "id": "_yJun39qTKGm",
        "colab_type": "text"
      },
      "source": [
        "MODEL MỚI: THÊM 2 FEATURE MỚI VÀO MODEL"
      ]
    },
    {
      "cell_type": "markdown",
      "metadata": {
        "colab_type": "text",
        "id": "j96RC15CTaTy"
      },
      "source": [
        "import thư viện"
      ]
    },
    {
      "cell_type": "code",
      "metadata": {
        "colab_type": "code",
        "outputId": "2075732d-6c52-4bba-f4c2-48de37ddcff5",
        "id": "8W-HQM29TaT4",
        "colab": {
          "base_uri": "https://localhost:8080/",
          "height": 70
        }
      },
      "source": [
        "import pandas as pd  \n",
        "import numpy as np  \n",
        "import matplotlib.pyplot as plt  \n",
        "import seaborn as seabornInstance \n",
        "from sklearn.model_selection import train_test_split \n",
        "from sklearn.linear_model import LinearRegression\n",
        "from sklearn import metrics\n",
        "%matplotlib inline"
      ],
      "execution_count": 0,
      "outputs": [
        {
          "output_type": "stream",
          "text": [
            "/usr/local/lib/python3.6/dist-packages/statsmodels/tools/_testing.py:19: FutureWarning: pandas.util.testing is deprecated. Use the functions in the public API at pandas.testing instead.\n",
            "  import pandas.util.testing as tm\n"
          ],
          "name": "stderr"
        }
      ]
    },
    {
      "cell_type": "markdown",
      "metadata": {
        "colab_type": "text",
        "id": "9fhaa_5ZTaT8"
      },
      "source": [
        "load data từ link\"http://cs.uit.edu.vn/data3.txt\"\n",
        "\n",
        "Đặt 2 column là Size và Time"
      ]
    },
    {
      "cell_type": "code",
      "metadata": {
        "colab_type": "code",
        "id": "ykuPkHCcTaT9",
        "colab": {}
      },
      "source": [
        "dataset = pd.read_csv(\"http://cs.uit.edu.vn/data3.txt\",sep=' ',delimiter=',')\n",
        "dataset.columns=[\"Size\",\"Time\"]"
      ],
      "execution_count": 0,
      "outputs": []
    },
    {
      "cell_type": "markdown",
      "metadata": {
        "id": "9WeoboKC71wS",
        "colab_type": "text"
      },
      "source": [
        "Thêm 2 feature Size ^2 và SizelogSize"
      ]
    },
    {
      "cell_type": "code",
      "metadata": {
        "id": "1XCeLZT82UVL",
        "colab_type": "code",
        "colab": {}
      },
      "source": [
        "import math\n",
        "df=pd.DataFrame(dataset)\n",
        "Size2=df['Size']**2\n",
        "Sizelog=[df['Size'][i]*math.log(df['Size'][i]) for i in range(len(dataset))]\n",
        "df['Size2']=Size2\n",
        "df['Sizelog']=Sizelog"
      ],
      "execution_count": 0,
      "outputs": []
    },
    {
      "cell_type": "markdown",
      "metadata": {
        "id": "dwH-xcv57zn7",
        "colab_type": "text"
      },
      "source": [
        "in ra số cột và hàng của dataset"
      ]
    },
    {
      "cell_type": "code",
      "metadata": {
        "colab_type": "code",
        "outputId": "21bf2944-87dd-428c-f72d-becffcb65387",
        "id": "kqRgLwikTaUB",
        "colab": {
          "base_uri": "https://localhost:8080/",
          "height": 34
        }
      },
      "source": [
        "dataset.shape"
      ],
      "execution_count": 0,
      "outputs": [
        {
          "output_type": "execute_result",
          "data": {
            "text/plain": [
              "(10589, 4)"
            ]
          },
          "metadata": {
            "tags": []
          },
          "execution_count": 19
        }
      ]
    },
    {
      "cell_type": "markdown",
      "metadata": {
        "colab_type": "text",
        "id": "SZEw9mn-TaUD"
      },
      "source": [
        "In ra một số cặp data,label"
      ]
    },
    {
      "cell_type": "code",
      "metadata": {
        "colab_type": "code",
        "outputId": "5a6609cb-36b4-4956-9287-11fa6b51ec41",
        "id": "DVAtefW5TaUD",
        "colab": {
          "base_uri": "https://localhost:8080/",
          "height": 195
        }
      },
      "source": [
        "dataset.head()"
      ],
      "execution_count": 0,
      "outputs": [
        {
          "output_type": "execute_result",
          "data": {
            "text/html": [
              "<div>\n",
              "<style scoped>\n",
              "    .dataframe tbody tr th:only-of-type {\n",
              "        vertical-align: middle;\n",
              "    }\n",
              "\n",
              "    .dataframe tbody tr th {\n",
              "        vertical-align: top;\n",
              "    }\n",
              "\n",
              "    .dataframe thead th {\n",
              "        text-align: right;\n",
              "    }\n",
              "</style>\n",
              "<table border=\"1\" class=\"dataframe\">\n",
              "  <thead>\n",
              "    <tr style=\"text-align: right;\">\n",
              "      <th></th>\n",
              "      <th>Size</th>\n",
              "      <th>Time</th>\n",
              "      <th>Size2</th>\n",
              "      <th>Sizelog</th>\n",
              "    </tr>\n",
              "  </thead>\n",
              "  <tbody>\n",
              "    <tr>\n",
              "      <th>0</th>\n",
              "      <td>37395246</td>\n",
              "      <td>3.92089</td>\n",
              "      <td>1398404423400516</td>\n",
              "      <td>6.520629e+08</td>\n",
              "    </tr>\n",
              "    <tr>\n",
              "      <th>1</th>\n",
              "      <td>36610827</td>\n",
              "      <td>3.21540</td>\n",
              "      <td>1340352653623929</td>\n",
              "      <td>6.376088e+08</td>\n",
              "    </tr>\n",
              "    <tr>\n",
              "      <th>2</th>\n",
              "      <td>29555651</td>\n",
              "      <td>2.54506</td>\n",
              "      <td>873536506033801</td>\n",
              "      <td>5.084100e+08</td>\n",
              "    </tr>\n",
              "    <tr>\n",
              "      <th>3</th>\n",
              "      <td>25928216</td>\n",
              "      <td>2.21831</td>\n",
              "      <td>672272384942656</td>\n",
              "      <td>4.426165e+08</td>\n",
              "    </tr>\n",
              "    <tr>\n",
              "      <th>4</th>\n",
              "      <td>30423112</td>\n",
              "      <td>2.61376</td>\n",
              "      <td>925565743764544</td>\n",
              "      <td>5.242119e+08</td>\n",
              "    </tr>\n",
              "  </tbody>\n",
              "</table>\n",
              "</div>"
            ],
            "text/plain": [
              "       Size     Time             Size2       Sizelog\n",
              "0  37395246  3.92089  1398404423400516  6.520629e+08\n",
              "1  36610827  3.21540  1340352653623929  6.376088e+08\n",
              "2  29555651  2.54506   873536506033801  5.084100e+08\n",
              "3  25928216  2.21831   672272384942656  4.426165e+08\n",
              "4  30423112  2.61376   925565743764544  5.242119e+08"
            ]
          },
          "metadata": {
            "tags": []
          },
          "execution_count": 20
        }
      ]
    },
    {
      "cell_type": "markdown",
      "metadata": {
        "colab_type": "text",
        "id": "3v5-bhv2TaUG"
      },
      "source": [
        "Bảng thống kê dataset ta đưa vào"
      ]
    },
    {
      "cell_type": "code",
      "metadata": {
        "colab_type": "code",
        "outputId": "0983608b-8987-4196-cccd-95cb980fd34d",
        "id": "yCp1_P49TaUH",
        "colab": {
          "base_uri": "https://localhost:8080/",
          "height": 284
        }
      },
      "source": [
        "dataset.describe()"
      ],
      "execution_count": 0,
      "outputs": [
        {
          "output_type": "execute_result",
          "data": {
            "text/html": [
              "<div>\n",
              "<style scoped>\n",
              "    .dataframe tbody tr th:only-of-type {\n",
              "        vertical-align: middle;\n",
              "    }\n",
              "\n",
              "    .dataframe tbody tr th {\n",
              "        vertical-align: top;\n",
              "    }\n",
              "\n",
              "    .dataframe thead th {\n",
              "        text-align: right;\n",
              "    }\n",
              "</style>\n",
              "<table border=\"1\" class=\"dataframe\">\n",
              "  <thead>\n",
              "    <tr style=\"text-align: right;\">\n",
              "      <th></th>\n",
              "      <th>Size</th>\n",
              "      <th>Time</th>\n",
              "      <th>Size2</th>\n",
              "      <th>Sizelog</th>\n",
              "    </tr>\n",
              "  </thead>\n",
              "  <tbody>\n",
              "    <tr>\n",
              "      <th>count</th>\n",
              "      <td>1.058900e+04</td>\n",
              "      <td>10589.000000</td>\n",
              "      <td>1.058900e+04</td>\n",
              "      <td>1.058900e+04</td>\n",
              "    </tr>\n",
              "    <tr>\n",
              "      <th>mean</th>\n",
              "      <td>2.999203e+07</td>\n",
              "      <td>2.642672</td>\n",
              "      <td>9.326867e+14</td>\n",
              "      <td>5.169152e+08</td>\n",
              "    </tr>\n",
              "    <tr>\n",
              "      <th>std</th>\n",
              "      <td>5.759148e+06</td>\n",
              "      <td>0.537139</td>\n",
              "      <td>3.468268e+14</td>\n",
              "      <td>1.048486e+08</td>\n",
              "    </tr>\n",
              "    <tr>\n",
              "      <th>min</th>\n",
              "      <td>2.000026e+07</td>\n",
              "      <td>1.669640</td>\n",
              "      <td>4.000106e+14</td>\n",
              "      <td>3.362296e+08</td>\n",
              "    </tr>\n",
              "    <tr>\n",
              "      <th>25%</th>\n",
              "      <td>2.503760e+07</td>\n",
              "      <td>2.180550</td>\n",
              "      <td>6.268812e+14</td>\n",
              "      <td>4.265377e+08</td>\n",
              "    </tr>\n",
              "    <tr>\n",
              "      <th>50%</th>\n",
              "      <td>2.994401e+07</td>\n",
              "      <td>2.639820</td>\n",
              "      <td>8.966436e+14</td>\n",
              "      <td>5.154813e+08</td>\n",
              "    </tr>\n",
              "    <tr>\n",
              "      <th>75%</th>\n",
              "      <td>3.500653e+07</td>\n",
              "      <td>3.100140</td>\n",
              "      <td>1.225457e+15</td>\n",
              "      <td>6.081000e+08</td>\n",
              "    </tr>\n",
              "    <tr>\n",
              "      <th>max</th>\n",
              "      <td>3.999734e+07</td>\n",
              "      <td>4.287660</td>\n",
              "      <td>1.599787e+15</td>\n",
              "      <td>7.001264e+08</td>\n",
              "    </tr>\n",
              "  </tbody>\n",
              "</table>\n",
              "</div>"
            ],
            "text/plain": [
              "               Size          Time         Size2       Sizelog\n",
              "count  1.058900e+04  10589.000000  1.058900e+04  1.058900e+04\n",
              "mean   2.999203e+07      2.642672  9.326867e+14  5.169152e+08\n",
              "std    5.759148e+06      0.537139  3.468268e+14  1.048486e+08\n",
              "min    2.000026e+07      1.669640  4.000106e+14  3.362296e+08\n",
              "25%    2.503760e+07      2.180550  6.268812e+14  4.265377e+08\n",
              "50%    2.994401e+07      2.639820  8.966436e+14  5.154813e+08\n",
              "75%    3.500653e+07      3.100140  1.225457e+15  6.081000e+08\n",
              "max    3.999734e+07      4.287660  1.599787e+15  7.001264e+08"
            ]
          },
          "metadata": {
            "tags": []
          },
          "execution_count": 21
        }
      ]
    },
    {
      "cell_type": "markdown",
      "metadata": {
        "colab_type": "text",
        "id": "aJZZ_dUITaUI"
      },
      "source": [
        "Biểu diễn các điểm là mối liên hệ giữa 2 feature Size và Time (BIỂU ĐỒ)"
      ]
    },
    {
      "cell_type": "code",
      "metadata": {
        "colab_type": "code",
        "outputId": "455538be-7ee7-48b0-9f02-846a2a1d5265",
        "id": "9anTqfIlTaUJ",
        "colab": {
          "base_uri": "https://localhost:8080/",
          "height": 295
        }
      },
      "source": [
        "dataset.plot (x = 'Size', y = 'Time', style = 'o')\n",
        "plt.title ( 'Size and Time')   \n",
        "plt.xlabel ( 'Size')   \n",
        "plt.ylabel ( 'Time') \n",
        "plt.show()"
      ],
      "execution_count": 0,
      "outputs": [
        {
          "output_type": "display_data",
          "data": {
            "image/png": "[encoded data removed]",
            "text/plain": [
              "<Figure size 432x288 with 1 Axes>"
            ]
          },
          "metadata": {
            "tags": [],
            "needs_background": "light"
          }
        }
      ]
    },
    {
      "cell_type": "markdown",
      "metadata": {
        "colab_type": "text",
        "id": "jQGJ1ksiTaUK"
      },
      "source": [
        " đưa các feature Size, Size2, Sizelog và Time vào các biến X và y (đã được biến thàng dạng vector 1 chiều)"
      ]
    },
    {
      "cell_type": "code",
      "metadata": {
        "colab_type": "code",
        "id": "r60hty22TaUL",
        "colab": {}
      },
      "source": [
        "X = dataset[['Size','Size2','Sizelog']]\n",
        "y = dataset['Time'].values.reshape(-1,1)"
      ],
      "execution_count": 0,
      "outputs": []
    },
    {
      "cell_type": "markdown",
      "metadata": {
        "colab_type": "text",
        "id": "QRZk2Q7ZTaUM"
      },
      "source": [
        "chia bộ dữ liệu thành 2 bộ, 80% cho training, 20% cho test"
      ]
    },
    {
      "cell_type": "code",
      "metadata": {
        "colab_type": "code",
        "id": "M_lES8jCTaUN",
        "colab": {}
      },
      "source": [
        "X_train, X_test, y_train, y_test = train_test_split(X, y, test_size=0.2, random_state=0)"
      ],
      "execution_count": 0,
      "outputs": []
    },
    {
      "cell_type": "markdown",
      "metadata": {
        "id": "4tuFnp182mUi",
        "colab_type": "text"
      },
      "source": [
        "Chọn model là LinearRegression\n",
        "Fit model"
      ]
    },
    {
      "cell_type": "code",
      "metadata": {
        "colab_type": "code",
        "outputId": "a10a42ed-1a7f-4bd1-d4f1-47d33807928e",
        "id": "B-fMNfQ2TaUP",
        "colab": {
          "base_uri": "https://localhost:8080/",
          "height": 34
        }
      },
      "source": [
        "regressor = LinearRegression(fit_intercept=True)  \n",
        "regressor.fit(X_train, y_train) #training the algorithm"
      ],
      "execution_count": 0,
      "outputs": [
        {
          "output_type": "execute_result",
          "data": {
            "text/plain": [
              "LinearRegression(copy_X=True, fit_intercept=True, n_jobs=None, normalize=False)"
            ]
          },
          "metadata": {
            "tags": []
          },
          "execution_count": 24
        }
      ]
    },
    {
      "cell_type": "markdown",
      "metadata": {
        "id": "FfGuFIVyTtBe",
        "colab_type": "text"
      },
      "source": [
        "predict dữ liệu"
      ]
    },
    {
      "cell_type": "code",
      "metadata": {
        "colab_type": "code",
        "id": "4GBWVVQVTaUT",
        "colab": {}
      },
      "source": [
        "y_pred = regressor.predict(X_test)"
      ],
      "execution_count": 0,
      "outputs": []
    },
    {
      "cell_type": "markdown",
      "metadata": {
        "id": "-cNA_ZoDTvfB",
        "colab_type": "text"
      },
      "source": [
        "Bảng hai giá trị thực và giá trị đã dự đoán"
      ]
    },
    {
      "cell_type": "code",
      "metadata": {
        "colab_type": "code",
        "outputId": "60922cde-fd17-4a13-bcb5-2eb93ce2cb7e",
        "id": "ZPg55DeoTaUX",
        "colab": {
          "base_uri": "https://localhost:8080/",
          "height": 402
        }
      },
      "source": [
        "df = pd.DataFrame({'Actual': y_test.flatten(), 'Predicted': y_pred.flatten()})\n",
        "df"
      ],
      "execution_count": 0,
      "outputs": [
        {
          "output_type": "execute_result",
          "data": {
            "text/html": [
              "<div>\n",
              "<style scoped>\n",
              "    .dataframe tbody tr th:only-of-type {\n",
              "        vertical-align: middle;\n",
              "    }\n",
              "\n",
              "    .dataframe tbody tr th {\n",
              "        vertical-align: top;\n",
              "    }\n",
              "\n",
              "    .dataframe thead th {\n",
              "        text-align: right;\n",
              "    }\n",
              "</style>\n",
              "<table border=\"1\" class=\"dataframe\">\n",
              "  <thead>\n",
              "    <tr style=\"text-align: right;\">\n",
              "      <th></th>\n",
              "      <th>Actual</th>\n",
              "      <th>Predicted</th>\n",
              "    </tr>\n",
              "  </thead>\n",
              "  <tbody>\n",
              "    <tr>\n",
              "      <th>0</th>\n",
              "      <td>2.39698</td>\n",
              "      <td>2.472918</td>\n",
              "    </tr>\n",
              "    <tr>\n",
              "      <th>1</th>\n",
              "      <td>2.66026</td>\n",
              "      <td>2.703206</td>\n",
              "    </tr>\n",
              "    <tr>\n",
              "      <th>2</th>\n",
              "      <td>2.75597</td>\n",
              "      <td>2.748598</td>\n",
              "    </tr>\n",
              "    <tr>\n",
              "      <th>3</th>\n",
              "      <td>2.90832</td>\n",
              "      <td>2.856526</td>\n",
              "    </tr>\n",
              "    <tr>\n",
              "      <th>4</th>\n",
              "      <td>1.94031</td>\n",
              "      <td>1.992020</td>\n",
              "    </tr>\n",
              "    <tr>\n",
              "      <th>...</th>\n",
              "      <td>...</td>\n",
              "      <td>...</td>\n",
              "    </tr>\n",
              "    <tr>\n",
              "      <th>2113</th>\n",
              "      <td>2.13180</td>\n",
              "      <td>2.136987</td>\n",
              "    </tr>\n",
              "    <tr>\n",
              "      <th>2114</th>\n",
              "      <td>2.19643</td>\n",
              "      <td>2.200689</td>\n",
              "    </tr>\n",
              "    <tr>\n",
              "      <th>2115</th>\n",
              "      <td>2.36696</td>\n",
              "      <td>2.438194</td>\n",
              "    </tr>\n",
              "    <tr>\n",
              "      <th>2116</th>\n",
              "      <td>2.46800</td>\n",
              "      <td>2.434812</td>\n",
              "    </tr>\n",
              "    <tr>\n",
              "      <th>2117</th>\n",
              "      <td>2.54412</td>\n",
              "      <td>2.563725</td>\n",
              "    </tr>\n",
              "  </tbody>\n",
              "</table>\n",
              "<p>2118 rows × 2 columns</p>\n",
              "</div>"
            ],
            "text/plain": [
              "       Actual  Predicted\n",
              "0     2.39698   2.472918\n",
              "1     2.66026   2.703206\n",
              "2     2.75597   2.748598\n",
              "3     2.90832   2.856526\n",
              "4     1.94031   1.992020\n",
              "...       ...        ...\n",
              "2113  2.13180   2.136987\n",
              "2114  2.19643   2.200689\n",
              "2115  2.36696   2.438194\n",
              "2116  2.46800   2.434812\n",
              "2117  2.54412   2.563725\n",
              "\n",
              "[2118 rows x 2 columns]"
            ]
          },
          "metadata": {
            "tags": []
          },
          "execution_count": 26
        }
      ]
    },
    {
      "cell_type": "markdown",
      "metadata": {
        "colab_type": "text",
        "id": "VGq9Mn7yTaUZ"
      },
      "source": [
        "Biểu đồ biễu diển 2 giá trị thực sự và dự đoán"
      ]
    },
    {
      "cell_type": "code",
      "metadata": {
        "colab_type": "code",
        "outputId": "dc827e49-187d-4e62-d933-9437171d2550",
        "id": "HEs6IbMTTaUZ",
        "colab": {
          "base_uri": "https://localhost:8080/",
          "height": 594
        }
      },
      "source": [
        "df1 = df.head(25)\n",
        "df1.plot(kind='bar',figsize=(16,10))\n",
        "plt.grid(which='major', linestyle='-', linewidth='0.5', color='green')\n",
        "plt.grid(which='minor', linestyle=':', linewidth='0.5', color='black')\n",
        "plt.show()"
      ],
      "execution_count": 0,
      "outputs": [
        {
          "output_type": "display_data",
          "data": {
            "image/png": "[encoded data removed]",
            "text/plain": [
              "<Figure size 1152x720 with 1 Axes>"
            ]
          },
          "metadata": {
            "tags": [],
            "needs_background": "light"
          }
        }
      ]
    },
    {
      "cell_type": "markdown",
      "metadata": {
        "colab_type": "text",
        "id": "jxIVBr7kTaUb"
      },
      "source": [
        "In ra:\n",
        "\n",
        "dòng 1 MSE: lỗi bình phương góc\n",
        "\n",
        "dòng 2 : độ chính xác của model trong huấn luyện train\n",
        "\n",
        "dòng 3 : độ chính xác của model trong huấn luyện test\n",
        "\n",
        "\n"
      ]
    },
    {
      "cell_type": "code",
      "metadata": {
        "colab_type": "code",
        "outputId": "969dd23a-53c0-495f-f173-07f9a4679568",
        "id": "-x0S9Lb_TaUb",
        "colab": {
          "base_uri": "https://localhost:8080/",
          "height": 67
        }
      },
      "source": [
        "import sklearn.metrics as metrics\n",
        "print('Mean Squared Error:', metrics.mean_squared_error(y_test, y_pred))  \n",
        "print(regressor.score(X_train,y_train))\n",
        "print(regressor.score(X_test,y_test))"
      ],
      "execution_count": 0,
      "outputs": [
        {
          "output_type": "stream",
          "text": [
            "Mean Squared Error: 0.0033020795124207906\n",
            "0.9884332601352819\n",
            "0.9882067807766125\n"
          ],
          "name": "stdout"
        }
      ]
    },
    {
      "cell_type": "markdown",
      "metadata": {
        "id": "NkoanIaLUWPN",
        "colab_type": "text"
      },
      "source": [
        "-Model mới có performance tốt hơn model cũ\n",
        "\n",
        "-Phân tích sự khác biệt:\n",
        "\n",
        "+Model mới xuất hiện thêm 2 feature mới\n",
        "\n",
        "+MSE của Model cũ lớn hơn Model mới ~ 0.000293 (Hàm rủi ro)\n",
        "\n",
        "+Độ chính xác model trong quá trình training data của Model cũ ít hơn Model mới ~ 0.000029\n",
        "\n",
        "+Độ chính xác model trong quá trình test data của Model cũ ít hơn Model mới ~ 0.000042\n"
      ]
    }
  ]
}