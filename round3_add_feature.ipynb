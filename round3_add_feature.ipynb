{
  "nbformat": 4,
  "nbformat_minor": 0,
  "metadata": {
    "colab": {
      "name": " round3 add feature.ipynb",
      "provenance": [],
      "authorship_tag": "ABX9TyMJQm32W0dcaYZhMmwaeUzJ",
      "include_colab_link": true
    },
    "kernelspec": {
      "name": "python3",
      "display_name": "Python 3"
    }
  },
  "cells": [
    {
      "cell_type": "markdown",
      "metadata": {
        "id": "view-in-github",
        "colab_type": "text"
      },
      "source": [
        "<a href=\"https://colab.research.google.com/github/Long-1234kfgkl/CS114.K21/blob/master/round3_add_feature.ipynb\" target=\"_parent\"><img src=\"https://colab.research.google.com/assets/colab-badge.svg\" alt=\"Open In Colab\"/></a>"
      ]
    },
    {
      "cell_type": "markdown",
      "metadata": {
        "id": "TPOlWl0tu84g",
        "colab_type": "text"
      },
      "source": [
        "import thư viện"
      ]
    },
    {
      "cell_type": "code",
      "metadata": {
        "id": "OhmTr0OjtS-z",
        "colab_type": "code",
        "colab": {
          "base_uri": "https://localhost:8080/",
          "height": 70
        },
        "outputId": "2075732d-6c52-4bba-f4c2-48de37ddcff5"
      },
      "source": [
        "import pandas as pd  \n",
        "import numpy as np  \n",
        "import matplotlib.pyplot as plt  \n",
        "import seaborn as seabornInstance \n",
        "from sklearn.model_selection import train_test_split \n",
        "from sklearn.linear_model import LinearRegression\n",
        "from sklearn import metrics\n",
        "%matplotlib inline"
      ],
      "execution_count": 2,
      "outputs": [
        {
          "output_type": "stream",
          "text": [
            "/usr/local/lib/python3.6/dist-packages/statsmodels/tools/_testing.py:19: FutureWarning: pandas.util.testing is deprecated. Use the functions in the public API at pandas.testing instead.\n",
            "  import pandas.util.testing as tm\n"
          ],
          "name": "stderr"
        }
      ]
    },
    {
      "cell_type": "markdown",
      "metadata": {
        "id": "UlDdZ18p18Ew",
        "colab_type": "text"
      },
      "source": [
        "load data từ link\"http://cs.uit.edu.vn/data3.txt\"\n",
        "Đặt 2 column là Size và Time"
      ]
    },
    {
      "cell_type": "code",
      "metadata": {
        "id": "LgqMnlpdtb0p",
        "colab_type": "code",
        "colab": {}
      },
      "source": [
        "dataset = pd.read_csv(\"http://cs.uit.edu.vn/data3.txt\",sep=' ',delimiter=',')\n",
        "dataset.columns=[\"Size\",\"Time\"]"
      ],
      "execution_count": 0,
      "outputs": []
    },
    {
      "cell_type": "markdown",
      "metadata": {
        "id": "JuUSvKO1vMba",
        "colab_type": "text"
      },
      "source": [
        "in ra các cột và hàng của dataset"
      ]
    },
    {
      "cell_type": "code",
      "metadata": {
        "id": "1XCeLZT82UVL",
        "colab_type": "code",
        "colab": {}
      },
      "source": [
        "import math\n",
        "df=pd.DataFrame(dataset)\n",
        "Size2=df['Size']**2\n",
        "Sizelog=[df['Size'][i]*math.log(df['Size'][i]) for i in range(len(dataset))]\n",
        "df['Size2']=Size2\n",
        "df['Sizelog']=Sizelog"
      ],
      "execution_count": 0,
      "outputs": []
    },
    {
      "cell_type": "code",
      "metadata": {
        "id": "xEpKDWmatmwy",
        "colab_type": "code",
        "outputId": "21bf2944-87dd-428c-f72d-becffcb65387",
        "colab": {
          "base_uri": "https://localhost:8080/",
          "height": 34
        }
      },
      "source": [
        "dataset.shape"
      ],
      "execution_count": 19,
      "outputs": [
        {
          "output_type": "execute_result",
          "data": {
            "text/plain": [
              "(10589, 4)"
            ]
          },
          "metadata": {
            "tags": []
          },
          "execution_count": 19
        }
      ]
    },
    {
      "cell_type": "markdown",
      "metadata": {
        "id": "XWbqVZvzvR9q",
        "colab_type": "text"
      },
      "source": [
        "In ra một số cặp data,label"
      ]
    },
    {
      "cell_type": "code",
      "metadata": {
        "id": "GG_rFfA2tr6k",
        "colab_type": "code",
        "outputId": "5a6609cb-36b4-4956-9287-11fa6b51ec41",
        "colab": {
          "base_uri": "https://localhost:8080/",
          "height": 195
        }
      },
      "source": [
        "dataset.head()"
      ],
      "execution_count": 20,
      "outputs": [
        {
          "output_type": "execute_result",
          "data": {
            "text/html": [
              "<div>\n",
              "<style scoped>\n",
              "    .dataframe tbody tr th:only-of-type {\n",
              "        vertical-align: middle;\n",
              "    }\n",
              "\n",
              "    .dataframe tbody tr th {\n",
              "        vertical-align: top;\n",
              "    }\n",
              "\n",
              "    .dataframe thead th {\n",
              "        text-align: right;\n",
              "    }\n",
              "</style>\n",
              "<table border=\"1\" class=\"dataframe\">\n",
              "  <thead>\n",
              "    <tr style=\"text-align: right;\">\n",
              "      <th></th>\n",
              "      <th>Size</th>\n",
              "      <th>Time</th>\n",
              "      <th>Size2</th>\n",
              "      <th>Sizelog</th>\n",
              "    </tr>\n",
              "  </thead>\n",
              "  <tbody>\n",
              "    <tr>\n",
              "      <th>0</th>\n",
              "      <td>37395246</td>\n",
              "      <td>3.92089</td>\n",
              "      <td>1398404423400516</td>\n",
              "      <td>6.520629e+08</td>\n",
              "    </tr>\n",
              "    <tr>\n",
              "      <th>1</th>\n",
              "      <td>36610827</td>\n",
              "      <td>3.21540</td>\n",
              "      <td>1340352653623929</td>\n",
              "      <td>6.376088e+08</td>\n",
              "    </tr>\n",
              "    <tr>\n",
              "      <th>2</th>\n",
              "      <td>29555651</td>\n",
              "      <td>2.54506</td>\n",
              "      <td>873536506033801</td>\n",
              "      <td>5.084100e+08</td>\n",
              "    </tr>\n",
              "    <tr>\n",
              "      <th>3</th>\n",
              "      <td>25928216</td>\n",
              "      <td>2.21831</td>\n",
              "      <td>672272384942656</td>\n",
              "      <td>4.426165e+08</td>\n",
              "    </tr>\n",
              "    <tr>\n",
              "      <th>4</th>\n",
              "      <td>30423112</td>\n",
              "      <td>2.61376</td>\n",
              "      <td>925565743764544</td>\n",
              "      <td>5.242119e+08</td>\n",
              "    </tr>\n",
              "  </tbody>\n",
              "</table>\n",
              "</div>"
            ],
            "text/plain": [
              "       Size     Time             Size2       Sizelog\n",
              "0  37395246  3.92089  1398404423400516  6.520629e+08\n",
              "1  36610827  3.21540  1340352653623929  6.376088e+08\n",
              "2  29555651  2.54506   873536506033801  5.084100e+08\n",
              "3  25928216  2.21831   672272384942656  4.426165e+08\n",
              "4  30423112  2.61376   925565743764544  5.242119e+08"
            ]
          },
          "metadata": {
            "tags": []
          },
          "execution_count": 20
        }
      ]
    },
    {
      "cell_type": "markdown",
      "metadata": {
        "id": "sxKowS88vXID",
        "colab_type": "text"
      },
      "source": [
        "Bảng thống kê dataset ta đưa vào"
      ]
    },
    {
      "cell_type": "code",
      "metadata": {
        "id": "nf1dKx8atvOn",
        "colab_type": "code",
        "outputId": "0983608b-8987-4196-cccd-95cb980fd34d",
        "colab": {
          "base_uri": "https://localhost:8080/",
          "height": 284
        }
      },
      "source": [
        "dataset.describe()"
      ],
      "execution_count": 21,
      "outputs": [
        {
          "output_type": "execute_result",
          "data": {
            "text/html": [
              "<div>\n",
              "<style scoped>\n",
              "    .dataframe tbody tr th:only-of-type {\n",
              "        vertical-align: middle;\n",
              "    }\n",
              "\n",
              "    .dataframe tbody tr th {\n",
              "        vertical-align: top;\n",
              "    }\n",
              "\n",
              "    .dataframe thead th {\n",
              "        text-align: right;\n",
              "    }\n",
              "</style>\n",
              "<table border=\"1\" class=\"dataframe\">\n",
              "  <thead>\n",
              "    <tr style=\"text-align: right;\">\n",
              "      <th></th>\n",
              "      <th>Size</th>\n",
              "      <th>Time</th>\n",
              "      <th>Size2</th>\n",
              "      <th>Sizelog</th>\n",
              "    </tr>\n",
              "  </thead>\n",
              "  <tbody>\n",
              "    <tr>\n",
              "      <th>count</th>\n",
              "      <td>1.058900e+04</td>\n",
              "      <td>10589.000000</td>\n",
              "      <td>1.058900e+04</td>\n",
              "      <td>1.058900e+04</td>\n",
              "    </tr>\n",
              "    <tr>\n",
              "      <th>mean</th>\n",
              "      <td>2.999203e+07</td>\n",
              "      <td>2.642672</td>\n",
              "      <td>9.326867e+14</td>\n",
              "      <td>5.169152e+08</td>\n",
              "    </tr>\n",
              "    <tr>\n",
              "      <th>std</th>\n",
              "      <td>5.759148e+06</td>\n",
              "      <td>0.537139</td>\n",
              "      <td>3.468268e+14</td>\n",
              "      <td>1.048486e+08</td>\n",
              "    </tr>\n",
              "    <tr>\n",
              "      <th>min</th>\n",
              "      <td>2.000026e+07</td>\n",
              "      <td>1.669640</td>\n",
              "      <td>4.000106e+14</td>\n",
              "      <td>3.362296e+08</td>\n",
              "    </tr>\n",
              "    <tr>\n",
              "      <th>25%</th>\n",
              "      <td>2.503760e+07</td>\n",
              "      <td>2.180550</td>\n",
              "      <td>6.268812e+14</td>\n",
              "      <td>4.265377e+08</td>\n",
              "    </tr>\n",
              "    <tr>\n",
              "      <th>50%</th>\n",
              "      <td>2.994401e+07</td>\n",
              "      <td>2.639820</td>\n",
              "      <td>8.966436e+14</td>\n",
              "      <td>5.154813e+08</td>\n",
              "    </tr>\n",
              "    <tr>\n",
              "      <th>75%</th>\n",
              "      <td>3.500653e+07</td>\n",
              "      <td>3.100140</td>\n",
              "      <td>1.225457e+15</td>\n",
              "      <td>6.081000e+08</td>\n",
              "    </tr>\n",
              "    <tr>\n",
              "      <th>max</th>\n",
              "      <td>3.999734e+07</td>\n",
              "      <td>4.287660</td>\n",
              "      <td>1.599787e+15</td>\n",
              "      <td>7.001264e+08</td>\n",
              "    </tr>\n",
              "  </tbody>\n",
              "</table>\n",
              "</div>"
            ],
            "text/plain": [
              "               Size          Time         Size2       Sizelog\n",
              "count  1.058900e+04  10589.000000  1.058900e+04  1.058900e+04\n",
              "mean   2.999203e+07      2.642672  9.326867e+14  5.169152e+08\n",
              "std    5.759148e+06      0.537139  3.468268e+14  1.048486e+08\n",
              "min    2.000026e+07      1.669640  4.000106e+14  3.362296e+08\n",
              "25%    2.503760e+07      2.180550  6.268812e+14  4.265377e+08\n",
              "50%    2.994401e+07      2.639820  8.966436e+14  5.154813e+08\n",
              "75%    3.500653e+07      3.100140  1.225457e+15  6.081000e+08\n",
              "max    3.999734e+07      4.287660  1.599787e+15  7.001264e+08"
            ]
          },
          "metadata": {
            "tags": []
          },
          "execution_count": 21
        }
      ]
    },
    {
      "cell_type": "markdown",
      "metadata": {
        "id": "Ut1B4zBoyxb1",
        "colab_type": "text"
      },
      "source": [
        "Biểu diễn các điểm là mối liên hệ giữa 2 feature Size và Time (BIỂU ĐỒ)"
      ]
    },
    {
      "cell_type": "code",
      "metadata": {
        "id": "pWECjncztxD4",
        "colab_type": "code",
        "outputId": "455538be-7ee7-48b0-9f02-846a2a1d5265",
        "colab": {
          "base_uri": "https://localhost:8080/",
          "height": 295
        }
      },
      "source": [
        "dataset.plot (x = 'Size', y = 'Time', style = 'o')\n",
        "plt.title ( 'Size and Time')   \n",
        "plt.xlabel ( 'Size')   \n",
        "plt.ylabel ( 'Time') \n",
        "plt.show()"
      ],
      "execution_count": 8,
      "outputs": [
        {
          "output_type": "display_data",
          "data": {
            "image/png": "[encoded data removed]",
            "text/plain": [
              "<Figure size 432x288 with 1 Axes>"
            ]
          },
          "metadata": {
            "tags": [],
            "needs_background": "light"
          }
        }
      ]
    },
    {
      "cell_type": "markdown",
      "metadata": {
        "id": "tXoi6OjUvouz",
        "colab_type": "text"
      },
      "source": [
        " đưa 2 feature Size và Time vào các biến X và y (đã được biến thàng dạng vector 1 chiều)"
      ]
    },
    {
      "cell_type": "code",
      "metadata": {
        "id": "mBRcpauStzmk",
        "colab_type": "code",
        "colab": {}
      },
      "source": [
        "X = dataset[['Size','Size2','Sizelog']]\n",
        "y = dataset['Time'].values.reshape(-1,1)"
      ],
      "execution_count": 0,
      "outputs": []
    },
    {
      "cell_type": "markdown",
      "metadata": {
        "id": "qA7Ze3Cpv2kV",
        "colab_type": "text"
      },
      "source": [
        "chia bộ dữ liệu thành 2 bộ, 80% cho training, 20% cho test"
      ]
    },
    {
      "cell_type": "code",
      "metadata": {
        "id": "c-NuUVcbt8jN",
        "colab_type": "code",
        "colab": {}
      },
      "source": [
        "X_train, X_test, y_train, y_test = train_test_split(X, y, test_size=0.2, random_state=0)"
      ],
      "execution_count": 0,
      "outputs": []
    },
    {
      "cell_type": "markdown",
      "metadata": {
        "id": "4tuFnp182mUi",
        "colab_type": "text"
      },
      "source": [
        "Chọn model là LinearRegression\n",
        "fit model"
      ]
    },
    {
      "cell_type": "code",
      "metadata": {
        "id": "YESOTYODt-u1",
        "colab_type": "code",
        "outputId": "a10a42ed-1a7f-4bd1-d4f1-47d33807928e",
        "colab": {
          "base_uri": "https://localhost:8080/",
          "height": 34
        }
      },
      "source": [
        "regressor = LinearRegression(fit_intercept=True)  \n",
        "regressor.fit(X_train, y_train) #training the algorithm"
      ],
      "execution_count": 24,
      "outputs": [
        {
          "output_type": "execute_result",
          "data": {
            "text/plain": [
              "LinearRegression(copy_X=True, fit_intercept=True, n_jobs=None, normalize=False)"
            ]
          },
          "metadata": {
            "tags": []
          },
          "execution_count": 24
        }
      ]
    },
    {
      "cell_type": "code",
      "metadata": {
        "id": "-xHZXKgTwH0t",
        "colab_type": "code",
        "colab": {}
      },
      "source": [
        "predict dữ liệu"
      ],
      "execution_count": 0,
      "outputs": []
    },
    {
      "cell_type": "code",
      "metadata": {
        "id": "dvpbom1nuCpR",
        "colab_type": "code",
        "colab": {}
      },
      "source": [
        "y_pred = regressor.predict(X_test)"
      ],
      "execution_count": 0,
      "outputs": []
    },
    {
      "cell_type": "code",
      "metadata": {
        "id": "-Oa7RjFGwKQ1",
        "colab_type": "code",
        "colab": {}
      },
      "source": [
        "Bảng hai giá trị thực và giá trị đã dự đoán"
      ],
      "execution_count": 0,
      "outputs": []
    },
    {
      "cell_type": "code",
      "metadata": {
        "id": "k0d7FqP4uEvU",
        "colab_type": "code",
        "outputId": "60922cde-fd17-4a13-bcb5-2eb93ce2cb7e",
        "colab": {
          "base_uri": "https://localhost:8080/",
          "height": 402
        }
      },
      "source": [
        "df = pd.DataFrame({'Actual': y_test.flatten(), 'Predicted': y_pred.flatten()})\n",
        "df"
      ],
      "execution_count": 26,
      "outputs": [
        {
          "output_type": "execute_result",
          "data": {
            "text/html": [
              "<div>\n",
              "<style scoped>\n",
              "    .dataframe tbody tr th:only-of-type {\n",
              "        vertical-align: middle;\n",
              "    }\n",
              "\n",
              "    .dataframe tbody tr th {\n",
              "        vertical-align: top;\n",
              "    }\n",
              "\n",
              "    .dataframe thead th {\n",
              "        text-align: right;\n",
              "    }\n",
              "</style>\n",
              "<table border=\"1\" class=\"dataframe\">\n",
              "  <thead>\n",
              "    <tr style=\"text-align: right;\">\n",
              "      <th></th>\n",
              "      <th>Actual</th>\n",
              "      <th>Predicted</th>\n",
              "    </tr>\n",
              "  </thead>\n",
              "  <tbody>\n",
              "    <tr>\n",
              "      <th>0</th>\n",
              "      <td>2.39698</td>\n",
              "      <td>2.472918</td>\n",
              "    </tr>\n",
              "    <tr>\n",
              "      <th>1</th>\n",
              "      <td>2.66026</td>\n",
              "      <td>2.703206</td>\n",
              "    </tr>\n",
              "    <tr>\n",
              "      <th>2</th>\n",
              "      <td>2.75597</td>\n",
              "      <td>2.748598</td>\n",
              "    </tr>\n",
              "    <tr>\n",
              "      <th>3</th>\n",
              "      <td>2.90832</td>\n",
              "      <td>2.856526</td>\n",
              "    </tr>\n",
              "    <tr>\n",
              "      <th>4</th>\n",
              "      <td>1.94031</td>\n",
              "      <td>1.992020</td>\n",
              "    </tr>\n",
              "    <tr>\n",
              "      <th>...</th>\n",
              "      <td>...</td>\n",
              "      <td>...</td>\n",
              "    </tr>\n",
              "    <tr>\n",
              "      <th>2113</th>\n",
              "      <td>2.13180</td>\n",
              "      <td>2.136987</td>\n",
              "    </tr>\n",
              "    <tr>\n",
              "      <th>2114</th>\n",
              "      <td>2.19643</td>\n",
              "      <td>2.200689</td>\n",
              "    </tr>\n",
              "    <tr>\n",
              "      <th>2115</th>\n",
              "      <td>2.36696</td>\n",
              "      <td>2.438194</td>\n",
              "    </tr>\n",
              "    <tr>\n",
              "      <th>2116</th>\n",
              "      <td>2.46800</td>\n",
              "      <td>2.434812</td>\n",
              "    </tr>\n",
              "    <tr>\n",
              "      <th>2117</th>\n",
              "      <td>2.54412</td>\n",
              "      <td>2.563725</td>\n",
              "    </tr>\n",
              "  </tbody>\n",
              "</table>\n",
              "<p>2118 rows × 2 columns</p>\n",
              "</div>"
            ],
            "text/plain": [
              "       Actual  Predicted\n",
              "0     2.39698   2.472918\n",
              "1     2.66026   2.703206\n",
              "2     2.75597   2.748598\n",
              "3     2.90832   2.856526\n",
              "4     1.94031   1.992020\n",
              "...       ...        ...\n",
              "2113  2.13180   2.136987\n",
              "2114  2.19643   2.200689\n",
              "2115  2.36696   2.438194\n",
              "2116  2.46800   2.434812\n",
              "2117  2.54412   2.563725\n",
              "\n",
              "[2118 rows x 2 columns]"
            ]
          },
          "metadata": {
            "tags": []
          },
          "execution_count": 26
        }
      ]
    },
    {
      "cell_type": "markdown",
      "metadata": {
        "id": "zRnejrnDwPi2",
        "colab_type": "text"
      },
      "source": [
        "Biểu đồ biễu diển 2 giá trị thực sự và dự đoán"
      ]
    },
    {
      "cell_type": "code",
      "metadata": {
        "id": "u4Z7fW3HuHZA",
        "colab_type": "code",
        "outputId": "dc827e49-187d-4e62-d933-9437171d2550",
        "colab": {
          "base_uri": "https://localhost:8080/",
          "height": 594
        }
      },
      "source": [
        "df1 = df.head(25)\n",
        "df1.plot(kind='bar',figsize=(16,10))\n",
        "plt.grid(which='major', linestyle='-', linewidth='0.5', color='green')\n",
        "plt.grid(which='minor', linestyle=':', linewidth='0.5', color='black')\n",
        "plt.show()"
      ],
      "execution_count": 27,
      "outputs": [
        {
          "output_type": "display_data",
          "data": {
            "image/png": "[encoded data removed]",
            "text/plain": [
              "<Figure size 1152x720 with 1 Axes>"
            ]
          },
          "metadata": {
            "tags": [],
            "needs_background": "light"
          }
        }
      ]
    },
    {
      "cell_type": "markdown",
      "metadata": {
        "id": "a2dI-bfRwkAF",
        "colab_type": "text"
      },
      "source": [
        "In ra:\n",
        "dòng 1 MSQ: lỗi bình phương góc\n",
        ",dòng 2 : độ chính xác trong huấn luyện train\n",
        ",dòng 3 : độ chính xác trong huấn luyện test\n",
        "\n",
        "\n"
      ]
    },
    {
      "cell_type": "code",
      "metadata": {
        "id": "bltALjdVuNC3",
        "colab_type": "code",
        "outputId": "969dd23a-53c0-495f-f173-07f9a4679568",
        "colab": {
          "base_uri": "https://localhost:8080/",
          "height": 67
        }
      },
      "source": [
        "import sklearn.metrics as metrics\n",
        "print('Mean Squared Error:', metrics.mean_squared_error(y_test, y_pred))  \n",
        "print(regressor.score(X_train,y_train))\n",
        "print(regressor.score(X_test,y_test))"
      ],
      "execution_count": 28,
      "outputs": [
        {
          "output_type": "stream",
          "text": [
            "Mean Squared Error: 0.0033020795124207906\n",
            "0.9884332601352819\n",
            "0.9882067807766125\n"
          ],
          "name": "stdout"
        }
      ]
    }
  ]
}